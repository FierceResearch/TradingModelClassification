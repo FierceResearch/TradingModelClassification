{
 "cells": [
  {
   "cell_type": "markdown",
   "metadata": {},
   "source": [
    "# Equity Trading Model (Enhanced) "
   ]
  },
  {
   "cell_type": "markdown",
   "metadata": {},
   "source": [
    "The Global Coronavirus Crisis (GCC) has offered tremendous trading opportunities in financial markets due to strong trends and high volatility spikes across all asset classes.\n",
    "\n",
    "#### Thesis:\n",
    "This research project aims to predict if the price of a security will be higher or lower in N-days from now using price-based (Technical) indicators and fundamental metrics as features.\n",
    "\n",
    "#### Label:\n",
    "- y = close price in N day > today, 1, else 0\n",
    "\n",
    "#### Features:\n",
    "Volatility:\n",
    "- Average True Range\n",
    "- Bollinger Bands with 1 STD\n",
    "- Equity Volatility Index (VIX)\n",
    "\n",
    "Trend Following:\n",
    "- Moving Average Convergence Divergence Spread\n",
    "- N-day Simple Moving Average\n",
    "- Average Directional Index\n",
    "\n",
    "Trend Reversal:\n",
    "- Relative Strength Index\n",
    "- Stochastic Spread\n",
    "- Volume Spread\n",
    "\n",
    "Fundamental Metrics:\n",
    "- Enterprise Value\n",
    "- Total Debt to EV\n",
    "- EV to Sales\n",
    "- Price to Sales Per Share\n",
    "- EV to EBIT\n",
    "- Price to Earnings\n",
    "- Price to Cash Flow Per Share\n",
    "- EV to Operating Cash Flow Per Share\n",
    "- Price to Book Value Per Share\n",
    "- Price to Tangible Book Value Per Share\n",
    "- EV to EBITDA"
   ]
  },
  {
   "cell_type": "markdown",
   "metadata": {},
   "source": [
    "### Import Packages"
   ]
  },
  {
   "cell_type": "code",
   "execution_count": 1,
   "metadata": {},
   "outputs": [],
   "source": [
    "import numpy as np\n",
    "import pandas as pd\n",
    "\n",
    "import matplotlib.pyplot as plt\n",
    "%matplotlib inline\n",
    "import seaborn as sns\n",
    "plt.style.use('seaborn-dark-palette')\n",
    "\n",
    "import warnings \n",
    "warnings.filterwarnings('ignore')"
   ]
  },
  {
   "cell_type": "markdown",
   "metadata": {},
   "source": [
    "### Import & Clean Data"
   ]
  },
  {
   "cell_type": "markdown",
   "metadata": {},
   "source": [
    "CSV Data Pull"
   ]
  },
  {
   "cell_type": "markdown",
   "metadata": {},
   "source": [
    "import csv \n",
    "df = pd.read_csv('aapl.csv')\n",
    "\n",
    "df['Date'] = pd.to_datetime(df['Date'])\n",
    "df.set_index('Date', inplace=True) \n",
    "df.index = df.index.map(lambda t: t.strftime('%Y-%m-%d'))\n",
    "\n",
    "ric = 'AAPL.O' \n",
    "\n",
    "df.columns = ['priceclose','priceopen','pricehigh','pricelow','volume','ev','totdebttoev','evtosales','ptosps','evtoebit','pe','ptocfps','evtoopcf','ptobvps','ptotanbvpershare','evtoebitda','vix']\n",
    "\n",
    "df"
   ]
  },
  {
   "cell_type": "markdown",
   "metadata": {},
   "source": [
    "API Data Pull"
   ]
  },
  {
   "cell_type": "code",
   "execution_count": 2,
   "metadata": {},
   "outputs": [
    {
     "data": {
      "text/html": [
       "<div>\n",
       "<style scoped>\n",
       "    .dataframe tbody tr th:only-of-type {\n",
       "        vertical-align: middle;\n",
       "    }\n",
       "\n",
       "    .dataframe tbody tr th {\n",
       "        vertical-align: top;\n",
       "    }\n",
       "\n",
       "    .dataframe thead th {\n",
       "        text-align: right;\n",
       "    }\n",
       "</style>\n",
       "<table border=\"1\" class=\"dataframe\">\n",
       "  <thead>\n",
       "    <tr style=\"text-align: right;\">\n",
       "      <th></th>\n",
       "      <th>instrument</th>\n",
       "      <th>priceclose</th>\n",
       "      <th>priceopen</th>\n",
       "      <th>pricehigh</th>\n",
       "      <th>pricelow</th>\n",
       "      <th>volume</th>\n",
       "      <th>ev</th>\n",
       "      <th>totdebttoev</th>\n",
       "      <th>evtosales</th>\n",
       "      <th>ptosps</th>\n",
       "      <th>evtoebit</th>\n",
       "      <th>pe</th>\n",
       "      <th>ptocfps</th>\n",
       "      <th>evtoopcf</th>\n",
       "      <th>ptobvps</th>\n",
       "      <th>ptotanbvpershare</th>\n",
       "      <th>evtoebitda</th>\n",
       "    </tr>\n",
       "    <tr>\n",
       "      <th>Date</th>\n",
       "      <th></th>\n",
       "      <th></th>\n",
       "      <th></th>\n",
       "      <th></th>\n",
       "      <th></th>\n",
       "      <th></th>\n",
       "      <th></th>\n",
       "      <th></th>\n",
       "      <th></th>\n",
       "      <th></th>\n",
       "      <th></th>\n",
       "      <th></th>\n",
       "      <th></th>\n",
       "      <th></th>\n",
       "      <th></th>\n",
       "      <th></th>\n",
       "      <th></th>\n",
       "    </tr>\n",
       "  </thead>\n",
       "  <tbody>\n",
       "    <tr>\n",
       "      <th>2000-01-31</th>\n",
       "      <td>AAPL.O</td>\n",
       "      <td>0.93</td>\n",
       "      <td>0.90</td>\n",
       "      <td>0.93</td>\n",
       "      <td>0.84</td>\n",
       "      <td>701680701</td>\n",
       "      <td>NaN</td>\n",
       "      <td>2.220537</td>\n",
       "      <td>2.00</td>\n",
       "      <td>2.69</td>\n",
       "      <td>36.812656</td>\n",
       "      <td>28.121990</td>\n",
       "      <td>18.76</td>\n",
       "      <td>13.90</td>\n",
       "      <td>3.92</td>\n",
       "      <td>3.92</td>\n",
       "      <td>30.089632</td>\n",
       "    </tr>\n",
       "    <tr>\n",
       "      <th>2000-02-01</th>\n",
       "      <td>AAPL.O</td>\n",
       "      <td>0.90</td>\n",
       "      <td>0.93</td>\n",
       "      <td>0.94</td>\n",
       "      <td>0.89</td>\n",
       "      <td>318035518</td>\n",
       "      <td>NaN</td>\n",
       "      <td>2.317284</td>\n",
       "      <td>1.91</td>\n",
       "      <td>2.60</td>\n",
       "      <td>35.275718</td>\n",
       "      <td>27.173297</td>\n",
       "      <td>18.13</td>\n",
       "      <td>13.32</td>\n",
       "      <td>3.79</td>\n",
       "      <td>3.79</td>\n",
       "      <td>28.833382</td>\n",
       "    </tr>\n",
       "    <tr>\n",
       "      <th>2000-02-02</th>\n",
       "      <td>AAPL.O</td>\n",
       "      <td>0.88</td>\n",
       "      <td>0.90</td>\n",
       "      <td>0.91</td>\n",
       "      <td>0.87</td>\n",
       "      <td>464195664</td>\n",
       "      <td>NaN</td>\n",
       "      <td>2.359507</td>\n",
       "      <td>1.88</td>\n",
       "      <td>2.57</td>\n",
       "      <td>34.644475</td>\n",
       "      <td>26.783655</td>\n",
       "      <td>17.87</td>\n",
       "      <td>13.08</td>\n",
       "      <td>3.74</td>\n",
       "      <td>3.74</td>\n",
       "      <td>28.317422</td>\n",
       "    </tr>\n",
       "    <tr>\n",
       "      <th>2000-02-03</th>\n",
       "      <td>AAPL.O</td>\n",
       "      <td>0.92</td>\n",
       "      <td>0.90</td>\n",
       "      <td>0.93</td>\n",
       "      <td>0.90</td>\n",
       "      <td>475194075</td>\n",
       "      <td>NaN</td>\n",
       "      <td>2.232186</td>\n",
       "      <td>1.99</td>\n",
       "      <td>2.68</td>\n",
       "      <td>36.620539</td>\n",
       "      <td>28.003404</td>\n",
       "      <td>18.68</td>\n",
       "      <td>13.83</td>\n",
       "      <td>3.91</td>\n",
       "      <td>3.91</td>\n",
       "      <td>29.932601</td>\n",
       "    </tr>\n",
       "    <tr>\n",
       "      <th>2000-02-04</th>\n",
       "      <td>AAPL.O</td>\n",
       "      <td>0.96</td>\n",
       "      <td>0.93</td>\n",
       "      <td>0.98</td>\n",
       "      <td>0.93</td>\n",
       "      <td>425320425</td>\n",
       "      <td>NaN</td>\n",
       "      <td>2.113395</td>\n",
       "      <td>2.10</td>\n",
       "      <td>2.81</td>\n",
       "      <td>38.678939</td>\n",
       "      <td>29.273975</td>\n",
       "      <td>19.53</td>\n",
       "      <td>14.60</td>\n",
       "      <td>4.08</td>\n",
       "      <td>4.08</td>\n",
       "      <td>31.615079</td>\n",
       "    </tr>\n",
       "    <tr>\n",
       "      <th>...</th>\n",
       "      <td>...</td>\n",
       "      <td>...</td>\n",
       "      <td>...</td>\n",
       "      <td>...</td>\n",
       "      <td>...</td>\n",
       "      <td>...</td>\n",
       "      <td>...</td>\n",
       "      <td>...</td>\n",
       "      <td>...</td>\n",
       "      <td>...</td>\n",
       "      <td>...</td>\n",
       "      <td>...</td>\n",
       "      <td>...</td>\n",
       "      <td>...</td>\n",
       "      <td>...</td>\n",
       "      <td>...</td>\n",
       "      <td>...</td>\n",
       "    </tr>\n",
       "    <tr>\n",
       "      <th>2020-11-16</th>\n",
       "      <td>AAPL.O</td>\n",
       "      <td>120.30</td>\n",
       "      <td>118.92</td>\n",
       "      <td>120.99</td>\n",
       "      <td>118.15</td>\n",
       "      <td>91183018</td>\n",
       "      <td>2.067471e+12</td>\n",
       "      <td>5.470307</td>\n",
       "      <td>7.53</td>\n",
       "      <td>7.68</td>\n",
       "      <td>31.189216</td>\n",
       "      <td>36.728899</td>\n",
       "      <td>26.14</td>\n",
       "      <td>25.63</td>\n",
       "      <td>31.26</td>\n",
       "      <td>31.26</td>\n",
       "      <td>26.730849</td>\n",
       "    </tr>\n",
       "    <tr>\n",
       "      <th>2020-11-17</th>\n",
       "      <td>AAPL.O</td>\n",
       "      <td>119.39</td>\n",
       "      <td>119.55</td>\n",
       "      <td>120.67</td>\n",
       "      <td>118.96</td>\n",
       "      <td>74270973</td>\n",
       "      <td>2.051999e+12</td>\n",
       "      <td>5.511552</td>\n",
       "      <td>7.47</td>\n",
       "      <td>7.62</td>\n",
       "      <td>30.955816</td>\n",
       "      <td>36.451066</td>\n",
       "      <td>25.94</td>\n",
       "      <td>25.44</td>\n",
       "      <td>31.02</td>\n",
       "      <td>31.02</td>\n",
       "      <td>26.530812</td>\n",
       "    </tr>\n",
       "    <tr>\n",
       "      <th>2020-11-18</th>\n",
       "      <td>AAPL.O</td>\n",
       "      <td>118.03</td>\n",
       "      <td>118.61</td>\n",
       "      <td>119.82</td>\n",
       "      <td>118.00</td>\n",
       "      <td>76322111</td>\n",
       "      <td>2.028877e+12</td>\n",
       "      <td>5.574365</td>\n",
       "      <td>7.39</td>\n",
       "      <td>7.54</td>\n",
       "      <td>30.606998</td>\n",
       "      <td>36.035843</td>\n",
       "      <td>25.64</td>\n",
       "      <td>25.15</td>\n",
       "      <td>30.67</td>\n",
       "      <td>30.67</td>\n",
       "      <td>26.231856</td>\n",
       "    </tr>\n",
       "    <tr>\n",
       "      <th>2020-11-19</th>\n",
       "      <td>AAPL.O</td>\n",
       "      <td>118.64</td>\n",
       "      <td>117.59</td>\n",
       "      <td>119.06</td>\n",
       "      <td>116.81</td>\n",
       "      <td>74112972</td>\n",
       "      <td>2.039248e+12</td>\n",
       "      <td>5.546016</td>\n",
       "      <td>7.43</td>\n",
       "      <td>7.58</td>\n",
       "      <td>30.763453</td>\n",
       "      <td>36.222083</td>\n",
       "      <td>25.78</td>\n",
       "      <td>25.28</td>\n",
       "      <td>30.83</td>\n",
       "      <td>30.83</td>\n",
       "      <td>26.365947</td>\n",
       "    </tr>\n",
       "    <tr>\n",
       "      <th>2020-11-20</th>\n",
       "      <td>AAPL.O</td>\n",
       "      <td>117.34</td>\n",
       "      <td>118.64</td>\n",
       "      <td>118.77</td>\n",
       "      <td>117.29</td>\n",
       "      <td>73604287</td>\n",
       "      <td>2.017145e+12</td>\n",
       "      <td>5.606785</td>\n",
       "      <td>7.35</td>\n",
       "      <td>7.49</td>\n",
       "      <td>30.430024</td>\n",
       "      <td>35.825179</td>\n",
       "      <td>25.49</td>\n",
       "      <td>25.00</td>\n",
       "      <td>30.49</td>\n",
       "      <td>30.49</td>\n",
       "      <td>26.080180</td>\n",
       "    </tr>\n",
       "  </tbody>\n",
       "</table>\n",
       "<p>5278 rows × 17 columns</p>\n",
       "</div>"
      ],
      "text/plain": [
       "           instrument  priceclose  priceopen  pricehigh  pricelow     volume  \\\n",
       "Date                                                                           \n",
       "2000-01-31     AAPL.O        0.93       0.90       0.93      0.84  701680701   \n",
       "2000-02-01     AAPL.O        0.90       0.93       0.94      0.89  318035518   \n",
       "2000-02-02     AAPL.O        0.88       0.90       0.91      0.87  464195664   \n",
       "2000-02-03     AAPL.O        0.92       0.90       0.93      0.90  475194075   \n",
       "2000-02-04     AAPL.O        0.96       0.93       0.98      0.93  425320425   \n",
       "...               ...         ...        ...        ...       ...        ...   \n",
       "2020-11-16     AAPL.O      120.30     118.92     120.99    118.15   91183018   \n",
       "2020-11-17     AAPL.O      119.39     119.55     120.67    118.96   74270973   \n",
       "2020-11-18     AAPL.O      118.03     118.61     119.82    118.00   76322111   \n",
       "2020-11-19     AAPL.O      118.64     117.59     119.06    116.81   74112972   \n",
       "2020-11-20     AAPL.O      117.34     118.64     118.77    117.29   73604287   \n",
       "\n",
       "                      ev  totdebttoev  evtosales  ptosps   evtoebit  \\\n",
       "Date                                                                  \n",
       "2000-01-31           NaN     2.220537       2.00    2.69  36.812656   \n",
       "2000-02-01           NaN     2.317284       1.91    2.60  35.275718   \n",
       "2000-02-02           NaN     2.359507       1.88    2.57  34.644475   \n",
       "2000-02-03           NaN     2.232186       1.99    2.68  36.620539   \n",
       "2000-02-04           NaN     2.113395       2.10    2.81  38.678939   \n",
       "...                  ...          ...        ...     ...        ...   \n",
       "2020-11-16  2.067471e+12     5.470307       7.53    7.68  31.189216   \n",
       "2020-11-17  2.051999e+12     5.511552       7.47    7.62  30.955816   \n",
       "2020-11-18  2.028877e+12     5.574365       7.39    7.54  30.606998   \n",
       "2020-11-19  2.039248e+12     5.546016       7.43    7.58  30.763453   \n",
       "2020-11-20  2.017145e+12     5.606785       7.35    7.49  30.430024   \n",
       "\n",
       "                   pe  ptocfps  evtoopcf  ptobvps  ptotanbvpershare  \\\n",
       "Date                                                                  \n",
       "2000-01-31  28.121990    18.76     13.90     3.92              3.92   \n",
       "2000-02-01  27.173297    18.13     13.32     3.79              3.79   \n",
       "2000-02-02  26.783655    17.87     13.08     3.74              3.74   \n",
       "2000-02-03  28.003404    18.68     13.83     3.91              3.91   \n",
       "2000-02-04  29.273975    19.53     14.60     4.08              4.08   \n",
       "...               ...      ...       ...      ...               ...   \n",
       "2020-11-16  36.728899    26.14     25.63    31.26             31.26   \n",
       "2020-11-17  36.451066    25.94     25.44    31.02             31.02   \n",
       "2020-11-18  36.035843    25.64     25.15    30.67             30.67   \n",
       "2020-11-19  36.222083    25.78     25.28    30.83             30.83   \n",
       "2020-11-20  35.825179    25.49     25.00    30.49             30.49   \n",
       "\n",
       "            evtoebitda  \n",
       "Date                    \n",
       "2000-01-31   30.089632  \n",
       "2000-02-01   28.833382  \n",
       "2000-02-02   28.317422  \n",
       "2000-02-03   29.932601  \n",
       "2000-02-04   31.615079  \n",
       "...                ...  \n",
       "2020-11-16   26.730849  \n",
       "2020-11-17   26.530812  \n",
       "2020-11-18   26.231856  \n",
       "2020-11-19   26.365947  \n",
       "2020-11-20   26.080180  \n",
       "\n",
       "[5278 rows x 17 columns]"
      ]
     },
     "execution_count": 2,
     "metadata": {},
     "output_type": "execute_result"
    }
   ],
   "source": [
    "import eikon as tr\n",
    "tr.set_app_key('29e7c9361eb64e748246349dff7c07a532e1f41d')\n",
    "\n",
    "ric = 'AAPL.O'\n",
    "start = '2000-01-29'\n",
    "end = '0'\n",
    "\n",
    "df, e= tr.get_data([ric],['tr.priceclose.date','tr.priceclose','tr.open','tr.high','tr.low','tr.volume','tr.ev','tr.h.totaldebttoev','tr.h.evtosales','tr.h.pricetosalespershare','tr.h.evtoebit','tr.h.pe','tr.h.pricetocfpershare','tr.h.evtooperatingcashflow','tr.h.pricetobvpershare','tr.h.pricetotangbvpershare','tr.h.evtoebitda'],\n",
    "                       {'SDate': start,'EDate': end,'Frq':'D'})\n",
    "\n",
    "def clean(df):\n",
    "    df['Date'] = pd.to_datetime(df['Date'])\n",
    "    df.set_index('Date', inplace=True) \n",
    "    df.index = df.index.map(lambda t: t.strftime('%Y-%m-%d'))\n",
    "    df.columns = map(str.lower, df.columns)\n",
    "    df = df.round(2)\n",
    "    return df\n",
    "\n",
    "df = clean(df)\n",
    "\n",
    "df.columns = ['instrument','priceclose','priceopen','pricehigh','pricelow','volume','ev','totdebttoev','evtosales','ptosps','evtoebit','pe','ptocfps','evtoopcf','ptobvps','ptotanbvpershare','evtoebitda']\n",
    "\n",
    "df['totdebttoev'] = df['totdebttoev'].astype(float)\n",
    "df['evtoebit'] = df['evtoebit'].astype(float)\n",
    "df['pe'] = df['pe'].astype(float)\n",
    "df['evtoebitda'] = df['evtoebitda'].astype(float)\n",
    "\n",
    "df"
   ]
  },
  {
   "cell_type": "code",
   "execution_count": 3,
   "metadata": {},
   "outputs": [
    {
     "name": "stdout",
     "output_type": "stream",
     "text": [
      "<class 'pandas.core.frame.DataFrame'>\n",
      "Index: 5278 entries, 2000-01-31 to 2020-11-20\n",
      "Data columns (total 17 columns):\n",
      " #   Column            Non-Null Count  Dtype  \n",
      "---  ------            --------------  -----  \n",
      " 0   instrument        5278 non-null   object \n",
      " 1   priceclose        5278 non-null   float64\n",
      " 2   priceopen         5278 non-null   float64\n",
      " 3   pricehigh         5278 non-null   float64\n",
      " 4   pricelow          5278 non-null   float64\n",
      " 5   volume            5278 non-null   int64  \n",
      " 6   ev                5037 non-null   float64\n",
      " 7   totdebttoev       3070 non-null   float64\n",
      " 8   evtosales         5278 non-null   float64\n",
      " 9   ptosps            5278 non-null   float64\n",
      " 10  evtoebit          5213 non-null   float64\n",
      " 11  pe                5213 non-null   float64\n",
      " 12  ptocfps           5278 non-null   float64\n",
      " 13  evtoopcf          5278 non-null   float64\n",
      " 14  ptobvps           5278 non-null   float64\n",
      " 15  ptotanbvpershare  5278 non-null   float64\n",
      " 16  evtoebitda        5213 non-null   float64\n",
      "dtypes: float64(15), int64(1), object(1)\n",
      "memory usage: 742.2+ KB\n"
     ]
    }
   ],
   "source": [
    "df.info()"
   ]
  },
  {
   "cell_type": "code",
   "execution_count": 4,
   "metadata": {},
   "outputs": [
    {
     "data": {
      "text/plain": [
       "5278"
      ]
     },
     "execution_count": 4,
     "metadata": {},
     "output_type": "execute_result"
    }
   ],
   "source": [
    "len(df)"
   ]
  },
  {
   "cell_type": "code",
   "execution_count": 5,
   "metadata": {},
   "outputs": [
    {
     "data": {
      "image/png": "[encoded data removed]",
      "text/plain": [
       "<Figure size 1080x360 with 1 Axes>"
      ]
     },
     "metadata": {
      "needs_background": "light"
     },
     "output_type": "display_data"
    }
   ],
   "source": [
    "df['priceclose'].plot(figsize=(15,5),kind='area',title=ric,legend=True);"
   ]
  },
  {
   "cell_type": "markdown",
   "metadata": {},
   "source": [
    "## Features"
   ]
  },
  {
   "cell_type": "code",
   "execution_count": 6,
   "metadata": {},
   "outputs": [],
   "source": [
    "# Set Y Label\n",
    "y = -21\n",
    "\n",
    "df['priceiny'] = np.where(df['priceclose']<df['priceclose'].shift(y),1,0)"
   ]
  },
  {
   "cell_type": "markdown",
   "metadata": {},
   "source": [
    "#### Price Return"
   ]
  },
  {
   "cell_type": "code",
   "execution_count": 7,
   "metadata": {},
   "outputs": [],
   "source": [
    "df['pcshift'] = df['priceclose'].shift(1)\n",
    "df['dailyreturn'] = (((df['priceclose']-df['pcshift'])/df['pcshift'])*100).round(2)"
   ]
  },
  {
   "cell_type": "markdown",
   "metadata": {},
   "source": [
    "#### Average True Range"
   ]
  },
  {
   "cell_type": "code",
   "execution_count": 8,
   "metadata": {},
   "outputs": [],
   "source": [
    "df['hmpc'] = abs(df['pricehigh']-df['pcshift'])\n",
    "df['lmpc'] = abs(df['pricelow']-df['pcshift'])\n",
    "df['hml'] = df['pricehigh']-df['pricelow']\n",
    "df['true range'] = df[['hml','hmpc','lmpc']].max(axis=1)\n",
    "df['atr'] = ((df['true range'].rolling(14).mean().shift(1)*(14-1))+df['true range'])/14"
   ]
  },
  {
   "cell_type": "markdown",
   "metadata": {},
   "source": [
    "#### Bollinger Bands"
   ]
  },
  {
   "cell_type": "code",
   "execution_count": 9,
   "metadata": {},
   "outputs": [],
   "source": [
    "rolling_mean = df['priceclose'].rolling(window=14).mean()\n",
    "rolling_std = df['priceclose'].rolling(window=14).std()\n",
    "\n",
    "df['bbplus'] = rolling_mean + (rolling_std * 1)\n",
    "df['bbminus'] = rolling_mean - (rolling_std * 1) "
   ]
  },
  {
   "cell_type": "markdown",
   "metadata": {},
   "source": [
    "#### MACD Spread"
   ]
  },
  {
   "cell_type": "code",
   "execution_count": 10,
   "metadata": {},
   "outputs": [],
   "source": [
    "df['ma12'] = df['priceclose'].rolling(window=12).mean()\n",
    "df['ma26'] = df['priceclose'].rolling(window=26).mean()\n",
    "\n",
    "df['ma12shift'] = df['ma12'].shift(1)\n",
    "df['ma26shift'] = df['ma26'].shift(1)\n",
    "\n",
    "df['fastma12'] = (df['priceclose']-df['ma12shift'])*(2/(12+1))+df['ma12shift']\n",
    "df['slowma26'] = (df['priceclose']-df['ma26shift'])*(2/(26+1))+df['ma26shift']\n",
    "\n",
    "df['madiff'] = df['fastma12']-df['slowma26']\n",
    "df['madiffshift'] = df['madiff'].shift(1)\n",
    "\n",
    "df['signalma9'] = (df['madiff']-df['madiffshift'])*(2/(9+1))+df['madiffshift']\n",
    "df['macdspread'] = df['madiff']-df['signalma9']"
   ]
  },
  {
   "cell_type": "markdown",
   "metadata": {},
   "source": [
    "#### N-day SMA"
   ]
  },
  {
   "cell_type": "code",
   "execution_count": 11,
   "metadata": {},
   "outputs": [],
   "source": [
    "df['smaNday'] = df['priceclose'].rolling(window=abs(y)).mean()\n",
    "df['smaNdummy'] = [1 if row['priceclose']>row['smaNday'] else 0 for idx,row in df.iterrows()]"
   ]
  },
  {
   "cell_type": "markdown",
   "metadata": {},
   "source": [
    "#### Average Directional Index"
   ]
  },
  {
   "cell_type": "code",
   "execution_count": 12,
   "metadata": {},
   "outputs": [],
   "source": [
    "df['hmph'] = df['pricehigh']-df['pricehigh'].shift(1)\n",
    "df['plml'] = df['pcshift']-df['pricelow']\n",
    "\n",
    "df['+dx'] = [row['hmph'] if row['hmph']>row['plml'] and row['hmph']>0 else 0 for idx,row in df.iterrows()]\n",
    "df['-dx'] = [row['plml'] if row['plml']>row['hmph'] and row['plml']>0 else 0 for idx,row in df.iterrows()]\n",
    "\n",
    "df['smooth+dx'] = ((df['+dx'].rolling(window=14).mean().shift(1)*(14-1))+df['+dx'])/14\n",
    "df['smooth-dx'] = ((df['-dx'].rolling(window=14).mean().shift(1)*(14-1))+df['-dx'])/14\n",
    "\n",
    "df['+dmi'] = (df['smooth+dx']/df['atr'])*100\n",
    "df['-dmi'] = (df['smooth-dx']/df['atr'])*100\n",
    "\n",
    "df['dx'] = ((abs(df['+dmi']-df['-dmi']))/(df['+dmi']+df['-dmi']))*100\n",
    "df['adx'] = (df['dx'].rolling(window=14).mean().shift(1)*(14-1)+df['dx'])/14"
   ]
  },
  {
   "cell_type": "markdown",
   "metadata": {},
   "source": [
    "#### Relative Strength Index"
   ]
  },
  {
   "cell_type": "code",
   "execution_count": 13,
   "metadata": {},
   "outputs": [],
   "source": [
    "df['upmove'] = [row['priceclose']-row['pcshift'] if row['priceclose']>row['pcshift'] else 0 for idx,row in df.iterrows()]\n",
    "df['dnmove'] = [row['pcshift']-row['priceclose'] if row['priceclose']<row['pcshift'] else 0 for idx,row in df.iterrows()]\n",
    "\n",
    "df['avgupmove'] = df['upmove'].rolling(window=14).mean()\n",
    "df['avgdnmove'] = df['dnmove'].rolling(window=14).mean()\n",
    "\n",
    "df['avgupmoveshift'] = df['avgupmove'].shift(1)\n",
    "df['avgdnmoveshift'] = df['avgdnmove'].shift(1)\n",
    "\n",
    "df['avgupmove1'] = (df['avgupmoveshift']*(14-1)+df['upmove'])/14\n",
    "df['avgdnmove1'] = (df['avgdnmoveshift']*(14-1)+df['dnmove'])/14\n",
    "\n",
    "df['relstrength'] = df['avgupmove1']/df['avgdnmove1']\n",
    "df['rsi'] = 100-(100/(df['relstrength']+1))"
   ]
  },
  {
   "cell_type": "markdown",
   "metadata": {},
   "source": [
    "#### Stochastic Spread"
   ]
  },
  {
   "cell_type": "code",
   "execution_count": 14,
   "metadata": {},
   "outputs": [],
   "source": [
    "df['stochlow'] = df['priceclose']-(df['pricelow'].rolling(window=14).min())\n",
    "df['stochhml'] = (df['pricehigh'].rolling(window=14).max())-(df['pricelow'].rolling(window=14).min())\n",
    "df['%k'] = (df['stochlow']/df['stochhml'])*100\n",
    "df['%d'] = (df['stochlow'].rolling(window=3).sum()/df['stochhml'].rolling(window=3).sum())*100\n",
    "df['signal'] = df['%d'].rolling(window=3).mean()\n",
    "\n",
    "df['stochspread'] = df['%k']-df['signal']"
   ]
  },
  {
   "cell_type": "markdown",
   "metadata": {},
   "source": [
    "#### Volume-NdayVol Spread"
   ]
  },
  {
   "cell_type": "code",
   "execution_count": 15,
   "metadata": {},
   "outputs": [],
   "source": [
    "df['volumeNdayavg'] = df['volume'].rolling(window=abs(y)).mean()\n",
    "df['volspread'] = df['volume']-df['volumeNdayavg']"
   ]
  },
  {
   "cell_type": "markdown",
   "metadata": {},
   "source": [
    "#### Equity Volatility Index"
   ]
  },
  {
   "cell_type": "code",
   "execution_count": 16,
   "metadata": {},
   "outputs": [],
   "source": [
    "vix, e= tr.get_data(['.VIX'],['tr.priceclose.date','tr.priceclose'],\n",
    "                       {'SDate': start,'EDate': end,'Frq':'D'})\n",
    "vix = clean(vix)\n",
    "vix = vix[~vix.index.duplicated()]\n",
    "df['vix'] = vix['price close'] #If using CSV pull, ignore this error. It only works with the API. "
   ]
  },
  {
   "cell_type": "markdown",
   "metadata": {},
   "source": [
    "## Feature Exploration"
   ]
  },
  {
   "cell_type": "code",
   "execution_count": 17,
   "metadata": {},
   "outputs": [],
   "source": [
    "df = df[['priceiny','priceclose','dailyreturn','totdebttoev', 'ev', 'evtosales', 'ptosps', 'evtoebit', 'pe',\n",
    "       'ptocfps', 'evtoopcf', 'ptobvps', 'ptotanbvpershare',\n",
    "       'evtoebitda', 'atr', 'bbplus', 'bbminus', 'macdspread','smaNdummy',\n",
    "       'adx', 'rsi', 'stochspread','volspread', 'vix']]"
   ]
  },
  {
   "cell_type": "code",
   "execution_count": 18,
   "metadata": {},
   "outputs": [
    {
     "data": {
      "image/png": "[encoded data removed]",
      "text/plain": [
       "<Figure size 1080x1080 with 25 Axes>"
      ]
     },
     "metadata": {
      "needs_background": "light"
     },
     "output_type": "display_data"
    }
   ],
   "source": [
    "pd.DataFrame.hist(df, figsize = [15,15]);"
   ]
  },
  {
   "cell_type": "code",
   "execution_count": 19,
   "metadata": {},
   "outputs": [
    {
     "data": {
      "text/html": [
       "<div>\n",
       "<style scoped>\n",
       "    .dataframe tbody tr th:only-of-type {\n",
       "        vertical-align: middle;\n",
       "    }\n",
       "\n",
       "    .dataframe tbody tr th {\n",
       "        vertical-align: top;\n",
       "    }\n",
       "\n",
       "    .dataframe thead th {\n",
       "        text-align: right;\n",
       "    }\n",
       "</style>\n",
       "<table border=\"1\" class=\"dataframe\">\n",
       "  <thead>\n",
       "    <tr style=\"text-align: right;\">\n",
       "      <th></th>\n",
       "      <th>priceiny</th>\n",
       "      <th>priceclose</th>\n",
       "      <th>dailyreturn</th>\n",
       "      <th>totdebttoev</th>\n",
       "      <th>ev</th>\n",
       "      <th>evtosales</th>\n",
       "      <th>ptosps</th>\n",
       "      <th>evtoebit</th>\n",
       "      <th>pe</th>\n",
       "      <th>ptocfps</th>\n",
       "      <th>...</th>\n",
       "      <th>atr</th>\n",
       "      <th>bbplus</th>\n",
       "      <th>bbminus</th>\n",
       "      <th>macdspread</th>\n",
       "      <th>smaNdummy</th>\n",
       "      <th>adx</th>\n",
       "      <th>rsi</th>\n",
       "      <th>stochspread</th>\n",
       "      <th>volspread</th>\n",
       "      <th>vix</th>\n",
       "    </tr>\n",
       "  </thead>\n",
       "  <tbody>\n",
       "    <tr>\n",
       "      <th>count</th>\n",
       "      <td>5278.00</td>\n",
       "      <td>5278.00</td>\n",
       "      <td>5277.00</td>\n",
       "      <td>3070.00</td>\n",
       "      <td>5.037000e+03</td>\n",
       "      <td>5278.00</td>\n",
       "      <td>5278.00</td>\n",
       "      <td>5213.00</td>\n",
       "      <td>5213.00</td>\n",
       "      <td>5278.00</td>\n",
       "      <td>...</td>\n",
       "      <td>5264.00</td>\n",
       "      <td>5265.00</td>\n",
       "      <td>5265.00</td>\n",
       "      <td>5251.00</td>\n",
       "      <td>5278.00</td>\n",
       "      <td>5250.00</td>\n",
       "      <td>5264.00</td>\n",
       "      <td>5261.00</td>\n",
       "      <td>5.258000e+03</td>\n",
       "      <td>5278.00</td>\n",
       "    </tr>\n",
       "    <tr>\n",
       "      <th>mean</th>\n",
       "      <td>0.60</td>\n",
       "      <td>18.11</td>\n",
       "      <td>0.13</td>\n",
       "      <td>10.14</td>\n",
       "      <td>3.932412e+11</td>\n",
       "      <td>2.84</td>\n",
       "      <td>3.21</td>\n",
       "      <td>41.54</td>\n",
       "      <td>30.05</td>\n",
       "      <td>18.33</td>\n",
       "      <td>...</td>\n",
       "      <td>0.43</td>\n",
       "      <td>18.49</td>\n",
       "      <td>17.53</td>\n",
       "      <td>0.00</td>\n",
       "      <td>0.60</td>\n",
       "      <td>38.84</td>\n",
       "      <td>55.32</td>\n",
       "      <td>-0.05</td>\n",
       "      <td>-4.353892e+05</td>\n",
       "      <td>19.95</td>\n",
       "    </tr>\n",
       "    <tr>\n",
       "      <th>std</th>\n",
       "      <td>0.49</td>\n",
       "      <td>22.61</td>\n",
       "      <td>2.58</td>\n",
       "      <td>6.40</td>\n",
       "      <td>4.258538e+11</td>\n",
       "      <td>1.50</td>\n",
       "      <td>1.36</td>\n",
       "      <td>181.52</td>\n",
       "      <td>34.67</td>\n",
       "      <td>10.31</td>\n",
       "      <td>...</td>\n",
       "      <td>0.71</td>\n",
       "      <td>23.02</td>\n",
       "      <td>21.66</td>\n",
       "      <td>0.09</td>\n",
       "      <td>0.49</td>\n",
       "      <td>19.84</td>\n",
       "      <td>17.18</td>\n",
       "      <td>18.20</td>\n",
       "      <td>2.467846e+08</td>\n",
       "      <td>8.95</td>\n",
       "    </tr>\n",
       "    <tr>\n",
       "      <th>min</th>\n",
       "      <td>0.00</td>\n",
       "      <td>0.23</td>\n",
       "      <td>-52.08</td>\n",
       "      <td>1.50</td>\n",
       "      <td>5.874789e+08</td>\n",
       "      <td>0.09</td>\n",
       "      <td>0.63</td>\n",
       "      <td>1.98</td>\n",
       "      <td>5.49</td>\n",
       "      <td>5.82</td>\n",
       "      <td>...</td>\n",
       "      <td>0.01</td>\n",
       "      <td>0.25</td>\n",
       "      <td>0.23</td>\n",
       "      <td>-1.31</td>\n",
       "      <td>0.00</td>\n",
       "      <td>4.82</td>\n",
       "      <td>0.00</td>\n",
       "      <td>-69.62</td>\n",
       "      <td>-9.812637e+08</td>\n",
       "      <td>9.14</td>\n",
       "    </tr>\n",
       "    <tr>\n",
       "      <th>25%</th>\n",
       "      <td>0.00</td>\n",
       "      <td>1.30</td>\n",
       "      <td>-0.96</td>\n",
       "      <td>5.57</td>\n",
       "      <td>4.025296e+10</td>\n",
       "      <td>2.04</td>\n",
       "      <td>2.44</td>\n",
       "      <td>10.42</td>\n",
       "      <td>13.70</td>\n",
       "      <td>10.78</td>\n",
       "      <td>...</td>\n",
       "      <td>0.06</td>\n",
       "      <td>1.37</td>\n",
       "      <td>1.28</td>\n",
       "      <td>-0.01</td>\n",
       "      <td>0.00</td>\n",
       "      <td>22.06</td>\n",
       "      <td>43.10</td>\n",
       "      <td>-10.49</td>\n",
       "      <td>-9.194163e+07</td>\n",
       "      <td>13.61</td>\n",
       "    </tr>\n",
       "    <tr>\n",
       "      <th>50%</th>\n",
       "      <td>1.00</td>\n",
       "      <td>8.98</td>\n",
       "      <td>0.00</td>\n",
       "      <td>9.46</td>\n",
       "      <td>2.648499e+11</td>\n",
       "      <td>3.01</td>\n",
       "      <td>3.37</td>\n",
       "      <td>14.24</td>\n",
       "      <td>17.86</td>\n",
       "      <td>15.25</td>\n",
       "      <td>...</td>\n",
       "      <td>0.23</td>\n",
       "      <td>9.28</td>\n",
       "      <td>8.78</td>\n",
       "      <td>0.00</td>\n",
       "      <td>1.00</td>\n",
       "      <td>35.43</td>\n",
       "      <td>55.40</td>\n",
       "      <td>0.04</td>\n",
       "      <td>-2.169139e+07</td>\n",
       "      <td>17.61</td>\n",
       "    </tr>\n",
       "    <tr>\n",
       "      <th>75%</th>\n",
       "      <td>1.00</td>\n",
       "      <td>27.35</td>\n",
       "      <td>1.29</td>\n",
       "      <td>12.68</td>\n",
       "      <td>6.418380e+11</td>\n",
       "      <td>3.75</td>\n",
       "      <td>3.94</td>\n",
       "      <td>26.29</td>\n",
       "      <td>32.87</td>\n",
       "      <td>23.20</td>\n",
       "      <td>...</td>\n",
       "      <td>0.51</td>\n",
       "      <td>27.97</td>\n",
       "      <td>26.86</td>\n",
       "      <td>0.01</td>\n",
       "      <td>1.00</td>\n",
       "      <td>54.01</td>\n",
       "      <td>68.09</td>\n",
       "      <td>10.31</td>\n",
       "      <td>4.937025e+07</td>\n",
       "      <td>23.68</td>\n",
       "    </tr>\n",
       "    <tr>\n",
       "      <th>max</th>\n",
       "      <td>1.00</td>\n",
       "      <td>134.18</td>\n",
       "      <td>13.89</td>\n",
       "      <td>60.37</td>\n",
       "      <td>2.315166e+12</td>\n",
       "      <td>8.45</td>\n",
       "      <td>8.69</td>\n",
       "      <td>2103.83</td>\n",
       "      <td>269.98</td>\n",
       "      <td>80.47</td>\n",
       "      <td>...</td>\n",
       "      <td>6.86</td>\n",
       "      <td>129.84</td>\n",
       "      <td>118.64</td>\n",
       "      <td>1.44</td>\n",
       "      <td>1.00</td>\n",
       "      <td>94.77</td>\n",
       "      <td>100.00</td>\n",
       "      <td>66.67</td>\n",
       "      <td>6.733987e+09</td>\n",
       "      <td>82.69</td>\n",
       "    </tr>\n",
       "  </tbody>\n",
       "</table>\n",
       "<p>8 rows × 24 columns</p>\n",
       "</div>"
      ],
      "text/plain": [
       "       priceiny  priceclose  dailyreturn  totdebttoev            ev  \\\n",
       "count   5278.00     5278.00      5277.00      3070.00  5.037000e+03   \n",
       "mean       0.60       18.11         0.13        10.14  3.932412e+11   \n",
       "std        0.49       22.61         2.58         6.40  4.258538e+11   \n",
       "min        0.00        0.23       -52.08         1.50  5.874789e+08   \n",
       "25%        0.00        1.30        -0.96         5.57  4.025296e+10   \n",
       "50%        1.00        8.98         0.00         9.46  2.648499e+11   \n",
       "75%        1.00       27.35         1.29        12.68  6.418380e+11   \n",
       "max        1.00      134.18        13.89        60.37  2.315166e+12   \n",
       "\n",
       "       evtosales   ptosps  evtoebit       pe  ptocfps  ...      atr   bbplus  \\\n",
       "count    5278.00  5278.00   5213.00  5213.00  5278.00  ...  5264.00  5265.00   \n",
       "mean        2.84     3.21     41.54    30.05    18.33  ...     0.43    18.49   \n",
       "std         1.50     1.36    181.52    34.67    10.31  ...     0.71    23.02   \n",
       "min         0.09     0.63      1.98     5.49     5.82  ...     0.01     0.25   \n",
       "25%         2.04     2.44     10.42    13.70    10.78  ...     0.06     1.37   \n",
       "50%         3.01     3.37     14.24    17.86    15.25  ...     0.23     9.28   \n",
       "75%         3.75     3.94     26.29    32.87    23.20  ...     0.51    27.97   \n",
       "max         8.45     8.69   2103.83   269.98    80.47  ...     6.86   129.84   \n",
       "\n",
       "       bbminus  macdspread  smaNdummy      adx      rsi  stochspread  \\\n",
       "count  5265.00     5251.00    5278.00  5250.00  5264.00      5261.00   \n",
       "mean     17.53        0.00       0.60    38.84    55.32        -0.05   \n",
       "std      21.66        0.09       0.49    19.84    17.18        18.20   \n",
       "min       0.23       -1.31       0.00     4.82     0.00       -69.62   \n",
       "25%       1.28       -0.01       0.00    22.06    43.10       -10.49   \n",
       "50%       8.78        0.00       1.00    35.43    55.40         0.04   \n",
       "75%      26.86        0.01       1.00    54.01    68.09        10.31   \n",
       "max     118.64        1.44       1.00    94.77   100.00        66.67   \n",
       "\n",
       "          volspread      vix  \n",
       "count  5.258000e+03  5278.00  \n",
       "mean  -4.353892e+05    19.95  \n",
       "std    2.467846e+08     8.95  \n",
       "min   -9.812637e+08     9.14  \n",
       "25%   -9.194163e+07    13.61  \n",
       "50%   -2.169139e+07    17.61  \n",
       "75%    4.937025e+07    23.68  \n",
       "max    6.733987e+09    82.69  \n",
       "\n",
       "[8 rows x 24 columns]"
      ]
     },
     "execution_count": 19,
     "metadata": {},
     "output_type": "execute_result"
    }
   ],
   "source": [
    "df.describe().round(2)"
   ]
  },
  {
   "cell_type": "code",
   "execution_count": 20,
   "metadata": {},
   "outputs": [
    {
     "data": {
      "text/html": [
       "<div>\n",
       "<style scoped>\n",
       "    .dataframe tbody tr th:only-of-type {\n",
       "        vertical-align: middle;\n",
       "    }\n",
       "\n",
       "    .dataframe tbody tr th {\n",
       "        vertical-align: top;\n",
       "    }\n",
       "\n",
       "    .dataframe thead th {\n",
       "        text-align: right;\n",
       "    }\n",
       "</style>\n",
       "<table border=\"1\" class=\"dataframe\">\n",
       "  <thead>\n",
       "    <tr style=\"text-align: right;\">\n",
       "      <th></th>\n",
       "      <th>priceiny</th>\n",
       "      <th>priceclose</th>\n",
       "      <th>dailyreturn</th>\n",
       "      <th>totdebttoev</th>\n",
       "      <th>ev</th>\n",
       "      <th>evtosales</th>\n",
       "      <th>ptosps</th>\n",
       "      <th>evtoebit</th>\n",
       "      <th>pe</th>\n",
       "      <th>ptocfps</th>\n",
       "      <th>...</th>\n",
       "      <th>atr</th>\n",
       "      <th>bbplus</th>\n",
       "      <th>bbminus</th>\n",
       "      <th>macdspread</th>\n",
       "      <th>smaNdummy</th>\n",
       "      <th>adx</th>\n",
       "      <th>rsi</th>\n",
       "      <th>stochspread</th>\n",
       "      <th>volspread</th>\n",
       "      <th>vix</th>\n",
       "    </tr>\n",
       "    <tr>\n",
       "      <th>Date</th>\n",
       "      <th></th>\n",
       "      <th></th>\n",
       "      <th></th>\n",
       "      <th></th>\n",
       "      <th></th>\n",
       "      <th></th>\n",
       "      <th></th>\n",
       "      <th></th>\n",
       "      <th></th>\n",
       "      <th></th>\n",
       "      <th></th>\n",
       "      <th></th>\n",
       "      <th></th>\n",
       "      <th></th>\n",
       "      <th></th>\n",
       "      <th></th>\n",
       "      <th></th>\n",
       "      <th></th>\n",
       "      <th></th>\n",
       "      <th></th>\n",
       "      <th></th>\n",
       "    </tr>\n",
       "  </thead>\n",
       "  <tbody>\n",
       "    <tr>\n",
       "      <th>2000-09-29</th>\n",
       "      <td>0</td>\n",
       "      <td>0.46</td>\n",
       "      <td>-52.08</td>\n",
       "      <td>6.01</td>\n",
       "      <td>NaN</td>\n",
       "      <td>0.67</td>\n",
       "      <td>1.24</td>\n",
       "      <td>9.73</td>\n",
       "      <td>12.78</td>\n",
       "      <td>10.16</td>\n",
       "      <td>...</td>\n",
       "      <td>0.1</td>\n",
       "      <td>1.12</td>\n",
       "      <td>0.8</td>\n",
       "      <td>-0.04</td>\n",
       "      <td>0</td>\n",
       "      <td>53.16</td>\n",
       "      <td>21.65</td>\n",
       "      <td>-13.81</td>\n",
       "      <td>6.733987e+09</td>\n",
       "      <td>20.57</td>\n",
       "    </tr>\n",
       "  </tbody>\n",
       "</table>\n",
       "<p>1 rows × 24 columns</p>\n",
       "</div>"
      ],
      "text/plain": [
       "            priceiny  priceclose  dailyreturn  totdebttoev  ev  evtosales  \\\n",
       "Date                                                                        \n",
       "2000-09-29         0        0.46       -52.08         6.01 NaN       0.67   \n",
       "\n",
       "            ptosps  evtoebit     pe  ptocfps  ...  atr  bbplus  bbminus  \\\n",
       "Date                                          ...                         \n",
       "2000-09-29    1.24      9.73  12.78    10.16  ...  0.1    1.12      0.8   \n",
       "\n",
       "            macdspread  smaNdummy    adx    rsi  stochspread     volspread  \\\n",
       "Date                                                                         \n",
       "2000-09-29       -0.04          0  53.16  21.65       -13.81  6.733987e+09   \n",
       "\n",
       "              vix  \n",
       "Date               \n",
       "2000-09-29  20.57  \n",
       "\n",
       "[1 rows x 24 columns]"
      ]
     },
     "execution_count": 20,
     "metadata": {},
     "output_type": "execute_result"
    }
   ],
   "source": [
    "df[df['dailyreturn'] == df['dailyreturn'].min()].round(2)"
   ]
  },
  {
   "cell_type": "code",
   "execution_count": 21,
   "metadata": {
    "scrolled": true
   },
   "outputs": [
    {
     "data": {
      "text/html": [
       "<div>\n",
       "<style scoped>\n",
       "    .dataframe tbody tr th:only-of-type {\n",
       "        vertical-align: middle;\n",
       "    }\n",
       "\n",
       "    .dataframe tbody tr th {\n",
       "        vertical-align: top;\n",
       "    }\n",
       "\n",
       "    .dataframe thead th {\n",
       "        text-align: right;\n",
       "    }\n",
       "</style>\n",
       "<table border=\"1\" class=\"dataframe\">\n",
       "  <thead>\n",
       "    <tr style=\"text-align: right;\">\n",
       "      <th></th>\n",
       "      <th>priceiny</th>\n",
       "      <th>priceclose</th>\n",
       "      <th>dailyreturn</th>\n",
       "      <th>totdebttoev</th>\n",
       "      <th>ev</th>\n",
       "      <th>evtosales</th>\n",
       "      <th>ptosps</th>\n",
       "      <th>evtoebit</th>\n",
       "      <th>pe</th>\n",
       "      <th>ptocfps</th>\n",
       "      <th>...</th>\n",
       "      <th>atr</th>\n",
       "      <th>bbplus</th>\n",
       "      <th>bbminus</th>\n",
       "      <th>macdspread</th>\n",
       "      <th>smaNdummy</th>\n",
       "      <th>adx</th>\n",
       "      <th>rsi</th>\n",
       "      <th>stochspread</th>\n",
       "      <th>volspread</th>\n",
       "      <th>vix</th>\n",
       "    </tr>\n",
       "    <tr>\n",
       "      <th>Date</th>\n",
       "      <th></th>\n",
       "      <th></th>\n",
       "      <th></th>\n",
       "      <th></th>\n",
       "      <th></th>\n",
       "      <th></th>\n",
       "      <th></th>\n",
       "      <th></th>\n",
       "      <th></th>\n",
       "      <th></th>\n",
       "      <th></th>\n",
       "      <th></th>\n",
       "      <th></th>\n",
       "      <th></th>\n",
       "      <th></th>\n",
       "      <th></th>\n",
       "      <th></th>\n",
       "      <th></th>\n",
       "      <th></th>\n",
       "      <th></th>\n",
       "      <th></th>\n",
       "    </tr>\n",
       "  </thead>\n",
       "  <tbody>\n",
       "    <tr>\n",
       "      <th>2001-04-18</th>\n",
       "      <td>1</td>\n",
       "      <td>0.41</td>\n",
       "      <td>13.89</td>\n",
       "      <td>7.81</td>\n",
       "      <td>4.135000e+09</td>\n",
       "      <td>0.66</td>\n",
       "      <td>1.31</td>\n",
       "      <td>7.66</td>\n",
       "      <td>41.65</td>\n",
       "      <td>21.36</td>\n",
       "      <td>...</td>\n",
       "      <td>0.03</td>\n",
       "      <td>0.4</td>\n",
       "      <td>0.36</td>\n",
       "      <td>0.0</td>\n",
       "      <td>1</td>\n",
       "      <td>38.62</td>\n",
       "      <td>53.57</td>\n",
       "      <td>18.98</td>\n",
       "      <td>6.128811e+08</td>\n",
       "      <td>24.13</td>\n",
       "    </tr>\n",
       "  </tbody>\n",
       "</table>\n",
       "<p>1 rows × 24 columns</p>\n",
       "</div>"
      ],
      "text/plain": [
       "            priceiny  priceclose  dailyreturn  totdebttoev            ev  \\\n",
       "Date                                                                       \n",
       "2001-04-18         1        0.41        13.89         7.81  4.135000e+09   \n",
       "\n",
       "            evtosales  ptosps  evtoebit     pe  ptocfps  ...   atr  bbplus  \\\n",
       "Date                                                     ...                 \n",
       "2001-04-18       0.66    1.31      7.66  41.65    21.36  ...  0.03     0.4   \n",
       "\n",
       "            bbminus  macdspread  smaNdummy    adx    rsi  stochspread  \\\n",
       "Date                                                                    \n",
       "2001-04-18     0.36         0.0          1  38.62  53.57        18.98   \n",
       "\n",
       "               volspread    vix  \n",
       "Date                             \n",
       "2001-04-18  6.128811e+08  24.13  \n",
       "\n",
       "[1 rows x 24 columns]"
      ]
     },
     "execution_count": 21,
     "metadata": {},
     "output_type": "execute_result"
    }
   ],
   "source": [
    "df[df['dailyreturn'] == df['dailyreturn'].max()].round(2)"
   ]
  },
  {
   "cell_type": "code",
   "execution_count": 22,
   "metadata": {},
   "outputs": [
    {
     "data": {
      "image/png": "[encoded data removed]",
      "text/plain": [
       "<Figure size 1800x144 with 2 Axes>"
      ]
     },
     "metadata": {
      "needs_background": "light"
     },
     "output_type": "display_data"
    }
   ],
   "source": [
    "fig, ax = plt.subplots(1, 1, figsize=(25,2))\n",
    "sns.heatmap(df.corr()[1:2],vmin=-1,vmax=1,annot=True)\n",
    "ax.set_title('Correlation Analysis', size=15);"
   ]
  },
  {
   "cell_type": "markdown",
   "metadata": {},
   "source": [
    "Correlation Analysis:\n",
    "- The non-stationary time-series features are strongly correlated with the price close such as Bollinger bands and the n-day simple moving average.\n",
    "- The price close is strongly correlated with the enterprise value, including the market value of equity.\n",
    "\n",
    "Market-Related Analysis:\n",
    "- ATR is positively correlated with BB and 10-day SMA\n",
    "- ADX is negatively correlated with RSI\n",
    "- MACD Spread is positively correlated with daily price return"
   ]
  },
  {
   "cell_type": "markdown",
   "metadata": {},
   "source": [
    "## Feature Selection"
   ]
  },
  {
   "cell_type": "markdown",
   "metadata": {},
   "source": [
    "Mutual information (MI) between two random variables is a non-negative value, which measures the dependency between the variables. It is equal to zero if and only if two random variables are independent, and higher values mean higher dependency."
   ]
  },
  {
   "cell_type": "code",
   "execution_count": 23,
   "metadata": {},
   "outputs": [],
   "source": [
    "features_to_include = ['totdebttoev', 'ev', 'evtosales', 'ptosps', 'evtoebit', 'pe',\n",
    "       'ptocfps', 'evtoopcf', 'ptobvps', 'ptotanbvpershare',\n",
    "       'evtoebitda', 'atr', 'bbplus', 'bbminus', 'macdspread','smaNdummy',\n",
    "       'adx', 'rsi', 'stochspread','volspread', 'vix']\n",
    "df = df.ffill(axis=0).dropna()"
   ]
  },
  {
   "cell_type": "code",
   "execution_count": 24,
   "metadata": {},
   "outputs": [
    {
     "data": {
      "text/html": [
       "<div>\n",
       "<style scoped>\n",
       "    .dataframe tbody tr th:only-of-type {\n",
       "        vertical-align: middle;\n",
       "    }\n",
       "\n",
       "    .dataframe tbody tr th {\n",
       "        vertical-align: top;\n",
       "    }\n",
       "\n",
       "    .dataframe thead th {\n",
       "        text-align: right;\n",
       "    }\n",
       "</style>\n",
       "<table border=\"1\" class=\"dataframe\">\n",
       "  <thead>\n",
       "    <tr style=\"text-align: right;\">\n",
       "      <th></th>\n",
       "      <th>Feature</th>\n",
       "      <th>Score</th>\n",
       "    </tr>\n",
       "  </thead>\n",
       "  <tbody>\n",
       "    <tr>\n",
       "      <th>12</th>\n",
       "      <td>bbplus</td>\n",
       "      <td>0.159723</td>\n",
       "    </tr>\n",
       "    <tr>\n",
       "      <th>13</th>\n",
       "      <td>bbminus</td>\n",
       "      <td>0.151204</td>\n",
       "    </tr>\n",
       "    <tr>\n",
       "      <th>1</th>\n",
       "      <td>ev</td>\n",
       "      <td>0.100466</td>\n",
       "    </tr>\n",
       "    <tr>\n",
       "      <th>9</th>\n",
       "      <td>ptotanbvpershare</td>\n",
       "      <td>0.062759</td>\n",
       "    </tr>\n",
       "    <tr>\n",
       "      <th>5</th>\n",
       "      <td>pe</td>\n",
       "      <td>0.055485</td>\n",
       "    </tr>\n",
       "    <tr>\n",
       "      <th>4</th>\n",
       "      <td>evtoebit</td>\n",
       "      <td>0.049339</td>\n",
       "    </tr>\n",
       "    <tr>\n",
       "      <th>8</th>\n",
       "      <td>ptobvps</td>\n",
       "      <td>0.049248</td>\n",
       "    </tr>\n",
       "    <tr>\n",
       "      <th>11</th>\n",
       "      <td>atr</td>\n",
       "      <td>0.039743</td>\n",
       "    </tr>\n",
       "    <tr>\n",
       "      <th>6</th>\n",
       "      <td>ptocfps</td>\n",
       "      <td>0.039550</td>\n",
       "    </tr>\n",
       "    <tr>\n",
       "      <th>3</th>\n",
       "      <td>ptosps</td>\n",
       "      <td>0.038856</td>\n",
       "    </tr>\n",
       "    <tr>\n",
       "      <th>7</th>\n",
       "      <td>evtoopcf</td>\n",
       "      <td>0.038157</td>\n",
       "    </tr>\n",
       "    <tr>\n",
       "      <th>10</th>\n",
       "      <td>evtoebitda</td>\n",
       "      <td>0.035470</td>\n",
       "    </tr>\n",
       "    <tr>\n",
       "      <th>0</th>\n",
       "      <td>totdebttoev</td>\n",
       "      <td>0.035046</td>\n",
       "    </tr>\n",
       "    <tr>\n",
       "      <th>2</th>\n",
       "      <td>evtosales</td>\n",
       "      <td>0.029509</td>\n",
       "    </tr>\n",
       "    <tr>\n",
       "      <th>17</th>\n",
       "      <td>rsi</td>\n",
       "      <td>0.015487</td>\n",
       "    </tr>\n",
       "    <tr>\n",
       "      <th>16</th>\n",
       "      <td>adx</td>\n",
       "      <td>0.013093</td>\n",
       "    </tr>\n",
       "    <tr>\n",
       "      <th>20</th>\n",
       "      <td>vix</td>\n",
       "      <td>0.008104</td>\n",
       "    </tr>\n",
       "    <tr>\n",
       "      <th>14</th>\n",
       "      <td>macdspread</td>\n",
       "      <td>0.003215</td>\n",
       "    </tr>\n",
       "    <tr>\n",
       "      <th>18</th>\n",
       "      <td>stochspread</td>\n",
       "      <td>0.000466</td>\n",
       "    </tr>\n",
       "    <tr>\n",
       "      <th>15</th>\n",
       "      <td>smaNdummy</td>\n",
       "      <td>0.000000</td>\n",
       "    </tr>\n",
       "    <tr>\n",
       "      <th>19</th>\n",
       "      <td>volspread</td>\n",
       "      <td>0.000000</td>\n",
       "    </tr>\n",
       "  </tbody>\n",
       "</table>\n",
       "</div>"
      ],
      "text/plain": [
       "             Feature     Score\n",
       "12            bbplus  0.159723\n",
       "13           bbminus  0.151204\n",
       "1                 ev  0.100466\n",
       "9   ptotanbvpershare  0.062759\n",
       "5                 pe  0.055485\n",
       "4           evtoebit  0.049339\n",
       "8            ptobvps  0.049248\n",
       "11               atr  0.039743\n",
       "6            ptocfps  0.039550\n",
       "3             ptosps  0.038856\n",
       "7           evtoopcf  0.038157\n",
       "10        evtoebitda  0.035470\n",
       "0        totdebttoev  0.035046\n",
       "2          evtosales  0.029509\n",
       "17               rsi  0.015487\n",
       "16               adx  0.013093\n",
       "20               vix  0.008104\n",
       "14        macdspread  0.003215\n",
       "18       stochspread  0.000466\n",
       "15         smaNdummy  0.000000\n",
       "19         volspread  0.000000"
      ]
     },
     "execution_count": 24,
     "metadata": {},
     "output_type": "execute_result"
    }
   ],
   "source": [
    "from sklearn import feature_selection\n",
    "feature_rank = feature_selection.mutual_info_classif(df[features_to_include], df['priceiny'])\n",
    "feature_rank_df = pd.DataFrame(list(zip(features_to_include, feature_rank)), columns=['Feature', 'Score'])\n",
    "feature_rank_df.sort_values(by='Score', ascending = False)"
   ]
  },
  {
   "cell_type": "markdown",
   "metadata": {},
   "source": [
    "## Split Dataset"
   ]
  },
  {
   "cell_type": "code",
   "execution_count": 25,
   "metadata": {},
   "outputs": [
    {
     "data": {
      "text/plain": [
       "5037"
      ]
     },
     "execution_count": 25,
     "metadata": {},
     "output_type": "execute_result"
    }
   ],
   "source": [
    "len(df)"
   ]
  },
  {
   "cell_type": "code",
   "execution_count": 26,
   "metadata": {},
   "outputs": [],
   "source": [
    "df = df.dropna()"
   ]
  },
  {
   "cell_type": "code",
   "execution_count": 27,
   "metadata": {},
   "outputs": [],
   "source": [
    "z = int(.70*len(df))\n",
    "x_train = df[['totdebttoev', 'ev','evtosales', 'ptosps', 'evtoebit', 'pe', 'ptocfps', 'evtoopcf',\n",
    "       'ptobvps', 'ptotanbvpershare', 'evtoebitda', 'atr',\n",
    "       'bbplus', 'bbminus', 'macdspread', 'smaNdummy', 'adx', 'rsi',\n",
    "       'stochspread', 'volspread', 'vix']][:z]\n",
    "y_train = df[['priceiny']][:z]\n",
    "\n",
    "x_test = df[['totdebttoev', 'ev','evtosales', 'ptosps', 'evtoebit', 'pe', 'ptocfps', 'evtoopcf',\n",
    "       'ptobvps', 'ptotanbvpershare', 'evtoebitda', 'atr',\n",
    "       'bbplus', 'bbminus', 'macdspread', 'smaNdummy', 'adx', 'rsi',\n",
    "       'stochspread', 'volspread', 'vix']][z:y]\n",
    "y_test = df[['priceiny']][z:y] #removed the end of the timeseries due to shifted Y labels"
   ]
  },
  {
   "cell_type": "markdown",
   "metadata": {},
   "source": [
    "## Data Preprocessing"
   ]
  },
  {
   "cell_type": "code",
   "execution_count": 28,
   "metadata": {},
   "outputs": [],
   "source": [
    "from sklearn.preprocessing import StandardScaler "
   ]
  },
  {
   "cell_type": "code",
   "execution_count": 29,
   "metadata": {},
   "outputs": [],
   "source": [
    "scaler = StandardScaler()\n",
    "std_x_train = scaler.fit(x_train).transform(x_train)\n",
    "std_x_test = scaler.fit(x_test).transform(x_test)"
   ]
  },
  {
   "cell_type": "code",
   "execution_count": 30,
   "metadata": {
    "scrolled": true
   },
   "outputs": [
    {
     "name": "stdout",
     "output_type": "stream",
     "text": [
      "[ 2.59079639 -0.88770127 -1.59633805 -1.72745735 -0.2324677  -0.72920209\n",
      " -1.26055249 -1.53201308 -1.50440053 -1.52455193 -1.44573855 -0.97739527\n",
      " -0.9198631  -0.91160272  0.08963148  0.805921    0.66071735 -0.32026857\n",
      "  2.17352091  0.16905415  0.99145868]\n",
      "[ 1.63390587 -0.88497319 -1.55525709 -1.67560974 -0.22813939 -0.71269255\n",
      " -1.20621089 -1.4657718  -1.45130714 -1.47264742 -1.36059775 -0.96420771\n",
      " -0.91917906 -0.91173335  0.15000199  0.805921    0.58912202  0.30694949\n",
      "  0.59815752  1.49158658  0.62492617]\n"
     ]
    }
   ],
   "source": [
    "for i  in range(2):\n",
    "    print(std_x_train[i])"
   ]
  },
  {
   "cell_type": "markdown",
   "metadata": {},
   "source": [
    "## Classification Models"
   ]
  },
  {
   "cell_type": "markdown",
   "metadata": {},
   "source": [
    "### Benchmark"
   ]
  },
  {
   "cell_type": "code",
   "execution_count": 31,
   "metadata": {},
   "outputs": [
    {
     "name": "stdout",
     "output_type": "stream",
     "text": [
      "Positive vs Negative N-Day Return:  0.61\n"
     ]
    }
   ],
   "source": [
    "yratio = df['priceiny'][:y].sum()/len(df['priceiny'][:y])\n",
    "print('Positive vs Negative N-Day Return: ', yratio.round(2))"
   ]
  },
  {
   "cell_type": "markdown",
   "metadata": {},
   "source": [
    "### Logistic Regression\n",
    "Logistic regression is a way of modelling the probability of the positive outcome.\n",
    "- Logistic regression estimates a multiple linear regression function by trying to find the parameters $\\beta_0,\\beta_1$ such that our dependent variable $y$ has the form:\n",
    "$$ y = \\begin{cases} 1,\\,\\text{ if }\\,\\beta_0+\\beta_1x + \\epsilon > 0 \\\\ 0,\\,\\text{  otherwise  }\\end{cases} $$"
   ]
  },
  {
   "cell_type": "code",
   "execution_count": 32,
   "metadata": {},
   "outputs": [],
   "source": [
    "import sklearn as sk\n",
    "from sklearn import metrics, linear_model\n",
    "from sklearn.linear_model import LogisticRegression"
   ]
  },
  {
   "cell_type": "code",
   "execution_count": 33,
   "metadata": {},
   "outputs": [
    {
     "data": {
      "text/plain": [
       "LogisticRegression(C=1.0, class_weight=None, dual=False, fit_intercept=True,\n",
       "                   intercept_scaling=1, l1_ratio=None, max_iter=100,\n",
       "                   multi_class='auto', n_jobs=None, penalty='l2',\n",
       "                   random_state=None, solver='liblinear', tol=0.0001, verbose=0,\n",
       "                   warm_start=False)"
      ]
     },
     "execution_count": 33,
     "metadata": {},
     "output_type": "execute_result"
    }
   ],
   "source": [
    "log_model= linear_model.LogisticRegression(solver='liblinear')\n",
    "log_model.fit(std_x_train,y_train)"
   ]
  },
  {
   "cell_type": "code",
   "execution_count": 34,
   "metadata": {},
   "outputs": [
    {
     "name": "stdout",
     "output_type": "stream",
     "text": [
      "log N-day:  0.671\n"
     ]
    }
   ],
   "source": [
    "log_train_result = log_model.score(std_x_train, y_train).round(3)\n",
    "\n",
    "print('log N-day: ',log_train_result)"
   ]
  },
  {
   "cell_type": "markdown",
   "metadata": {},
   "source": [
    "### SVM - Support Vector Classification"
   ]
  },
  {
   "cell_type": "markdown",
   "metadata": {},
   "source": [
    "Support Vector Machine (SVM) is a supervised machine learning algorithm which is useful in classification problems. \n",
    "- Plot each data item as a point in n-dimensional space (where n is the number of features you have) with the value of each feature being the value of a particular coordinate\n",
    "- Perform classification by finding the hyper-plane that differentiates the two classes very well\n",
    "- Find the line that maximizes the distances between nearest data point (either class) and hyper-plane, which is called the margin\n",
    "- When the features and labels are non-linear, the SVM 'RBF' kernel is preferred"
   ]
  },
  {
   "cell_type": "code",
   "execution_count": 35,
   "metadata": {},
   "outputs": [],
   "source": [
    "from sklearn.svm import SVC"
   ]
  },
  {
   "cell_type": "code",
   "execution_count": 36,
   "metadata": {},
   "outputs": [
    {
     "data": {
      "text/plain": [
       "SVC(C=1.0, break_ties=False, cache_size=200, class_weight=None, coef0=0.0,\n",
       "    decision_function_shape='ovr', degree=3, gamma='scale', kernel='rbf',\n",
       "    max_iter=-1, probability=False, random_state=None, shrinking=True,\n",
       "    tol=0.001, verbose=False)"
      ]
     },
     "execution_count": 36,
     "metadata": {},
     "output_type": "execute_result"
    }
   ],
   "source": [
    "svm_model = SVC(kernel='rbf')\n",
    "svm_model.fit(std_x_train,y_train)"
   ]
  },
  {
   "cell_type": "code",
   "execution_count": 37,
   "metadata": {},
   "outputs": [
    {
     "name": "stdout",
     "output_type": "stream",
     "text": [
      "svm N-day:  0.779\n"
     ]
    }
   ],
   "source": [
    "svm_train_result = svm_model.score(std_x_train, y_train).round(3)\n",
    "\n",
    "print('svm N-day: ', svm_train_result)"
   ]
  },
  {
   "cell_type": "markdown",
   "metadata": {},
   "source": [
    "### Decision Tree\n",
    "\n",
    "The objective is to find the smallest tree that fits the data. \n",
    "- Entropy: Calculate the homogeneity of a sample (0 for completely homogenous and 1 for equally divided)\n",
    "- A decision tree is about finding attributes that return the highest information gain (homogeneous branches)"
   ]
  },
  {
   "cell_type": "code",
   "execution_count": 38,
   "metadata": {},
   "outputs": [
    {
     "data": {
      "text/plain": [
       "DecisionTreeClassifier(ccp_alpha=0.0, class_weight=None, criterion='gini',\n",
       "                       max_depth=5, max_features=None, max_leaf_nodes=None,\n",
       "                       min_impurity_decrease=0.0, min_impurity_split=None,\n",
       "                       min_samples_leaf=21, min_samples_split=2,\n",
       "                       min_weight_fraction_leaf=0.0, presort='deprecated',\n",
       "                       random_state=None, splitter='best')"
      ]
     },
     "execution_count": 38,
     "metadata": {},
     "output_type": "execute_result"
    }
   ],
   "source": [
    "from sklearn import tree\n",
    "\n",
    "tree_model = tree.DecisionTreeClassifier(max_depth=5, min_samples_leaf = abs(y))\n",
    "tree_model.fit(std_x_train, y_train)"
   ]
  },
  {
   "cell_type": "code",
   "execution_count": 39,
   "metadata": {},
   "outputs": [
    {
     "name": "stdout",
     "output_type": "stream",
     "text": [
      "tree N-day:  0.746\n"
     ]
    }
   ],
   "source": [
    "tree_train_result = tree_model.score(std_x_train, y_train).round(3)\n",
    "\n",
    "print('tree N-day: ', tree_train_result)"
   ]
  },
  {
   "cell_type": "markdown",
   "metadata": {},
   "source": [
    "### Random Forests\n",
    "\n",
    "**Random Forests**: build many decision trees in parallel, use voting to smartly combine the outputs back into 1 model. A subset (sample) of the total data is used for each tree, with aggregation (bagging) at the end to bring everything together.\n",
    "\n",
    "Parameter Tuning: https://medium.com/all-things-ai/in-depth-parameter-tuning-for-random-forest-d67bb7e920d"
   ]
  },
  {
   "cell_type": "code",
   "execution_count": 40,
   "metadata": {},
   "outputs": [
    {
     "data": {
      "text/plain": [
       "RandomForestClassifier(bootstrap=True, ccp_alpha=0.0, class_weight=None,\n",
       "                       criterion='gini', max_depth=10, max_features=20,\n",
       "                       max_leaf_nodes=None, max_samples=None,\n",
       "                       min_impurity_decrease=0.0, min_impurity_split=None,\n",
       "                       min_samples_leaf=2, min_samples_split=2,\n",
       "                       min_weight_fraction_leaf=0.0, n_estimators=50,\n",
       "                       n_jobs=None, oob_score=False, random_state=None,\n",
       "                       verbose=0, warm_start=False)"
      ]
     },
     "execution_count": 40,
     "metadata": {},
     "output_type": "execute_result"
    }
   ],
   "source": [
    "from sklearn.ensemble import RandomForestClassifier\n",
    "\n",
    "rfc_model = RandomForestClassifier(n_estimators=50, max_depth=10, min_samples_split=2, min_samples_leaf=2, max_features=20)\n",
    "rfc_model.fit(std_x_train, y_train)"
   ]
  },
  {
   "cell_type": "code",
   "execution_count": 41,
   "metadata": {},
   "outputs": [
    {
     "name": "stdout",
     "output_type": "stream",
     "text": [
      "rfc N-day:  0.939\n"
     ]
    }
   ],
   "source": [
    "rfc_train_result = rfc_model.score(std_x_train, y_train).round(3)\n",
    "\n",
    "print('rfc N-day: ', rfc_train_result)"
   ]
  },
  {
   "cell_type": "code",
   "execution_count": 42,
   "metadata": {},
   "outputs": [
    {
     "data": {
      "image/png": "[encoded data removed]",
      "text/plain": [
       "<Figure size 432x576 with 1 Axes>"
      ]
     },
     "metadata": {
      "needs_background": "light"
     },
     "output_type": "display_data"
    }
   ],
   "source": [
    "df_feat_importances = pd.DataFrame(list(zip(features_to_include,rfc_model.feature_importances_)), columns=['Feature','Importance'])\n",
    "df_feat_importances.sort_values(by='Importance', inplace=True)\n",
    "\n",
    "plt.figure(figsize=[6,8])\n",
    "plt.barh(df_feat_importances['Feature'],df_feat_importances['Importance']);"
   ]
  },
  {
   "cell_type": "markdown",
   "metadata": {},
   "source": [
    "### Gradient Boosted Trees\n",
    "\n",
    "**Boosted Trees**: build many decision trees in series, where the subsequent model is built on the error from the previous model. In this configuration, additional models are fit on the effects that were not captured in the previous model. Then at the end, the different models are added together to give the final result.\n",
    "\n",
    "Parameter Tuning: https://medium.com/all-things-ai/in-depth-parameter-tuning-for-gradient-boosting-3363992e9bae"
   ]
  },
  {
   "cell_type": "code",
   "execution_count": 43,
   "metadata": {},
   "outputs": [
    {
     "data": {
      "text/plain": [
       "GradientBoostingClassifier(ccp_alpha=0.0, criterion='friedman_mse', init=None,\n",
       "                           learning_rate=0.01, loss='deviance', max_depth=10,\n",
       "                           max_features=20, max_leaf_nodes=None,\n",
       "                           min_impurity_decrease=0.0, min_impurity_split=None,\n",
       "                           min_samples_leaf=2, min_samples_split=2,\n",
       "                           min_weight_fraction_leaf=0.0, n_estimators=50,\n",
       "                           n_iter_no_change=None, presort='deprecated',\n",
       "                           random_state=None, subsample=1.0, tol=0.0001,\n",
       "                           validation_fraction=0.1, verbose=0,\n",
       "                           warm_start=False)"
      ]
     },
     "execution_count": 43,
     "metadata": {},
     "output_type": "execute_result"
    }
   ],
   "source": [
    "from sklearn.ensemble import GradientBoostingClassifier\n",
    "\n",
    "gbt_model = GradientBoostingClassifier(learning_rate=.01, n_estimators=50 , max_depth=10, min_samples_split=2, min_samples_leaf=2, max_features=20)\n",
    "gbt_model.fit(std_x_train, y_train)"
   ]
  },
  {
   "cell_type": "code",
   "execution_count": 44,
   "metadata": {},
   "outputs": [
    {
     "name": "stdout",
     "output_type": "stream",
     "text": [
      "gbt N-day:  0.923\n"
     ]
    }
   ],
   "source": [
    "gbt_train_result = gbt_model.score(std_x_train, y_train).round(3)\n",
    "\n",
    "print('gbt N-day: ', gbt_train_result)"
   ]
  },
  {
   "cell_type": "code",
   "execution_count": 45,
   "metadata": {},
   "outputs": [
    {
     "data": {
      "image/png": "[encoded data removed]",
      "text/plain": [
       "<Figure size 432x576 with 1 Axes>"
      ]
     },
     "metadata": {
      "needs_background": "light"
     },
     "output_type": "display_data"
    }
   ],
   "source": [
    "df_feat_importances_gbt = pd.DataFrame(list(zip(features_to_include,gbt_model.feature_importances_)), columns=['Feature','Importance'])\n",
    "df_feat_importances_gbt.sort_values(by='Importance', inplace=True)\n",
    "\n",
    "plt.figure(figsize=[6,8])\n",
    "plt.barh(df_feat_importances_gbt['Feature'],df_feat_importances_gbt['Importance']);"
   ]
  },
  {
   "cell_type": "markdown",
   "metadata": {},
   "source": [
    "### Summary of Train Dataset:"
   ]
  },
  {
   "cell_type": "code",
   "execution_count": 46,
   "metadata": {},
   "outputs": [
    {
     "name": "stdout",
     "output_type": "stream",
     "text": [
      "log N-day:  0.671\n",
      "svm N-day:  0.779\n",
      "tree N-day:  0.746\n",
      "rfc N-day:  0.939\n",
      "gbt N-day:  0.923\n"
     ]
    }
   ],
   "source": [
    "print('log N-day: ',log_train_result)\n",
    "print('svm N-day: ', svm_train_result)\n",
    "print('tree N-day: ', tree_train_result)\n",
    "print('rfc N-day: ', rfc_train_result)\n",
    "print('gbt N-day: ', gbt_train_result)"
   ]
  },
  {
   "cell_type": "markdown",
   "metadata": {},
   "source": [
    "## Model Validation on Test Data"
   ]
  },
  {
   "cell_type": "markdown",
   "metadata": {},
   "source": [
    "### Accuracy"
   ]
  },
  {
   "cell_type": "code",
   "execution_count": 47,
   "metadata": {},
   "outputs": [
    {
     "name": "stdout",
     "output_type": "stream",
     "text": [
      "log accuracy score:  0.569\n"
     ]
    }
   ],
   "source": [
    "log_new = std_x_test\n",
    "log_new = log_model.predict(log_new)\n",
    "log_test_result = metrics.accuracy_score(log_new, y_test).round(3)\n",
    "print('log accuracy score: ', log_test_result)"
   ]
  },
  {
   "cell_type": "code",
   "execution_count": 48,
   "metadata": {},
   "outputs": [
    {
     "name": "stdout",
     "output_type": "stream",
     "text": [
      "svm accuracy score:  0.545\n"
     ]
    }
   ],
   "source": [
    "svm_new = std_x_test\n",
    "svm_new = svm_model.predict(svm_new)\n",
    "svm_test_result = metrics.accuracy_score(svm_new, y_test).round(3)\n",
    "print('svm accuracy score: ',svm_test_result)"
   ]
  },
  {
   "cell_type": "code",
   "execution_count": 49,
   "metadata": {},
   "outputs": [
    {
     "name": "stdout",
     "output_type": "stream",
     "text": [
      "tree accuracy score:  0.536\n"
     ]
    }
   ],
   "source": [
    "tree_new = std_x_test\n",
    "tree_new = tree_model.predict(tree_new)\n",
    "tree_test_result = metrics.accuracy_score(tree_new, y_test).round(3)\n",
    "print('tree accuracy score: ',tree_test_result)"
   ]
  },
  {
   "cell_type": "code",
   "execution_count": 50,
   "metadata": {},
   "outputs": [
    {
     "name": "stdout",
     "output_type": "stream",
     "text": [
      "rfc accuracy score:  0.545\n"
     ]
    }
   ],
   "source": [
    "rfc_new = std_x_test\n",
    "rfc_new = rfc_model.predict(rfc_new)\n",
    "rfc_test_result = metrics.accuracy_score(rfc_new, y_test).round(3)\n",
    "print('rfc accuracy score: ',rfc_test_result)"
   ]
  },
  {
   "cell_type": "code",
   "execution_count": 51,
   "metadata": {},
   "outputs": [
    {
     "name": "stdout",
     "output_type": "stream",
     "text": [
      "gbt accuracy score:  0.58\n"
     ]
    }
   ],
   "source": [
    "gbt_new = std_x_test\n",
    "gbt_new = gbt_model.predict(gbt_new)\n",
    "gbt_test_result = metrics.accuracy_score(gbt_new, y_test).round(3)\n",
    "print('gbt accuracy score: ',gbt_test_result)"
   ]
  },
  {
   "cell_type": "markdown",
   "metadata": {},
   "source": [
    "### Confusion Matrix"
   ]
  },
  {
   "cell_type": "markdown",
   "metadata": {},
   "source": [
    "- True Positives (TP): These are cases in which we predicted 1 (the price would be up), and the price was actually up.\n",
    "- True Negatives (TN): We predicted that the price would be down, and it was down.\n",
    "- False Positives (FP): We predicted the price was up, but the price as down. (Also known as a \"Type I error.\")\n",
    "- False Negatives (FN): We predicted the price was down, but it was up. (Also known as a \"Type II error.\")"
   ]
  },
  {
   "cell_type": "code",
   "execution_count": 52,
   "metadata": {},
   "outputs": [
    {
     "data": {
      "image/png": "[encoded data removed]",
      "text/plain": [
       "<Figure size 432x288 with 2 Axes>"
      ]
     },
     "metadata": {
      "needs_background": "light"
     },
     "output_type": "display_data"
    }
   ],
   "source": [
    "from sklearn.metrics import confusion_matrix\n",
    "from sklearn.metrics import ConfusionMatrixDisplay\n",
    "\n",
    "log_y_matrix = confusion_matrix(y_test,log_new, labels=[1,0])\n",
    "ConfusionMatrixDisplay(log_y_matrix,display_labels = ['up','down']).plot();"
   ]
  },
  {
   "cell_type": "code",
   "execution_count": 53,
   "metadata": {},
   "outputs": [
    {
     "data": {
      "image/png": "[encoded data removed]",
      "text/plain": [
       "<Figure size 432x288 with 2 Axes>"
      ]
     },
     "metadata": {
      "needs_background": "light"
     },
     "output_type": "display_data"
    }
   ],
   "source": [
    "svm_y_matrix = confusion_matrix(y_test, svm_new,labels=[1,0])\n",
    "ConfusionMatrixDisplay(svm_y_matrix, display_labels = ['up','down']).plot(); "
   ]
  },
  {
   "cell_type": "code",
   "execution_count": 54,
   "metadata": {},
   "outputs": [
    {
     "data": {
      "image/png": "[encoded data removed]",
      "text/plain": [
       "<Figure size 432x288 with 2 Axes>"
      ]
     },
     "metadata": {
      "needs_background": "light"
     },
     "output_type": "display_data"
    }
   ],
   "source": [
    "tree_y_matrix = confusion_matrix(y_test,tree_new, labels=[1,0])\n",
    "ConfusionMatrixDisplay(tree_y_matrix, display_labels = ['up','down']).plot();"
   ]
  },
  {
   "cell_type": "code",
   "execution_count": 55,
   "metadata": {},
   "outputs": [
    {
     "data": {
      "image/png": "[encoded data removed]",
      "text/plain": [
       "<Figure size 432x288 with 2 Axes>"
      ]
     },
     "metadata": {
      "needs_background": "light"
     },
     "output_type": "display_data"
    }
   ],
   "source": [
    "rfc_y_matrix = confusion_matrix(y_test,rfc_new, labels=[1,0])\n",
    "ConfusionMatrixDisplay(rfc_y_matrix, display_labels = ['up','down']).plot();"
   ]
  },
  {
   "cell_type": "code",
   "execution_count": 56,
   "metadata": {},
   "outputs": [
    {
     "data": {
      "image/png": "[encoded data removed]",
      "text/plain": [
       "<Figure size 432x288 with 2 Axes>"
      ]
     },
     "metadata": {
      "needs_background": "light"
     },
     "output_type": "display_data"
    }
   ],
   "source": [
    "gbt_y_matrix = confusion_matrix(y_test,gbt_new, labels=[1,0])\n",
    "ConfusionMatrixDisplay(gbt_y_matrix, display_labels = ['up','down']).plot();"
   ]
  },
  {
   "cell_type": "markdown",
   "metadata": {},
   "source": [
    "### Precision = 'Predicted' Total Positive"
   ]
  },
  {
   "cell_type": "markdown",
   "metadata": {},
   "source": [
    "The precision is the ratio tp / (tp + fp) where tp is the number of true positives and fp the number of false positives. The precision is intuitively the ability of the classifier not to label as positive a sample that is negative.\n",
    "\n",
    "Out of all the positive classes we have predicted correctly, how many are actually positive."
   ]
  },
  {
   "cell_type": "code",
   "execution_count": 57,
   "metadata": {},
   "outputs": [
    {
     "name": "stdout",
     "output_type": "stream",
     "text": [
      "log precision score:  0.771\n"
     ]
    }
   ],
   "source": [
    "from sklearn.metrics import precision_score\n",
    "log_precision = precision_score(log_new, y_test).round(3)\n",
    "print('log precision score: ', log_precision)"
   ]
  },
  {
   "cell_type": "code",
   "execution_count": 58,
   "metadata": {},
   "outputs": [
    {
     "name": "stdout",
     "output_type": "stream",
     "text": [
      "svm precision score:  0.756\n"
     ]
    }
   ],
   "source": [
    "svm_precision = precision_score(svm_new, y_test).round(3)\n",
    "print('svm precision score: ', svm_precision)"
   ]
  },
  {
   "cell_type": "code",
   "execution_count": 59,
   "metadata": {},
   "outputs": [
    {
     "name": "stdout",
     "output_type": "stream",
     "text": [
      "tree precision score:  0.743\n"
     ]
    }
   ],
   "source": [
    "tree_precision = precision_score(tree_new, y_test).round(3)\n",
    "print('tree precision score: ', tree_precision)"
   ]
  },
  {
   "cell_type": "code",
   "execution_count": 60,
   "metadata": {},
   "outputs": [
    {
     "name": "stdout",
     "output_type": "stream",
     "text": [
      "rfc precision score:  0.751\n"
     ]
    }
   ],
   "source": [
    "rfc_precision = precision_score(rfc_new, y_test).round(3)\n",
    "print('rfc precision score: ', rfc_precision)"
   ]
  },
  {
   "cell_type": "code",
   "execution_count": 61,
   "metadata": {},
   "outputs": [
    {
     "name": "stdout",
     "output_type": "stream",
     "text": [
      "gbt precision score:  0.768\n"
     ]
    }
   ],
   "source": [
    "gbt_precision = precision_score(gbt_new, y_test).round(3)\n",
    "print('gbt precision score: ', gbt_precision)"
   ]
  },
  {
   "cell_type": "markdown",
   "metadata": {},
   "source": [
    "### Recall = 'Actual' Total Positive"
   ]
  },
  {
   "cell_type": "markdown",
   "metadata": {},
   "source": [
    "The recall is the ratio tp / (tp + fn) where tp is the number of true positives and fn the number of false negatives. The recall is intuitively the ability of the classifier to find all the positive samples.\n",
    "\n",
    "Out of all the positive classes, we have predicted x correctly. It should be as high as possible."
   ]
  },
  {
   "cell_type": "code",
   "execution_count": 62,
   "metadata": {},
   "outputs": [
    {
     "name": "stdout",
     "output_type": "stream",
     "text": [
      "log recall score:  0.632\n"
     ]
    }
   ],
   "source": [
    "from sklearn.metrics import recall_score\n",
    "log_recall = recall_score(log_new, y_test).round(3)\n",
    "print('log recall score: ', log_recall)"
   ]
  },
  {
   "cell_type": "code",
   "execution_count": 63,
   "metadata": {},
   "outputs": [
    {
     "name": "stdout",
     "output_type": "stream",
     "text": [
      "svm recall score:  0.615\n"
     ]
    }
   ],
   "source": [
    "svm_recall = recall_score(svm_new, y_test).round(3)\n",
    "print('svm recall score: ', svm_recall)"
   ]
  },
  {
   "cell_type": "code",
   "execution_count": 64,
   "metadata": {},
   "outputs": [
    {
     "name": "stdout",
     "output_type": "stream",
     "text": [
      "tree recall score:  0.61\n"
     ]
    }
   ],
   "source": [
    "tree_recall = recall_score(tree_new, y_test).round(3)\n",
    "print('tree recall score: ', tree_recall)"
   ]
  },
  {
   "cell_type": "code",
   "execution_count": 65,
   "metadata": {},
   "outputs": [
    {
     "name": "stdout",
     "output_type": "stream",
     "text": [
      "rfc recall score:  0.616\n"
     ]
    }
   ],
   "source": [
    "rfc_recall = recall_score(rfc_new, y_test).round(3)\n",
    "print('rfc recall score: ', rfc_recall)"
   ]
  },
  {
   "cell_type": "code",
   "execution_count": 66,
   "metadata": {},
   "outputs": [
    {
     "name": "stdout",
     "output_type": "stream",
     "text": [
      "gbt recall score:  0.641\n"
     ]
    }
   ],
   "source": [
    "gbt_recall = recall_score(gbt_new, y_test).round(3)\n",
    "print('gbt recall score: ', gbt_recall)"
   ]
  },
  {
   "cell_type": "markdown",
   "metadata": {},
   "source": [
    "### F1 "
   ]
  },
  {
   "cell_type": "markdown",
   "metadata": {},
   "source": [
    "It is difficult to compare two models with low precision and high recall or vice versa. So, to make them comparable, we use F-Score. F-Score helps to measure Recall and Precision at the same time. \n",
    "\n",
    "The F1 score can be interpreted as a weighted mean of the precision and recall, where an F1 score reaches its best value at 1 and the worst score at 0. The relative contribution of precision and recall to the F1 score are equal. The formula for the F1 score is:\n",
    "\n",
    "F1 = 2 * (precision * recall) / (precision + recall)"
   ]
  },
  {
   "cell_type": "code",
   "execution_count": 67,
   "metadata": {},
   "outputs": [
    {
     "name": "stdout",
     "output_type": "stream",
     "text": [
      "log f1 score:  0.694\n"
     ]
    }
   ],
   "source": [
    "from sklearn.metrics import f1_score\n",
    "log_f1 = f1_score(log_new, y_test).round(3)\n",
    "print('log f1 score: ', log_f1)"
   ]
  },
  {
   "cell_type": "code",
   "execution_count": 68,
   "metadata": {},
   "outputs": [
    {
     "name": "stdout",
     "output_type": "stream",
     "text": [
      "svm f1 score:  0.678\n"
     ]
    }
   ],
   "source": [
    "svm_f1 = f1_score(svm_new, y_test).round(3)\n",
    "print('svm f1 score: ', svm_f1)"
   ]
  },
  {
   "cell_type": "code",
   "execution_count": 69,
   "metadata": {},
   "outputs": [
    {
     "name": "stdout",
     "output_type": "stream",
     "text": [
      "tree f1 score:  0.67\n"
     ]
    }
   ],
   "source": [
    "tree_f1 = f1_score(tree_new, y_test).round(3)\n",
    "print('tree f1 score: ', tree_f1)"
   ]
  },
  {
   "cell_type": "code",
   "execution_count": 70,
   "metadata": {},
   "outputs": [
    {
     "name": "stdout",
     "output_type": "stream",
     "text": [
      "rfc f1 score:  0.677\n"
     ]
    }
   ],
   "source": [
    "rfc_f1 = f1_score(rfc_new, y_test).round(3)\n",
    "print('rfc f1 score: ', rfc_f1)"
   ]
  },
  {
   "cell_type": "code",
   "execution_count": 71,
   "metadata": {},
   "outputs": [
    {
     "name": "stdout",
     "output_type": "stream",
     "text": [
      "gbt f1 score:  0.699\n"
     ]
    }
   ],
   "source": [
    "gbt_f1 = f1_score(gbt_new, y_test).round(3)\n",
    "print('gbt f1 score: ', gbt_f1)"
   ]
  },
  {
   "cell_type": "markdown",
   "metadata": {},
   "source": [
    "## Looking Forward"
   ]
  },
  {
   "cell_type": "code",
   "execution_count": 72,
   "metadata": {},
   "outputs": [],
   "source": [
    "fx_train = df[['totdebttoev', 'ev',\n",
    "       'evtosales', 'ptosps', 'evtoebit', 'pe', 'ptocfps', 'evtoopcf',\n",
    "       'ptobvps', 'ptotanbvpershare', 'evtoebitda', 'atr',\n",
    "       'bbplus', 'bbminus', 'macdspread', 'smaNdummy', 'adx', 'rsi',\n",
    "       'stochspread', 'volspread', 'vix']][:z]\n",
    "fy_train = df[['priceiny']][:z]\n",
    "\n",
    "fx_test = df[['totdebttoev', 'ev',\n",
    "       'evtosales', 'ptosps', 'evtoebit', 'pe', 'ptocfps', 'evtoopcf',\n",
    "       'ptobvps', 'ptotanbvpershare', 'evtoebitda', 'atr',\n",
    "       'bbplus', 'bbminus', 'macdspread', 'smaNdummy', 'adx', 'rsi',\n",
    "       'stochspread', 'volspread', 'vix']][z:]\n",
    "fy_test = df[['priceiny']][z:]\n",
    "\n",
    "fstd_x_train = scaler.fit(fx_train).transform(fx_train)\n",
    "fstd_x_test = scaler.fit(fx_test).transform(fx_test)\n",
    "\n",
    "log_model.fit(fstd_x_train,fy_train)\n",
    "flog_train = log_model.score(fstd_x_train, fy_train).round(3)\n",
    "flog_new = fstd_x_test\n",
    "flog_new = log_model.predict(flog_new)\n",
    "\n",
    "svm_model.fit(fstd_x_train,fy_train)\n",
    "fsvm_train = svm_model.score(fstd_x_train, fy_train).round(3)\n",
    "fsvm_new = fstd_x_test\n",
    "fsvm_new = svm_model.predict(fsvm_new)\n",
    "\n",
    "tree_model.fit(fstd_x_train,fy_train)\n",
    "ftree_train = tree_model.score(fstd_x_train, fy_train).round(3)\n",
    "ftree_new = fstd_x_test\n",
    "ftree_new = tree_model.predict(ftree_new)\n",
    "\n",
    "rfc_model.fit(fstd_x_train,fy_train)\n",
    "frfc_train = rfc_model.score(fstd_x_train, fy_train).round(3)\n",
    "frfc_new = fstd_x_test\n",
    "frfc_new = tree_model.predict(frfc_new)\n",
    "\n",
    "gbt_model.fit(fstd_x_train,fy_train)\n",
    "fgbt_train = gbt_model.score(fstd_x_train, fy_train).round(3)\n",
    "fgbt_new = fstd_x_test\n",
    "fgbt_new = gbt_model.predict(fgbt_new)"
   ]
  },
  {
   "cell_type": "code",
   "execution_count": 73,
   "metadata": {},
   "outputs": [],
   "source": [
    "fx_test['log_new'] = flog_new\n",
    "fx_test['svm_new'] = fsvm_new\n",
    "fx_test['tree_new'] = ftree_new\n",
    "fx_test['rfc_new'] = frfc_new\n",
    "fx_test['gbt_new'] = fgbt_new"
   ]
  },
  {
   "cell_type": "code",
   "execution_count": 74,
   "metadata": {},
   "outputs": [],
   "source": [
    "df = df[~df.index.duplicated()]\n",
    "fx_test['price'] = df['priceclose']"
   ]
  },
  {
   "cell_type": "code",
   "execution_count": 75,
   "metadata": {
    "scrolled": true
   },
   "outputs": [
    {
     "data": {
      "text/html": [
       "<div>\n",
       "<style scoped>\n",
       "    .dataframe tbody tr th:only-of-type {\n",
       "        vertical-align: middle;\n",
       "    }\n",
       "\n",
       "    .dataframe tbody tr th {\n",
       "        vertical-align: top;\n",
       "    }\n",
       "\n",
       "    .dataframe thead th {\n",
       "        text-align: right;\n",
       "    }\n",
       "</style>\n",
       "<table border=\"1\" class=\"dataframe\">\n",
       "  <thead>\n",
       "    <tr style=\"text-align: right;\">\n",
       "      <th></th>\n",
       "      <th>log_new</th>\n",
       "      <th>svm_new</th>\n",
       "      <th>tree_new</th>\n",
       "      <th>rfc_new</th>\n",
       "      <th>gbt_new</th>\n",
       "      <th>price</th>\n",
       "    </tr>\n",
       "    <tr>\n",
       "      <th>Date</th>\n",
       "      <th></th>\n",
       "      <th></th>\n",
       "      <th></th>\n",
       "      <th></th>\n",
       "      <th></th>\n",
       "      <th></th>\n",
       "    </tr>\n",
       "  </thead>\n",
       "  <tbody>\n",
       "    <tr>\n",
       "      <th>2020-10-19</th>\n",
       "      <td>0</td>\n",
       "      <td>0</td>\n",
       "      <td>0</td>\n",
       "      <td>0</td>\n",
       "      <td>1</td>\n",
       "      <td>115.98</td>\n",
       "    </tr>\n",
       "    <tr>\n",
       "      <th>2020-10-20</th>\n",
       "      <td>0</td>\n",
       "      <td>0</td>\n",
       "      <td>0</td>\n",
       "      <td>0</td>\n",
       "      <td>1</td>\n",
       "      <td>117.51</td>\n",
       "    </tr>\n",
       "    <tr>\n",
       "      <th>2020-10-21</th>\n",
       "      <td>0</td>\n",
       "      <td>0</td>\n",
       "      <td>0</td>\n",
       "      <td>0</td>\n",
       "      <td>1</td>\n",
       "      <td>116.87</td>\n",
       "    </tr>\n",
       "    <tr>\n",
       "      <th>2020-10-22</th>\n",
       "      <td>0</td>\n",
       "      <td>0</td>\n",
       "      <td>0</td>\n",
       "      <td>0</td>\n",
       "      <td>1</td>\n",
       "      <td>115.75</td>\n",
       "    </tr>\n",
       "    <tr>\n",
       "      <th>2020-10-23</th>\n",
       "      <td>0</td>\n",
       "      <td>0</td>\n",
       "      <td>0</td>\n",
       "      <td>0</td>\n",
       "      <td>1</td>\n",
       "      <td>115.04</td>\n",
       "    </tr>\n",
       "    <tr>\n",
       "      <th>2020-10-26</th>\n",
       "      <td>0</td>\n",
       "      <td>0</td>\n",
       "      <td>0</td>\n",
       "      <td>0</td>\n",
       "      <td>1</td>\n",
       "      <td>115.05</td>\n",
       "    </tr>\n",
       "    <tr>\n",
       "      <th>2020-10-27</th>\n",
       "      <td>0</td>\n",
       "      <td>0</td>\n",
       "      <td>0</td>\n",
       "      <td>0</td>\n",
       "      <td>1</td>\n",
       "      <td>116.60</td>\n",
       "    </tr>\n",
       "    <tr>\n",
       "      <th>2020-10-28</th>\n",
       "      <td>0</td>\n",
       "      <td>0</td>\n",
       "      <td>0</td>\n",
       "      <td>0</td>\n",
       "      <td>1</td>\n",
       "      <td>111.20</td>\n",
       "    </tr>\n",
       "    <tr>\n",
       "      <th>2020-10-29</th>\n",
       "      <td>0</td>\n",
       "      <td>0</td>\n",
       "      <td>0</td>\n",
       "      <td>0</td>\n",
       "      <td>1</td>\n",
       "      <td>115.32</td>\n",
       "    </tr>\n",
       "    <tr>\n",
       "      <th>2020-10-30</th>\n",
       "      <td>0</td>\n",
       "      <td>0</td>\n",
       "      <td>0</td>\n",
       "      <td>0</td>\n",
       "      <td>1</td>\n",
       "      <td>108.86</td>\n",
       "    </tr>\n",
       "    <tr>\n",
       "      <th>2020-11-02</th>\n",
       "      <td>0</td>\n",
       "      <td>0</td>\n",
       "      <td>0</td>\n",
       "      <td>0</td>\n",
       "      <td>1</td>\n",
       "      <td>108.77</td>\n",
       "    </tr>\n",
       "    <tr>\n",
       "      <th>2020-11-03</th>\n",
       "      <td>0</td>\n",
       "      <td>0</td>\n",
       "      <td>0</td>\n",
       "      <td>0</td>\n",
       "      <td>1</td>\n",
       "      <td>110.44</td>\n",
       "    </tr>\n",
       "    <tr>\n",
       "      <th>2020-11-04</th>\n",
       "      <td>0</td>\n",
       "      <td>0</td>\n",
       "      <td>0</td>\n",
       "      <td>0</td>\n",
       "      <td>1</td>\n",
       "      <td>114.95</td>\n",
       "    </tr>\n",
       "    <tr>\n",
       "      <th>2020-11-05</th>\n",
       "      <td>0</td>\n",
       "      <td>0</td>\n",
       "      <td>0</td>\n",
       "      <td>0</td>\n",
       "      <td>1</td>\n",
       "      <td>119.03</td>\n",
       "    </tr>\n",
       "    <tr>\n",
       "      <th>2020-11-06</th>\n",
       "      <td>0</td>\n",
       "      <td>0</td>\n",
       "      <td>0</td>\n",
       "      <td>0</td>\n",
       "      <td>1</td>\n",
       "      <td>118.69</td>\n",
       "    </tr>\n",
       "    <tr>\n",
       "      <th>2020-11-09</th>\n",
       "      <td>0</td>\n",
       "      <td>0</td>\n",
       "      <td>0</td>\n",
       "      <td>0</td>\n",
       "      <td>1</td>\n",
       "      <td>116.32</td>\n",
       "    </tr>\n",
       "    <tr>\n",
       "      <th>2020-11-10</th>\n",
       "      <td>0</td>\n",
       "      <td>0</td>\n",
       "      <td>0</td>\n",
       "      <td>0</td>\n",
       "      <td>1</td>\n",
       "      <td>115.97</td>\n",
       "    </tr>\n",
       "    <tr>\n",
       "      <th>2020-11-11</th>\n",
       "      <td>0</td>\n",
       "      <td>0</td>\n",
       "      <td>0</td>\n",
       "      <td>0</td>\n",
       "      <td>1</td>\n",
       "      <td>119.49</td>\n",
       "    </tr>\n",
       "    <tr>\n",
       "      <th>2020-11-12</th>\n",
       "      <td>0</td>\n",
       "      <td>0</td>\n",
       "      <td>0</td>\n",
       "      <td>0</td>\n",
       "      <td>1</td>\n",
       "      <td>119.21</td>\n",
       "    </tr>\n",
       "    <tr>\n",
       "      <th>2020-11-13</th>\n",
       "      <td>0</td>\n",
       "      <td>0</td>\n",
       "      <td>0</td>\n",
       "      <td>0</td>\n",
       "      <td>1</td>\n",
       "      <td>119.26</td>\n",
       "    </tr>\n",
       "    <tr>\n",
       "      <th>2020-11-16</th>\n",
       "      <td>0</td>\n",
       "      <td>0</td>\n",
       "      <td>0</td>\n",
       "      <td>0</td>\n",
       "      <td>1</td>\n",
       "      <td>120.30</td>\n",
       "    </tr>\n",
       "    <tr>\n",
       "      <th>2020-11-17</th>\n",
       "      <td>0</td>\n",
       "      <td>0</td>\n",
       "      <td>0</td>\n",
       "      <td>0</td>\n",
       "      <td>1</td>\n",
       "      <td>119.39</td>\n",
       "    </tr>\n",
       "    <tr>\n",
       "      <th>2020-11-18</th>\n",
       "      <td>0</td>\n",
       "      <td>0</td>\n",
       "      <td>0</td>\n",
       "      <td>0</td>\n",
       "      <td>1</td>\n",
       "      <td>118.03</td>\n",
       "    </tr>\n",
       "    <tr>\n",
       "      <th>2020-11-19</th>\n",
       "      <td>0</td>\n",
       "      <td>0</td>\n",
       "      <td>0</td>\n",
       "      <td>0</td>\n",
       "      <td>1</td>\n",
       "      <td>118.64</td>\n",
       "    </tr>\n",
       "    <tr>\n",
       "      <th>2020-11-20</th>\n",
       "      <td>0</td>\n",
       "      <td>0</td>\n",
       "      <td>0</td>\n",
       "      <td>0</td>\n",
       "      <td>1</td>\n",
       "      <td>117.34</td>\n",
       "    </tr>\n",
       "  </tbody>\n",
       "</table>\n",
       "</div>"
      ],
      "text/plain": [
       "            log_new  svm_new  tree_new  rfc_new  gbt_new   price\n",
       "Date                                                            \n",
       "2020-10-19        0        0         0        0        1  115.98\n",
       "2020-10-20        0        0         0        0        1  117.51\n",
       "2020-10-21        0        0         0        0        1  116.87\n",
       "2020-10-22        0        0         0        0        1  115.75\n",
       "2020-10-23        0        0         0        0        1  115.04\n",
       "2020-10-26        0        0         0        0        1  115.05\n",
       "2020-10-27        0        0         0        0        1  116.60\n",
       "2020-10-28        0        0         0        0        1  111.20\n",
       "2020-10-29        0        0         0        0        1  115.32\n",
       "2020-10-30        0        0         0        0        1  108.86\n",
       "2020-11-02        0        0         0        0        1  108.77\n",
       "2020-11-03        0        0         0        0        1  110.44\n",
       "2020-11-04        0        0         0        0        1  114.95\n",
       "2020-11-05        0        0         0        0        1  119.03\n",
       "2020-11-06        0        0         0        0        1  118.69\n",
       "2020-11-09        0        0         0        0        1  116.32\n",
       "2020-11-10        0        0         0        0        1  115.97\n",
       "2020-11-11        0        0         0        0        1  119.49\n",
       "2020-11-12        0        0         0        0        1  119.21\n",
       "2020-11-13        0        0         0        0        1  119.26\n",
       "2020-11-16        0        0         0        0        1  120.30\n",
       "2020-11-17        0        0         0        0        1  119.39\n",
       "2020-11-18        0        0         0        0        1  118.03\n",
       "2020-11-19        0        0         0        0        1  118.64\n",
       "2020-11-20        0        0         0        0        1  117.34"
      ]
     },
     "execution_count": 75,
     "metadata": {},
     "output_type": "execute_result"
    }
   ],
   "source": [
    "fx_test.iloc[-25:,-6:]"
   ]
  },
  {
   "cell_type": "code",
   "execution_count": 76,
   "metadata": {},
   "outputs": [],
   "source": [
    "fx_test.index = pd.to_datetime(fx_test.index)"
   ]
  },
  {
   "cell_type": "code",
   "execution_count": 79,
   "metadata": {},
   "outputs": [
    {
     "data": {
      "image/png": "[encoded data removed]",
      "text/plain": [
       "<Figure size 1080x1296 with 6 Axes>"
      ]
     },
     "metadata": {
      "needs_background": "light"
     },
     "output_type": "display_data"
    }
   ],
   "source": [
    "t= -400\n",
    "\n",
    "import matplotlib.gridspec as gridspec\n",
    "\n",
    "fig = plt.figure(figsize=(15,18))\n",
    "gridspec.GridSpec(4,1)\n",
    "\n",
    "plt.subplot2grid((7,1), (0,0),rowspan=2)  \n",
    "plt.plot(fx_test.index[t:],fx_test['price'][t:],label='Price', color='red')\n",
    "plt.xlabel('Time', size=12)\n",
    "plt.ylabel('Price',size=12)\n",
    "plt.legend()\n",
    "plt.xlim(fx_test.index[t],fx_test.index[-1])\n",
    "plt.title('Price',size=14)\n",
    "plt.grid()\n",
    "fig.autofmt_xdate()\n",
    "\n",
    "plt.subplot2grid((7,1), (2,0),rowspan=1)\n",
    "plt.plot(fx_test.index[t:], fx_test['log_new'][t:],label='Log', color='blue')\n",
    "plt.xlabel('Time', size=12)\n",
    "plt.ylabel('Log Score',size=12)\n",
    "plt.xlim(fx_test.index[t],fx_test.index[-1])\n",
    "plt.title('Logistic Regression',size=14)\n",
    "plt.legend()\n",
    "plt.grid()\n",
    "fig.autofmt_xdate()\n",
    "\n",
    "plt.subplot2grid((7,1), (3,0),rowspan=1)\n",
    "plt.plot(fx_test.index[t:], fx_test['svm_new'][t:],label='SVM', color='orange')\n",
    "plt.xlabel('Time', size=12)\n",
    "plt.ylabel('SVM Score',size=12)\n",
    "plt.xlim(fx_test.index[t],fx_test.index[-1])\n",
    "plt.title('Support Vector Machine',size=14)\n",
    "plt.legend()\n",
    "plt.grid()\n",
    "fig.autofmt_xdate()\n",
    "\n",
    "plt.subplot2grid((7,1), (4,0),rowspan=1)\n",
    "plt.plot(fx_test.index[t:], fx_test['tree_new'][t:],label='Tree', color='green')\n",
    "plt.xlabel('Time', size=12)\n",
    "plt.ylabel('Tree Score',size=12)\n",
    "plt.xlim(fx_test.index[t],fx_test.index[-1])\n",
    "plt.title('Decision Tree',size=14)\n",
    "plt.legend()\n",
    "plt.grid()\n",
    "fig.autofmt_xdate()\n",
    "\n",
    "plt.subplot2grid((7,1), (5,0),rowspan=1)\n",
    "plt.plot(fx_test.index[t:], fx_test['rfc_new'][t:],label='Random Forests', color='purple')\n",
    "plt.xlabel('Time', size=12)\n",
    "plt.ylabel('RFC Score',size=12)\n",
    "plt.xlim(fx_test.index[t],fx_test.index[-1])\n",
    "plt.title('Random Forests',size=14)\n",
    "plt.legend()\n",
    "plt.grid()\n",
    "fig.autofmt_xdate()\n",
    "\n",
    "plt.subplot2grid((7,1), (6,0),rowspan=1)\n",
    "plt.plot(fx_test.index[t:], fx_test['gbt_new'][t:],label='Gradient Boosting', color='brown')\n",
    "plt.xlabel('Time', size=12)\n",
    "plt.ylabel('GBT Score',size=12)\n",
    "plt.xlim(fx_test.index[t],fx_test.index[-1])\n",
    "plt.title('Gradient Boosting',size=14)\n",
    "plt.legend()\n",
    "plt.grid()\n",
    "fig.autofmt_xdate()\n",
    "\n",
    "plt.show()"
   ]
  },
  {
   "cell_type": "markdown",
   "metadata": {},
   "source": [
    "The market should be (up=1, down=0) in N-days from now, where N-day was set at Y label at the beginning of the model. "
   ]
  },
  {
   "cell_type": "markdown",
   "metadata": {},
   "source": [
    "### Future Improvements\n",
    "- Find the optimal window period for the label\n",
    "- Run the analysis on a universe of stocks and aggregated the buy/sell signal at the index level\n",
    "- Add/Remove features\n",
    "- Parameter tuning for each model"
   ]
  },
  {
   "cell_type": "markdown",
   "metadata": {},
   "source": [
    "Good luck with the market! \n",
    "\n",
    "Guillaume Girard, CMT \n",
    "\n",
    "Fierce Research"
   ]
  },
  {
   "cell_type": "code",
   "execution_count": null,
   "metadata": {},
   "outputs": [],
   "source": []
  }
 ],
 "metadata": {
  "kernelspec": {
   "display_name": "Python 3",
   "language": "python",
   "name": "python3"
  },
  "language_info": {
   "codemirror_mode": {
    "name": "ipython",
    "version": 3
   },
   "file_extension": ".py",
   "mimetype": "text/x-python",
   "name": "python",
   "nbconvert_exporter": "python",
   "pygments_lexer": "ipython3",
   "version": "3.7.6"
  }
 },
 "nbformat": 4,
 "nbformat_minor": 4
}
