{
 "cells": [
  {
   "cell_type": "markdown",
   "metadata": {},
   "source": [
    "# Equity Trading Model with DSWS"
   ]
  },
  {
   "cell_type": "markdown",
   "metadata": {},
   "source": [
    "#### Thesis: \n",
    "- The objective of this research project is to predict if the price of an asset (i.e.: SPY ETF) will be higher or lower in N-days from now using price-based (Technical) indicators as features. \n",
    "\n",
    "#### Label:\n",
    "- y = close price in N day > today, 1, else 0\n",
    "\n",
    "#### Features:\n",
    "Volatility:\n",
    "- Average True Range\n",
    "- Bollinger Bands with 1 STD\n",
    "\n",
    "Trend Following:\n",
    "- Moving Average Convergence Divergence Spread\n",
    "- N-day Simple Moving Average\n",
    "- Average Directional Index \n",
    "\n",
    "Trend Reversal:\n",
    "- Relative Strength Index\n",
    "- Stochastic Spread"
   ]
  },
  {
   "cell_type": "markdown",
   "metadata": {},
   "source": [
    "### Import Packages"
   ]
  },
  {
   "cell_type": "code",
   "execution_count": 1,
   "metadata": {},
   "outputs": [],
   "source": [
    "import numpy as np\n",
    "import pandas as pd\n",
    "\n",
    "import matplotlib.pyplot as plt\n",
    "%matplotlib inline\n",
    "import seaborn as sns\n",
    "plt.style.use('seaborn-dark-palette')\n",
    "\n",
    "import warnings \n",
    "warnings.filterwarnings('ignore')"
   ]
  },
  {
   "cell_type": "markdown",
   "metadata": {},
   "source": [
    "### Import & Clean Data"
   ]
  },
  {
   "cell_type": "markdown",
   "metadata": {},
   "source": [
    "API Data Pull"
   ]
  },
  {
   "cell_type": "code",
   "execution_count": 2,
   "metadata": {},
   "outputs": [],
   "source": [
    "import PyDSWS as PyDSWS\n",
    "ds = PyDSWS.Datastream(username='x', password='x')\n",
    "df = ds.get_data(tickers='@QQQ, @QQQ(PH), @QQQ(PL), @QQQ(PO)',start=\"-20Y\",end=\"0\", freq=\"D\")\n",
    "df.columns = ['priceclose','pricehigh','pricelow','priceopen']"
   ]
  },
  {
   "cell_type": "code",
   "execution_count": 3,
   "metadata": {},
   "outputs": [
    {
     "data": {
      "text/html": [
       "<div>\n",
       "<style scoped>\n",
       "    .dataframe tbody tr th:only-of-type {\n",
       "        vertical-align: middle;\n",
       "    }\n",
       "\n",
       "    .dataframe tbody tr th {\n",
       "        vertical-align: top;\n",
       "    }\n",
       "\n",
       "    .dataframe thead th {\n",
       "        text-align: right;\n",
       "    }\n",
       "</style>\n",
       "<table border=\"1\" class=\"dataframe\">\n",
       "  <thead>\n",
       "    <tr style=\"text-align: right;\">\n",
       "      <th></th>\n",
       "      <th>priceclose</th>\n",
       "      <th>pricehigh</th>\n",
       "      <th>pricelow</th>\n",
       "      <th>priceopen</th>\n",
       "    </tr>\n",
       "    <tr>\n",
       "      <th>Date</th>\n",
       "      <th></th>\n",
       "      <th></th>\n",
       "      <th></th>\n",
       "      <th></th>\n",
       "    </tr>\n",
       "  </thead>\n",
       "  <tbody>\n",
       "    <tr>\n",
       "      <th>2000-10-12</th>\n",
       "      <td>81.2500</td>\n",
       "      <td>81.6250</td>\n",
       "      <td>74.6250</td>\n",
       "      <td>74.6875</td>\n",
       "    </tr>\n",
       "    <tr>\n",
       "      <th>2000-10-15</th>\n",
       "      <td>81.6250</td>\n",
       "      <td>82.3125</td>\n",
       "      <td>79.7500</td>\n",
       "      <td>81.1250</td>\n",
       "    </tr>\n",
       "    <tr>\n",
       "      <th>2000-10-16</th>\n",
       "      <td>78.2500</td>\n",
       "      <td>83.1719</td>\n",
       "      <td>78.0000</td>\n",
       "      <td>83.1250</td>\n",
       "    </tr>\n",
       "    <tr>\n",
       "      <th>2000-10-17</th>\n",
       "      <td>78.0000</td>\n",
       "      <td>81.1875</td>\n",
       "      <td>74.5625</td>\n",
       "      <td>76.7500</td>\n",
       "    </tr>\n",
       "    <tr>\n",
       "      <th>2000-10-18</th>\n",
       "      <td>85.0625</td>\n",
       "      <td>85.1094</td>\n",
       "      <td>81.4375</td>\n",
       "      <td>82.3906</td>\n",
       "    </tr>\n",
       "    <tr>\n",
       "      <th>...</th>\n",
       "      <td>...</td>\n",
       "      <td>...</td>\n",
       "      <td>...</td>\n",
       "      <td>...</td>\n",
       "    </tr>\n",
       "    <tr>\n",
       "      <th>2020-10-08</th>\n",
       "      <td>285.7100</td>\n",
       "      <td>285.7900</td>\n",
       "      <td>282.7100</td>\n",
       "      <td>283.0901</td>\n",
       "    </tr>\n",
       "    <tr>\n",
       "      <th>2020-10-11</th>\n",
       "      <td>294.5300</td>\n",
       "      <td>297.4600</td>\n",
       "      <td>289.4700</td>\n",
       "      <td>290.6001</td>\n",
       "    </tr>\n",
       "    <tr>\n",
       "      <th>2020-10-12</th>\n",
       "      <td>294.5200</td>\n",
       "      <td>297.0496</td>\n",
       "      <td>293.1101</td>\n",
       "      <td>296.3401</td>\n",
       "    </tr>\n",
       "    <tr>\n",
       "      <th>2020-10-13</th>\n",
       "      <td>292.0601</td>\n",
       "      <td>296.3501</td>\n",
       "      <td>290.2600</td>\n",
       "      <td>295.3201</td>\n",
       "    </tr>\n",
       "    <tr>\n",
       "      <th>2020-10-14</th>\n",
       "      <td>290.1001</td>\n",
       "      <td>290.7100</td>\n",
       "      <td>286.5400</td>\n",
       "      <td>287.2500</td>\n",
       "    </tr>\n",
       "  </tbody>\n",
       "</table>\n",
       "<p>5220 rows × 4 columns</p>\n",
       "</div>"
      ],
      "text/plain": [
       "            priceclose  pricehigh  pricelow  priceopen\n",
       "Date                                                  \n",
       "2000-10-12     81.2500    81.6250   74.6250    74.6875\n",
       "2000-10-15     81.6250    82.3125   79.7500    81.1250\n",
       "2000-10-16     78.2500    83.1719   78.0000    83.1250\n",
       "2000-10-17     78.0000    81.1875   74.5625    76.7500\n",
       "2000-10-18     85.0625    85.1094   81.4375    82.3906\n",
       "...                ...        ...       ...        ...\n",
       "2020-10-08    285.7100   285.7900  282.7100   283.0901\n",
       "2020-10-11    294.5300   297.4600  289.4700   290.6001\n",
       "2020-10-12    294.5200   297.0496  293.1101   296.3401\n",
       "2020-10-13    292.0601   296.3501  290.2600   295.3201\n",
       "2020-10-14    290.1001   290.7100  286.5400   287.2500\n",
       "\n",
       "[5220 rows x 4 columns]"
      ]
     },
     "execution_count": 3,
     "metadata": {},
     "output_type": "execute_result"
    }
   ],
   "source": [
    "df"
   ]
  },
  {
   "cell_type": "code",
   "execution_count": 4,
   "metadata": {},
   "outputs": [
    {
     "data": {
      "text/plain": [
       "5220"
      ]
     },
     "execution_count": 4,
     "metadata": {},
     "output_type": "execute_result"
    }
   ],
   "source": [
    "len(df)"
   ]
  },
  {
   "cell_type": "code",
   "execution_count": 5,
   "metadata": {},
   "outputs": [],
   "source": [
    "df = df.dropna()"
   ]
  },
  {
   "cell_type": "code",
   "execution_count": 6,
   "metadata": {},
   "outputs": [
    {
     "data": {
      "image/png": "[encoded data removed]",
      "text/plain": [
       "<Figure size 1080x360 with 1 Axes>"
      ]
     },
     "metadata": {
      "needs_background": "light"
     },
     "output_type": "display_data"
    }
   ],
   "source": [
    "df['priceclose'].plot(figsize=(15,5),kind='area',title='Nasdaq 100',legend=True);"
   ]
  },
  {
   "cell_type": "markdown",
   "metadata": {},
   "source": [
    "## Features"
   ]
  },
  {
   "cell_type": "code",
   "execution_count": 7,
   "metadata": {},
   "outputs": [],
   "source": [
    "# Set Y Label\n",
    "y = -22\n",
    "\n",
    "df['priceiny'] = np.where(df['priceclose']<df['priceclose'].shift(y),1,0)"
   ]
  },
  {
   "cell_type": "markdown",
   "metadata": {},
   "source": [
    "#### Price Return"
   ]
  },
  {
   "cell_type": "code",
   "execution_count": 8,
   "metadata": {},
   "outputs": [],
   "source": [
    "df['pcshift'] = df['priceclose'].shift(1)\n",
    "df['dailyreturn'] = (((df['priceclose']-df['pcshift'])/df['pcshift'])*100).round(2)"
   ]
  },
  {
   "cell_type": "markdown",
   "metadata": {},
   "source": [
    "#### Average True Range"
   ]
  },
  {
   "cell_type": "code",
   "execution_count": 9,
   "metadata": {},
   "outputs": [],
   "source": [
    "df['hmpc'] = abs(df['pricehigh']-df['pcshift'])\n",
    "df['lmpc'] = abs(df['pricelow']-df['pcshift'])\n",
    "df['hml'] = df['pricehigh']-df['pricelow']\n",
    "df['true range'] = df[['hml','hmpc','lmpc']].max(axis=1)\n",
    "df['atr'] = ((df['true range'].rolling(14).mean().shift(1)*(14-1))+df['true range'])/14"
   ]
  },
  {
   "cell_type": "markdown",
   "metadata": {},
   "source": [
    "#### Bollinger Bands"
   ]
  },
  {
   "cell_type": "code",
   "execution_count": 10,
   "metadata": {},
   "outputs": [],
   "source": [
    "rolling_mean = df['priceclose'].rolling(window=14).mean()\n",
    "rolling_std = df['priceclose'].rolling(window=14).std()\n",
    "\n",
    "df['bbplus'] = rolling_mean + (rolling_std * 1)\n",
    "df['bbminus'] = rolling_mean - (rolling_std * 1) "
   ]
  },
  {
   "cell_type": "markdown",
   "metadata": {},
   "source": [
    "#### MACD Spread"
   ]
  },
  {
   "cell_type": "code",
   "execution_count": 11,
   "metadata": {},
   "outputs": [],
   "source": [
    "df['ma12'] = df['priceclose'].rolling(window=12).mean()\n",
    "df['ma26'] = df['priceclose'].rolling(window=26).mean()\n",
    "\n",
    "df['ma12shift'] = df['ma12'].shift(1)\n",
    "df['ma26shift'] = df['ma26'].shift(1)\n",
    "\n",
    "df['fastma12'] = (df['priceclose']-df['ma12shift'])*(2/(12+1))+df['ma12shift']\n",
    "df['slowma26'] = (df['priceclose']-df['ma26shift'])*(2/(26+1))+df['ma26shift']\n",
    "\n",
    "df['madiff'] = df['fastma12']-df['slowma26']\n",
    "df['madiffshift'] = df['madiff'].shift(1)\n",
    "\n",
    "df['signalma9'] = (df['madiff']-df['madiffshift'])*(2/(9+1))+df['madiffshift']\n",
    "df['macdspread'] = df['madiff']-df['signalma9']"
   ]
  },
  {
   "cell_type": "markdown",
   "metadata": {},
   "source": [
    "#### N-day SMA"
   ]
  },
  {
   "cell_type": "code",
   "execution_count": 12,
   "metadata": {},
   "outputs": [],
   "source": [
    "df['smaNday'] = df['priceclose'].rolling(window=abs(y)).mean()\n",
    "df['smaNdummy'] = [1 if row['priceclose']>row['smaNday'] else 0 for idx,row in df.iterrows()]"
   ]
  },
  {
   "cell_type": "markdown",
   "metadata": {},
   "source": [
    "#### Average Directional Index"
   ]
  },
  {
   "cell_type": "code",
   "execution_count": 13,
   "metadata": {},
   "outputs": [],
   "source": [
    "df['hmph'] = df['pricehigh']-df['pricehigh'].shift(1)\n",
    "df['plml'] = df['pcshift']-df['pricelow']\n",
    "\n",
    "df['+dx'] = [row['hmph'] if row['hmph']>row['plml'] and row['hmph']>0 else 0 for idx,row in df.iterrows()]\n",
    "df['-dx'] = [row['plml'] if row['plml']>row['hmph'] and row['plml']>0 else 0 for idx,row in df.iterrows()]\n",
    "\n",
    "df['smooth+dx'] = ((df['+dx'].rolling(window=14).mean().shift(1)*(14-1))+df['+dx'])/14\n",
    "df['smooth-dx'] = ((df['-dx'].rolling(window=14).mean().shift(1)*(14-1))+df['-dx'])/14\n",
    "\n",
    "df['+dmi'] = (df['smooth+dx']/df['atr'])*100\n",
    "df['-dmi'] = (df['smooth-dx']/df['atr'])*100\n",
    "\n",
    "df['dx'] = ((abs(df['+dmi']-df['-dmi']))/(df['+dmi']+df['-dmi']))*100\n",
    "df['adx'] = (df['dx'].rolling(window=14).mean().shift(1)*(14-1)+df['dx'])/14"
   ]
  },
  {
   "cell_type": "markdown",
   "metadata": {},
   "source": [
    "#### Relative Strength Index"
   ]
  },
  {
   "cell_type": "code",
   "execution_count": 14,
   "metadata": {},
   "outputs": [],
   "source": [
    "df['upmove'] = [row['priceclose']-row['pcshift'] if row['priceclose']>row['pcshift'] else 0 for idx,row in df.iterrows()]\n",
    "df['dnmove'] = [row['pcshift']-row['priceclose'] if row['priceclose']<row['pcshift'] else 0 for idx,row in df.iterrows()]\n",
    "\n",
    "df['avgupmove'] = df['upmove'].rolling(window=14).mean()\n",
    "df['avgdnmove'] = df['dnmove'].rolling(window=14).mean()\n",
    "\n",
    "df['avgupmoveshift'] = df['avgupmove'].shift(1)\n",
    "df['avgdnmoveshift'] = df['avgdnmove'].shift(1)\n",
    "\n",
    "df['avgupmove1'] = (df['avgupmoveshift']*(14-1)+df['upmove'])/14\n",
    "df['avgdnmove1'] = (df['avgdnmoveshift']*(14-1)+df['dnmove'])/14\n",
    "\n",
    "df['relstrength'] = df['avgupmove1']/df['avgdnmove1']\n",
    "df['rsi'] = 100-(100/(df['relstrength']+1))"
   ]
  },
  {
   "cell_type": "markdown",
   "metadata": {},
   "source": [
    "#### Stochastic Spread"
   ]
  },
  {
   "cell_type": "code",
   "execution_count": 15,
   "metadata": {},
   "outputs": [],
   "source": [
    "df['stochlow'] = df['priceclose']-(df['pricelow'].rolling(window=14).min())\n",
    "df['stochhml'] = (df['pricehigh'].rolling(window=14).max())-(df['pricelow'].rolling(window=14).min())\n",
    "df['%k'] = (df['stochlow']/df['stochhml'])*100\n",
    "df['%d'] = (df['stochlow'].rolling(window=3).sum()/df['stochhml'].rolling(window=3).sum())*100\n",
    "df['signal'] = df['%d'].rolling(window=3).mean()\n",
    "\n",
    "df['stochspread'] = df['%k']-df['signal']"
   ]
  },
  {
   "cell_type": "markdown",
   "metadata": {},
   "source": [
    "## Feature Exploration"
   ]
  },
  {
   "cell_type": "code",
   "execution_count": 16,
   "metadata": {},
   "outputs": [
    {
     "data": {
      "image/png": "[encoded data removed]",
      "text/plain": [
       "<Figure size 1080x1080 with 8 Axes>"
      ]
     },
     "metadata": {
      "needs_background": "light"
     },
     "output_type": "display_data"
    }
   ],
   "source": [
    "df.index = pd.to_datetime(df.index)\n",
    "\n",
    "fig = plt.figure(figsize=(15,15))\n",
    "\n",
    "fig.autofmt_xdate()\n",
    "\n",
    "ax1 = fig.add_subplot(4,2,1)\n",
    "ax2 = fig.add_subplot(4,2,2)\n",
    "ax3 = fig.add_subplot(4,2,3)\n",
    "ax4 = fig.add_subplot(4,2,4)\n",
    "ax5 = fig.add_subplot(4,2,5)\n",
    "ax6 = fig.add_subplot(4,2,6)\n",
    "ax7 = fig.add_subplot(4,2,7)\n",
    "ax8 = fig.add_subplot(4,2,8)\n",
    "\n",
    "ax1.plot(df.index[-50:],df['priceclose'][-50:])\n",
    "ax1.set_title('Price Close QQQ',size='15')\n",
    "\n",
    "ax2.plot(df.index[-50:],df['atr'][-50:])\n",
    "ax2.set_title('ATR',size='15')\n",
    "\n",
    "ax3.plot(df.index[-50:],df[['priceclose','bbplus','bbminus']][-50:])\n",
    "ax3.set_title('Bollinger Bands 1 STD',size='15')\n",
    "\n",
    "ax4.plot(df.index[-50:],df['macdspread'][-50:])\n",
    "ax4.set_title('MACD Spread',size='15')\n",
    "\n",
    "ax5.plot(df.index[-50:],df['smaNdummy'][-50:])\n",
    "ax5.set_title('SMA N-day Dummy',size='15')\n",
    "\n",
    "ax6.plot(df.index[-50:],df['adx'][-50:])\n",
    "ax6.set_title('ADX',size='15')\n",
    "\n",
    "ax7.plot(df.index[-50:],df['rsi'][-50:])\n",
    "ax7.set_title('RSI',size='15')\n",
    "\n",
    "ax8.plot(df.index[-50:],df['stochspread'][-50:])\n",
    "ax8.set_title('Stochastic Spread',size='15')\n",
    "\n",
    "fig.tight_layout();"
   ]
  },
  {
   "cell_type": "code",
   "execution_count": 17,
   "metadata": {},
   "outputs": [],
   "source": [
    "df = df[['priceclose','priceiny','dailyreturn','atr', 'bbplus', 'bbminus','smaNdummy','adx','macdspread','rsi','stochspread']]"
   ]
  },
  {
   "cell_type": "code",
   "execution_count": 18,
   "metadata": {},
   "outputs": [
    {
     "data": {
      "image/png": "[encoded data removed]",
      "text/plain": [
       "<Figure size 1080x1080 with 12 Axes>"
      ]
     },
     "metadata": {
      "needs_background": "light"
     },
     "output_type": "display_data"
    }
   ],
   "source": [
    "pd.DataFrame.hist(df, figsize = [15,15]);"
   ]
  },
  {
   "cell_type": "code",
   "execution_count": 19,
   "metadata": {},
   "outputs": [
    {
     "data": {
      "text/html": [
       "<div>\n",
       "<style scoped>\n",
       "    .dataframe tbody tr th:only-of-type {\n",
       "        vertical-align: middle;\n",
       "    }\n",
       "\n",
       "    .dataframe tbody tr th {\n",
       "        vertical-align: top;\n",
       "    }\n",
       "\n",
       "    .dataframe thead th {\n",
       "        text-align: right;\n",
       "    }\n",
       "</style>\n",
       "<table border=\"1\" class=\"dataframe\">\n",
       "  <thead>\n",
       "    <tr style=\"text-align: right;\">\n",
       "      <th></th>\n",
       "      <th>priceclose</th>\n",
       "      <th>priceiny</th>\n",
       "      <th>dailyreturn</th>\n",
       "      <th>atr</th>\n",
       "      <th>bbplus</th>\n",
       "      <th>bbminus</th>\n",
       "      <th>smaNdummy</th>\n",
       "      <th>adx</th>\n",
       "      <th>macdspread</th>\n",
       "      <th>rsi</th>\n",
       "      <th>stochspread</th>\n",
       "    </tr>\n",
       "  </thead>\n",
       "  <tbody>\n",
       "    <tr>\n",
       "      <th>count</th>\n",
       "      <td>5033.00</td>\n",
       "      <td>5033.00</td>\n",
       "      <td>5032.00</td>\n",
       "      <td>5019.00</td>\n",
       "      <td>5020.00</td>\n",
       "      <td>5020.00</td>\n",
       "      <td>5033.00</td>\n",
       "      <td>5005.00</td>\n",
       "      <td>5006.00</td>\n",
       "      <td>5019.00</td>\n",
       "      <td>5016.00</td>\n",
       "    </tr>\n",
       "    <tr>\n",
       "      <th>mean</th>\n",
       "      <td>80.17</td>\n",
       "      <td>0.62</td>\n",
       "      <td>0.04</td>\n",
       "      <td>1.42</td>\n",
       "      <td>81.33</td>\n",
       "      <td>78.47</td>\n",
       "      <td>0.61</td>\n",
       "      <td>40.24</td>\n",
       "      <td>0.00</td>\n",
       "      <td>54.90</td>\n",
       "      <td>-0.03</td>\n",
       "    </tr>\n",
       "    <tr>\n",
       "      <th>std</th>\n",
       "      <td>56.71</td>\n",
       "      <td>0.49</td>\n",
       "      <td>1.65</td>\n",
       "      <td>1.35</td>\n",
       "      <td>57.26</td>\n",
       "      <td>55.29</td>\n",
       "      <td>0.49</td>\n",
       "      <td>18.83</td>\n",
       "      <td>0.21</td>\n",
       "      <td>16.11</td>\n",
       "      <td>19.10</td>\n",
       "    </tr>\n",
       "    <tr>\n",
       "      <th>min</th>\n",
       "      <td>20.06</td>\n",
       "      <td>0.00</td>\n",
       "      <td>-11.98</td>\n",
       "      <td>0.39</td>\n",
       "      <td>21.58</td>\n",
       "      <td>20.24</td>\n",
       "      <td>0.00</td>\n",
       "      <td>7.31</td>\n",
       "      <td>-2.16</td>\n",
       "      <td>3.73</td>\n",
       "      <td>-81.06</td>\n",
       "    </tr>\n",
       "    <tr>\n",
       "      <th>25%</th>\n",
       "      <td>39.21</td>\n",
       "      <td>0.00</td>\n",
       "      <td>-0.62</td>\n",
       "      <td>0.69</td>\n",
       "      <td>39.87</td>\n",
       "      <td>38.59</td>\n",
       "      <td>0.00</td>\n",
       "      <td>24.53</td>\n",
       "      <td>-0.07</td>\n",
       "      <td>42.75</td>\n",
       "      <td>-10.70</td>\n",
       "    </tr>\n",
       "    <tr>\n",
       "      <th>50%</th>\n",
       "      <td>54.53</td>\n",
       "      <td>1.00</td>\n",
       "      <td>0.10</td>\n",
       "      <td>0.99</td>\n",
       "      <td>55.83</td>\n",
       "      <td>53.47</td>\n",
       "      <td>1.00</td>\n",
       "      <td>38.17</td>\n",
       "      <td>-0.00</td>\n",
       "      <td>54.49</td>\n",
       "      <td>0.55</td>\n",
       "    </tr>\n",
       "    <tr>\n",
       "      <th>75%</th>\n",
       "      <td>107.97</td>\n",
       "      <td>1.00</td>\n",
       "      <td>0.76</td>\n",
       "      <td>1.55</td>\n",
       "      <td>109.69</td>\n",
       "      <td>106.20</td>\n",
       "      <td>1.00</td>\n",
       "      <td>54.29</td>\n",
       "      <td>0.07</td>\n",
       "      <td>66.59</td>\n",
       "      <td>11.06</td>\n",
       "    </tr>\n",
       "    <tr>\n",
       "      <th>max</th>\n",
       "      <td>302.76</td>\n",
       "      <td>1.00</td>\n",
       "      <td>16.84</td>\n",
       "      <td>13.52</td>\n",
       "      <td>296.48</td>\n",
       "      <td>279.78</td>\n",
       "      <td>1.00</td>\n",
       "      <td>89.20</td>\n",
       "      <td>2.29</td>\n",
       "      <td>98.19</td>\n",
       "      <td>72.35</td>\n",
       "    </tr>\n",
       "  </tbody>\n",
       "</table>\n",
       "</div>"
      ],
      "text/plain": [
       "       priceclose  priceiny  dailyreturn      atr   bbplus  bbminus  \\\n",
       "count     5033.00   5033.00      5032.00  5019.00  5020.00  5020.00   \n",
       "mean        80.17      0.62         0.04     1.42    81.33    78.47   \n",
       "std         56.71      0.49         1.65     1.35    57.26    55.29   \n",
       "min         20.06      0.00       -11.98     0.39    21.58    20.24   \n",
       "25%         39.21      0.00        -0.62     0.69    39.87    38.59   \n",
       "50%         54.53      1.00         0.10     0.99    55.83    53.47   \n",
       "75%        107.97      1.00         0.76     1.55   109.69   106.20   \n",
       "max        302.76      1.00        16.84    13.52   296.48   279.78   \n",
       "\n",
       "       smaNdummy      adx  macdspread      rsi  stochspread  \n",
       "count    5033.00  5005.00     5006.00  5019.00      5016.00  \n",
       "mean        0.61    40.24        0.00    54.90        -0.03  \n",
       "std         0.49    18.83        0.21    16.11        19.10  \n",
       "min         0.00     7.31       -2.16     3.73       -81.06  \n",
       "25%         0.00    24.53       -0.07    42.75       -10.70  \n",
       "50%         1.00    38.17       -0.00    54.49         0.55  \n",
       "75%         1.00    54.29        0.07    66.59        11.06  \n",
       "max         1.00    89.20        2.29    98.19        72.35  "
      ]
     },
     "execution_count": 19,
     "metadata": {},
     "output_type": "execute_result"
    }
   ],
   "source": [
    "df.describe().round(2)"
   ]
  },
  {
   "cell_type": "code",
   "execution_count": 20,
   "metadata": {},
   "outputs": [
    {
     "data": {
      "text/html": [
       "<div>\n",
       "<style scoped>\n",
       "    .dataframe tbody tr th:only-of-type {\n",
       "        vertical-align: middle;\n",
       "    }\n",
       "\n",
       "    .dataframe tbody tr th {\n",
       "        vertical-align: top;\n",
       "    }\n",
       "\n",
       "    .dataframe thead th {\n",
       "        text-align: right;\n",
       "    }\n",
       "</style>\n",
       "<table border=\"1\" class=\"dataframe\">\n",
       "  <thead>\n",
       "    <tr style=\"text-align: right;\">\n",
       "      <th></th>\n",
       "      <th>priceclose</th>\n",
       "      <th>priceiny</th>\n",
       "      <th>dailyreturn</th>\n",
       "      <th>atr</th>\n",
       "      <th>bbplus</th>\n",
       "      <th>bbminus</th>\n",
       "      <th>smaNdummy</th>\n",
       "      <th>adx</th>\n",
       "      <th>macdspread</th>\n",
       "      <th>rsi</th>\n",
       "      <th>stochspread</th>\n",
       "    </tr>\n",
       "    <tr>\n",
       "      <th>Date</th>\n",
       "      <th></th>\n",
       "      <th></th>\n",
       "      <th></th>\n",
       "      <th></th>\n",
       "      <th></th>\n",
       "      <th></th>\n",
       "      <th></th>\n",
       "      <th></th>\n",
       "      <th></th>\n",
       "      <th></th>\n",
       "      <th></th>\n",
       "    </tr>\n",
       "  </thead>\n",
       "  <tbody>\n",
       "    <tr>\n",
       "      <th>2020-03-15</th>\n",
       "      <td>169.3</td>\n",
       "      <td>1</td>\n",
       "      <td>-11.98</td>\n",
       "      <td>12.03</td>\n",
       "      <td>216.31</td>\n",
       "      <td>187.04</td>\n",
       "      <td>0</td>\n",
       "      <td>68.81</td>\n",
       "      <td>-1.81</td>\n",
       "      <td>31.58</td>\n",
       "      <td>-11.85</td>\n",
       "    </tr>\n",
       "  </tbody>\n",
       "</table>\n",
       "</div>"
      ],
      "text/plain": [
       "            priceclose  priceiny  dailyreturn    atr  bbplus  bbminus  \\\n",
       "Date                                                                    \n",
       "2020-03-15       169.3         1       -11.98  12.03  216.31   187.04   \n",
       "\n",
       "            smaNdummy    adx  macdspread    rsi  stochspread  \n",
       "Date                                                          \n",
       "2020-03-15          0  68.81       -1.81  31.58       -11.85  "
      ]
     },
     "execution_count": 20,
     "metadata": {},
     "output_type": "execute_result"
    }
   ],
   "source": [
    "df[df['dailyreturn'] == df['dailyreturn'].min()].round(2)"
   ]
  },
  {
   "cell_type": "code",
   "execution_count": 21,
   "metadata": {
    "scrolled": true
   },
   "outputs": [
    {
     "data": {
      "text/html": [
       "<div>\n",
       "<style scoped>\n",
       "    .dataframe tbody tr th:only-of-type {\n",
       "        vertical-align: middle;\n",
       "    }\n",
       "\n",
       "    .dataframe tbody tr th {\n",
       "        vertical-align: top;\n",
       "    }\n",
       "\n",
       "    .dataframe thead th {\n",
       "        text-align: right;\n",
       "    }\n",
       "</style>\n",
       "<table border=\"1\" class=\"dataframe\">\n",
       "  <thead>\n",
       "    <tr style=\"text-align: right;\">\n",
       "      <th></th>\n",
       "      <th>priceclose</th>\n",
       "      <th>priceiny</th>\n",
       "      <th>dailyreturn</th>\n",
       "      <th>atr</th>\n",
       "      <th>bbplus</th>\n",
       "      <th>bbminus</th>\n",
       "      <th>smaNdummy</th>\n",
       "      <th>adx</th>\n",
       "      <th>macdspread</th>\n",
       "      <th>rsi</th>\n",
       "      <th>stochspread</th>\n",
       "    </tr>\n",
       "    <tr>\n",
       "      <th>Date</th>\n",
       "      <th></th>\n",
       "      <th></th>\n",
       "      <th></th>\n",
       "      <th></th>\n",
       "      <th></th>\n",
       "      <th></th>\n",
       "      <th></th>\n",
       "      <th></th>\n",
       "      <th></th>\n",
       "      <th></th>\n",
       "      <th></th>\n",
       "    </tr>\n",
       "  </thead>\n",
       "  <tbody>\n",
       "    <tr>\n",
       "      <th>2001-01-02</th>\n",
       "      <td>62.44</td>\n",
       "      <td>0</td>\n",
       "      <td>16.84</td>\n",
       "      <td>4.9</td>\n",
       "      <td>64.92</td>\n",
       "      <td>56.73</td>\n",
       "      <td>0</td>\n",
       "      <td>45.62</td>\n",
       "      <td>0.09</td>\n",
       "      <td>36.78</td>\n",
       "      <td>23.41</td>\n",
       "    </tr>\n",
       "  </tbody>\n",
       "</table>\n",
       "</div>"
      ],
      "text/plain": [
       "            priceclose  priceiny  dailyreturn  atr  bbplus  bbminus  \\\n",
       "Date                                                                  \n",
       "2001-01-02       62.44         0        16.84  4.9   64.92    56.73   \n",
       "\n",
       "            smaNdummy    adx  macdspread    rsi  stochspread  \n",
       "Date                                                          \n",
       "2001-01-02          0  45.62        0.09  36.78        23.41  "
      ]
     },
     "execution_count": 21,
     "metadata": {},
     "output_type": "execute_result"
    }
   ],
   "source": [
    "df[df['dailyreturn'] == df['dailyreturn'].max()].round(2)"
   ]
  },
  {
   "cell_type": "code",
   "execution_count": 22,
   "metadata": {},
   "outputs": [
    {
     "data": {
      "image/png": "[encoded data removed]",
      "text/plain": [
       "<Figure size 1080x216 with 2 Axes>"
      ]
     },
     "metadata": {
      "needs_background": "light"
     },
     "output_type": "display_data"
    }
   ],
   "source": [
    "fig, ax = plt.subplots(1, 1, figsize=(15,3))\n",
    "sns.heatmap(df.corr()[0:1],vmin=-1,vmax=1,annot=True)\n",
    "ax.set_title('Correlation Analysis', size=15);"
   ]
  },
  {
   "cell_type": "markdown",
   "metadata": {},
   "source": [
    "Correlation Analysis:\n",
    "- The non-stationary time-series features are strongly positively correlated with the price close such as Bollinger bands, 10-day SMA, and ATR.\n",
    "\n",
    "Market-Related Analysis:\n",
    "- ATR is positively correlated with BB and 10-day SMA\n",
    "- ADX is negatively correlated with RSI\n",
    "- MACD Spread is positively correlated with daily price return"
   ]
  },
  {
   "cell_type": "markdown",
   "metadata": {},
   "source": [
    "## Split Dataset"
   ]
  },
  {
   "cell_type": "code",
   "execution_count": 23,
   "metadata": {},
   "outputs": [
    {
     "data": {
      "text/plain": [
       "5033"
      ]
     },
     "execution_count": 23,
     "metadata": {},
     "output_type": "execute_result"
    }
   ],
   "source": [
    "len(df)"
   ]
  },
  {
   "cell_type": "code",
   "execution_count": 24,
   "metadata": {},
   "outputs": [
    {
     "data": {
      "text/html": [
       "<div>\n",
       "<style scoped>\n",
       "    .dataframe tbody tr th:only-of-type {\n",
       "        vertical-align: middle;\n",
       "    }\n",
       "\n",
       "    .dataframe tbody tr th {\n",
       "        vertical-align: top;\n",
       "    }\n",
       "\n",
       "    .dataframe thead th {\n",
       "        text-align: right;\n",
       "    }\n",
       "</style>\n",
       "<table border=\"1\" class=\"dataframe\">\n",
       "  <thead>\n",
       "    <tr style=\"text-align: right;\">\n",
       "      <th></th>\n",
       "      <th>priceclose</th>\n",
       "      <th>priceiny</th>\n",
       "      <th>dailyreturn</th>\n",
       "      <th>atr</th>\n",
       "      <th>bbplus</th>\n",
       "      <th>bbminus</th>\n",
       "      <th>smaNdummy</th>\n",
       "      <th>adx</th>\n",
       "      <th>macdspread</th>\n",
       "      <th>rsi</th>\n",
       "      <th>stochspread</th>\n",
       "    </tr>\n",
       "    <tr>\n",
       "      <th>Date</th>\n",
       "      <th></th>\n",
       "      <th></th>\n",
       "      <th></th>\n",
       "      <th></th>\n",
       "      <th></th>\n",
       "      <th></th>\n",
       "      <th></th>\n",
       "      <th></th>\n",
       "      <th></th>\n",
       "      <th></th>\n",
       "      <th></th>\n",
       "    </tr>\n",
       "  </thead>\n",
       "  <tbody>\n",
       "    <tr>\n",
       "      <th>2000-10-12</th>\n",
       "      <td>81.25</td>\n",
       "      <td>0</td>\n",
       "      <td>NaN</td>\n",
       "      <td>NaN</td>\n",
       "      <td>NaN</td>\n",
       "      <td>NaN</td>\n",
       "      <td>0</td>\n",
       "      <td>NaN</td>\n",
       "      <td>NaN</td>\n",
       "      <td>NaN</td>\n",
       "      <td>NaN</td>\n",
       "    </tr>\n",
       "    <tr>\n",
       "      <th>2000-10-15</th>\n",
       "      <td>81.62</td>\n",
       "      <td>0</td>\n",
       "      <td>0.46</td>\n",
       "      <td>NaN</td>\n",
       "      <td>NaN</td>\n",
       "      <td>NaN</td>\n",
       "      <td>0</td>\n",
       "      <td>NaN</td>\n",
       "      <td>NaN</td>\n",
       "      <td>NaN</td>\n",
       "      <td>NaN</td>\n",
       "    </tr>\n",
       "    <tr>\n",
       "      <th>2000-10-16</th>\n",
       "      <td>78.25</td>\n",
       "      <td>0</td>\n",
       "      <td>-4.13</td>\n",
       "      <td>NaN</td>\n",
       "      <td>NaN</td>\n",
       "      <td>NaN</td>\n",
       "      <td>0</td>\n",
       "      <td>NaN</td>\n",
       "      <td>NaN</td>\n",
       "      <td>NaN</td>\n",
       "      <td>NaN</td>\n",
       "    </tr>\n",
       "    <tr>\n",
       "      <th>2000-10-17</th>\n",
       "      <td>78.00</td>\n",
       "      <td>0</td>\n",
       "      <td>-0.32</td>\n",
       "      <td>NaN</td>\n",
       "      <td>NaN</td>\n",
       "      <td>NaN</td>\n",
       "      <td>0</td>\n",
       "      <td>NaN</td>\n",
       "      <td>NaN</td>\n",
       "      <td>NaN</td>\n",
       "      <td>NaN</td>\n",
       "    </tr>\n",
       "    <tr>\n",
       "      <th>2000-10-18</th>\n",
       "      <td>85.06</td>\n",
       "      <td>0</td>\n",
       "      <td>9.05</td>\n",
       "      <td>NaN</td>\n",
       "      <td>NaN</td>\n",
       "      <td>NaN</td>\n",
       "      <td>0</td>\n",
       "      <td>NaN</td>\n",
       "      <td>NaN</td>\n",
       "      <td>NaN</td>\n",
       "      <td>NaN</td>\n",
       "    </tr>\n",
       "    <tr>\n",
       "      <th>...</th>\n",
       "      <td>...</td>\n",
       "      <td>...</td>\n",
       "      <td>...</td>\n",
       "      <td>...</td>\n",
       "      <td>...</td>\n",
       "      <td>...</td>\n",
       "      <td>...</td>\n",
       "      <td>...</td>\n",
       "      <td>...</td>\n",
       "      <td>...</td>\n",
       "      <td>...</td>\n",
       "    </tr>\n",
       "    <tr>\n",
       "      <th>2020-09-08</th>\n",
       "      <td>277.88</td>\n",
       "      <td>1</td>\n",
       "      <td>2.94</td>\n",
       "      <td>7.32</td>\n",
       "      <td>296.24</td>\n",
       "      <td>278.51</td>\n",
       "      <td>0</td>\n",
       "      <td>17.95</td>\n",
       "      <td>-0.18</td>\n",
       "      <td>50.36</td>\n",
       "      <td>-12.45</td>\n",
       "    </tr>\n",
       "    <tr>\n",
       "      <th>2020-09-09</th>\n",
       "      <td>272.34</td>\n",
       "      <td>1</td>\n",
       "      <td>-1.99</td>\n",
       "      <td>7.87</td>\n",
       "      <td>296.39</td>\n",
       "      <td>277.27</td>\n",
       "      <td>0</td>\n",
       "      <td>20.36</td>\n",
       "      <td>-0.82</td>\n",
       "      <td>47.22</td>\n",
       "      <td>-11.95</td>\n",
       "    </tr>\n",
       "    <tr>\n",
       "      <th>2020-09-10</th>\n",
       "      <td>270.45</td>\n",
       "      <td>1</td>\n",
       "      <td>-0.69</td>\n",
       "      <td>8.04</td>\n",
       "      <td>296.48</td>\n",
       "      <td>275.55</td>\n",
       "      <td>0</td>\n",
       "      <td>23.11</td>\n",
       "      <td>-0.81</td>\n",
       "      <td>43.40</td>\n",
       "      <td>-5.40</td>\n",
       "    </tr>\n",
       "    <tr>\n",
       "      <th>2020-09-13</th>\n",
       "      <td>275.16</td>\n",
       "      <td>1</td>\n",
       "      <td>1.74</td>\n",
       "      <td>8.29</td>\n",
       "      <td>296.26</td>\n",
       "      <td>274.56</td>\n",
       "      <td>0</td>\n",
       "      <td>26.11</td>\n",
       "      <td>-0.55</td>\n",
       "      <td>45.82</td>\n",
       "      <td>9.76</td>\n",
       "    </tr>\n",
       "    <tr>\n",
       "      <th>2020-09-14</th>\n",
       "      <td>279.06</td>\n",
       "      <td>1</td>\n",
       "      <td>1.42</td>\n",
       "      <td>8.32</td>\n",
       "      <td>295.90</td>\n",
       "      <td>273.95</td>\n",
       "      <td>0</td>\n",
       "      <td>29.19</td>\n",
       "      <td>-0.71</td>\n",
       "      <td>47.26</td>\n",
       "      <td>16.82</td>\n",
       "    </tr>\n",
       "  </tbody>\n",
       "</table>\n",
       "<p>5011 rows × 11 columns</p>\n",
       "</div>"
      ],
      "text/plain": [
       "            priceclose  priceiny  dailyreturn   atr  bbplus  bbminus  \\\n",
       "Date                                                                   \n",
       "2000-10-12       81.25         0          NaN   NaN     NaN      NaN   \n",
       "2000-10-15       81.62         0         0.46   NaN     NaN      NaN   \n",
       "2000-10-16       78.25         0        -4.13   NaN     NaN      NaN   \n",
       "2000-10-17       78.00         0        -0.32   NaN     NaN      NaN   \n",
       "2000-10-18       85.06         0         9.05   NaN     NaN      NaN   \n",
       "...                ...       ...          ...   ...     ...      ...   \n",
       "2020-09-08      277.88         1         2.94  7.32  296.24   278.51   \n",
       "2020-09-09      272.34         1        -1.99  7.87  296.39   277.27   \n",
       "2020-09-10      270.45         1        -0.69  8.04  296.48   275.55   \n",
       "2020-09-13      275.16         1         1.74  8.29  296.26   274.56   \n",
       "2020-09-14      279.06         1         1.42  8.32  295.90   273.95   \n",
       "\n",
       "            smaNdummy    adx  macdspread    rsi  stochspread  \n",
       "Date                                                          \n",
       "2000-10-12          0    NaN         NaN    NaN          NaN  \n",
       "2000-10-15          0    NaN         NaN    NaN          NaN  \n",
       "2000-10-16          0    NaN         NaN    NaN          NaN  \n",
       "2000-10-17          0    NaN         NaN    NaN          NaN  \n",
       "2000-10-18          0    NaN         NaN    NaN          NaN  \n",
       "...               ...    ...         ...    ...          ...  \n",
       "2020-09-08          0  17.95       -0.18  50.36       -12.45  \n",
       "2020-09-09          0  20.36       -0.82  47.22       -11.95  \n",
       "2020-09-10          0  23.11       -0.81  43.40        -5.40  \n",
       "2020-09-13          0  26.11       -0.55  45.82         9.76  \n",
       "2020-09-14          0  29.19       -0.71  47.26        16.82  \n",
       "\n",
       "[5011 rows x 11 columns]"
      ]
     },
     "execution_count": 24,
     "metadata": {},
     "output_type": "execute_result"
    }
   ],
   "source": [
    "df[:y].round(2)"
   ]
  },
  {
   "cell_type": "code",
   "execution_count": 25,
   "metadata": {},
   "outputs": [],
   "source": [
    "df = df.dropna()"
   ]
  },
  {
   "cell_type": "code",
   "execution_count": 26,
   "metadata": {},
   "outputs": [],
   "source": [
    "z = int(.70*len(df))\n",
    "x_train = df[['atr', 'bbplus', 'bbminus','smaNdummy', 'adx', 'macdspread', 'rsi','stochspread']][:z]\n",
    "y_train = df[['priceiny']][:z]\n",
    "\n",
    "x_test = df[['atr', 'bbplus', 'bbminus','smaNdummy', 'adx', 'macdspread', 'rsi','stochspread']][z:y]\n",
    "y_test = df[['priceiny']][z:y] #removed the end of the timeseries due to shifted Y labels"
   ]
  },
  {
   "cell_type": "markdown",
   "metadata": {},
   "source": [
    "## Data Preprocessing"
   ]
  },
  {
   "cell_type": "code",
   "execution_count": 27,
   "metadata": {},
   "outputs": [],
   "source": [
    "from sklearn.preprocessing import StandardScaler "
   ]
  },
  {
   "cell_type": "code",
   "execution_count": 28,
   "metadata": {},
   "outputs": [],
   "source": [
    "scaler = StandardScaler()\n",
    "std_x_train = scaler.fit(x_train).transform(x_train)\n",
    "std_x_test = scaler.fit(x_test).transform(x_test)"
   ]
  },
  {
   "cell_type": "code",
   "execution_count": 29,
   "metadata": {
    "scrolled": true
   },
   "outputs": [
    {
     "name": "stdout",
     "output_type": "stream",
     "text": [
      "[ 4.51624396  1.78461582  1.30914477 -1.18570932  1.18158026 -5.65442816\n",
      " -1.5868622  -0.74574641]\n",
      "[ 4.70463314  1.70381747  1.28513719 -1.18570932  1.24966204 -2.93504484\n",
      " -1.19256147  0.5813205 ]\n"
     ]
    }
   ],
   "source": [
    "for i  in range(2):\n",
    "    print(std_x_train[i])"
   ]
  },
  {
   "cell_type": "markdown",
   "metadata": {},
   "source": [
    "## Classification Models"
   ]
  },
  {
   "cell_type": "markdown",
   "metadata": {},
   "source": [
    "### Benchmark"
   ]
  },
  {
   "cell_type": "code",
   "execution_count": 30,
   "metadata": {},
   "outputs": [
    {
     "name": "stdout",
     "output_type": "stream",
     "text": [
      "Positive vs Negative N-Day Return:  0.63\n"
     ]
    }
   ],
   "source": [
    "yratio = df['priceiny'][:y].sum()/len(df['priceiny'][:y])\n",
    "print('Positive vs Negative N-Day Return: ', yratio.round(2))"
   ]
  },
  {
   "cell_type": "markdown",
   "metadata": {},
   "source": [
    "### Logistic Regression\n",
    "Logistic regression is a way of modelling the probability of the positive outcome.\n",
    "- Logistic regression estimates a multiple linear regression function by trying to find the parameters $\\beta_0,\\beta_1$ such that our dependent variable $y$ has the form:\n",
    "$$ y = \\begin{cases} 1,\\,\\text{ if }\\,\\beta_0+\\beta_1x + \\epsilon > 0 \\\\ 0,\\,\\text{  otherwise  }\\end{cases} $$"
   ]
  },
  {
   "cell_type": "code",
   "execution_count": 31,
   "metadata": {},
   "outputs": [],
   "source": [
    "import sklearn as sk\n",
    "from sklearn import metrics, linear_model\n",
    "from sklearn.linear_model import LogisticRegression"
   ]
  },
  {
   "cell_type": "code",
   "execution_count": 32,
   "metadata": {},
   "outputs": [
    {
     "data": {
      "text/plain": [
       "LogisticRegression(C=1.0, class_weight=None, dual=False, fit_intercept=True,\n",
       "                   intercept_scaling=1, l1_ratio=None, max_iter=100,\n",
       "                   multi_class='auto', n_jobs=None, penalty='l2',\n",
       "                   random_state=None, solver='liblinear', tol=0.0001, verbose=0,\n",
       "                   warm_start=False)"
      ]
     },
     "execution_count": 32,
     "metadata": {},
     "output_type": "execute_result"
    }
   ],
   "source": [
    "log_model= linear_model.LogisticRegression(solver='liblinear')\n",
    "log_model.fit(std_x_train,y_train)"
   ]
  },
  {
   "cell_type": "code",
   "execution_count": 33,
   "metadata": {},
   "outputs": [
    {
     "name": "stdout",
     "output_type": "stream",
     "text": [
      "log N-day:  0.622\n"
     ]
    }
   ],
   "source": [
    "log_train_result = log_model.score(std_x_train, y_train).round(3)\n",
    "\n",
    "print('log N-day: ',log_train_result)"
   ]
  },
  {
   "cell_type": "markdown",
   "metadata": {},
   "source": [
    "### Decision Tree\n",
    "\n",
    "Source: https://medium.com/@chiragsehra42/decision-trees-explained-easily-28f23241248\n",
    "\n",
    "The objective is to find the smallest tree that fits the data. \n",
    "- Entropy: Calculate the homogeneity of a sample (0 for completely homogenous and 1 for equally divided)\n",
    "- A decision tree is about finding attributes that return the highest information gain (homogeneous branches)"
   ]
  },
  {
   "cell_type": "code",
   "execution_count": 34,
   "metadata": {},
   "outputs": [
    {
     "data": {
      "text/plain": [
       "DecisionTreeClassifier(ccp_alpha=0.0, class_weight=None, criterion='gini',\n",
       "                       max_depth=3, max_features=None, max_leaf_nodes=None,\n",
       "                       min_impurity_decrease=0.0, min_impurity_split=None,\n",
       "                       min_samples_leaf=1, min_samples_split=2,\n",
       "                       min_weight_fraction_leaf=0.0, presort='deprecated',\n",
       "                       random_state=None, splitter='best')"
      ]
     },
     "execution_count": 34,
     "metadata": {},
     "output_type": "execute_result"
    }
   ],
   "source": [
    "from sklearn import tree\n",
    "\n",
    "tree_model = tree.DecisionTreeClassifier(max_depth=3)\n",
    "tree_model.fit(std_x_train, y_train)"
   ]
  },
  {
   "cell_type": "code",
   "execution_count": 35,
   "metadata": {},
   "outputs": [
    {
     "name": "stdout",
     "output_type": "stream",
     "text": [
      "tree N-day:  0.637\n"
     ]
    }
   ],
   "source": [
    "tree_train_result = tree_model.score(std_x_train, y_train).round(3)\n",
    "\n",
    "print('tree N-day: ', tree_train_result)"
   ]
  },
  {
   "cell_type": "markdown",
   "metadata": {},
   "source": [
    "### SVM - Support Vector Classification\n",
    "Source: https://www.analyticsvidhya.com/blog/2017/09/understaing-support-vector-machine-example-code/"
   ]
  },
  {
   "cell_type": "markdown",
   "metadata": {},
   "source": [
    "Support Vector Machine (SVM) is a supervised machine learning algorithm which is useful in classification problems. \n",
    "- Plot each data item as a point in n-dimensional space (where n is the number of features you have) with the value of each feature being the value of a particular coordinate\n",
    "- Perform classification by finding the hyper-plane that differentiates the two classes very well\n",
    "- Find the line that maximizes the distances between nearest data point (either class) and hyper-plane, which is called the margin\n",
    "- When the features and labels are non-linear, the SVM 'RBF' kernel is preferred"
   ]
  },
  {
   "cell_type": "code",
   "execution_count": 36,
   "metadata": {},
   "outputs": [],
   "source": [
    "from sklearn.svm import SVC"
   ]
  },
  {
   "cell_type": "code",
   "execution_count": 37,
   "metadata": {},
   "outputs": [
    {
     "data": {
      "text/plain": [
       "SVC(C=1.0, break_ties=False, cache_size=200, class_weight=None, coef0=0.0,\n",
       "    decision_function_shape='ovr', degree=3, gamma='scale', kernel='rbf',\n",
       "    max_iter=-1, probability=False, random_state=None, shrinking=True,\n",
       "    tol=0.001, verbose=False)"
      ]
     },
     "execution_count": 37,
     "metadata": {},
     "output_type": "execute_result"
    }
   ],
   "source": [
    "svm_model = SVC(kernel='rbf')\n",
    "svm_model.fit(std_x_train,y_train)"
   ]
  },
  {
   "cell_type": "code",
   "execution_count": 38,
   "metadata": {},
   "outputs": [
    {
     "name": "stdout",
     "output_type": "stream",
     "text": [
      "svm N-day:  0.663\n"
     ]
    }
   ],
   "source": [
    "svm_train_result = svm_model.score(std_x_train, y_train).round(3)\n",
    "\n",
    "print('svm N-day: ', svm_train_result)"
   ]
  },
  {
   "cell_type": "markdown",
   "metadata": {},
   "source": [
    "## Model Validation"
   ]
  },
  {
   "cell_type": "markdown",
   "metadata": {},
   "source": [
    "### Accuracy"
   ]
  },
  {
   "cell_type": "code",
   "execution_count": 39,
   "metadata": {},
   "outputs": [
    {
     "name": "stdout",
     "output_type": "stream",
     "text": [
      "log accuracy score:  0.664\n"
     ]
    }
   ],
   "source": [
    "log_new = std_x_test\n",
    "log_new = log_model.predict(log_new)\n",
    "log_test_result = metrics.accuracy_score(log_new, y_test).round(3)\n",
    "print('log accuracy score: ', log_test_result)"
   ]
  },
  {
   "cell_type": "code",
   "execution_count": 40,
   "metadata": {},
   "outputs": [
    {
     "name": "stdout",
     "output_type": "stream",
     "text": [
      "tree accuracy score:  0.559\n"
     ]
    }
   ],
   "source": [
    "tree_new = std_x_test\n",
    "tree_new = tree_model.predict(tree_new)\n",
    "tree_test_result = metrics.accuracy_score(tree_new, y_test).round(3)\n",
    "print('tree accuracy score: ',tree_test_result)"
   ]
  },
  {
   "cell_type": "code",
   "execution_count": 41,
   "metadata": {},
   "outputs": [
    {
     "name": "stdout",
     "output_type": "stream",
     "text": [
      "svm accuracy score:  0.639\n"
     ]
    }
   ],
   "source": [
    "svm_new = std_x_test\n",
    "svm_new = svm_model.predict(svm_new)\n",
    "svm_test_result = metrics.accuracy_score(svm_new, y_test).round(3)\n",
    "print('svm accuracy score: ',svm_test_result)"
   ]
  },
  {
   "cell_type": "markdown",
   "metadata": {},
   "source": [
    "### Confusion Matrix"
   ]
  },
  {
   "cell_type": "markdown",
   "metadata": {},
   "source": [
    "- True Positives (TP): These are cases in which we predicted 1 (the price would be up), and the price was actually up.\n",
    "- True Negatives (TN): We predicted that the price would be down, and it was down.\n",
    "- False Positives (FP): We predicted the price was up, but the price as down. (Also known as a \"Type I error.\")\n",
    "- False Negatives (FN): We predicted the price was down, but it was up. (Also known as a \"Type II error.\")"
   ]
  },
  {
   "cell_type": "code",
   "execution_count": 42,
   "metadata": {},
   "outputs": [
    {
     "data": {
      "image/png": "[encoded data removed]",
      "text/plain": [
       "<Figure size 432x288 with 2 Axes>"
      ]
     },
     "metadata": {
      "needs_background": "light"
     },
     "output_type": "display_data"
    }
   ],
   "source": [
    "from sklearn.metrics import confusion_matrix\n",
    "from sklearn.metrics import ConfusionMatrixDisplay\n",
    "\n",
    "log_y_matrix = confusion_matrix(y_test,log_new, labels=[1,0])\n",
    "ConfusionMatrixDisplay(log_y_matrix,display_labels = ['up','down']).plot();"
   ]
  },
  {
   "cell_type": "code",
   "execution_count": 43,
   "metadata": {},
   "outputs": [
    {
     "data": {
      "image/png": "[encoded data removed]",
      "text/plain": [
       "<Figure size 432x288 with 2 Axes>"
      ]
     },
     "metadata": {
      "needs_background": "light"
     },
     "output_type": "display_data"
    }
   ],
   "source": [
    "tree_y_matrix = confusion_matrix(y_test,tree_new, labels=[1,0])\n",
    "ConfusionMatrixDisplay(tree_y_matrix, display_labels = ['up','down']).plot();"
   ]
  },
  {
   "cell_type": "code",
   "execution_count": 44,
   "metadata": {},
   "outputs": [
    {
     "data": {
      "image/png": "[encoded data removed]",
      "text/plain": [
       "<Figure size 432x288 with 2 Axes>"
      ]
     },
     "metadata": {
      "needs_background": "light"
     },
     "output_type": "display_data"
    }
   ],
   "source": [
    "svm_y_matrix = confusion_matrix(y_test, svm_new,labels=[1,0])\n",
    "ConfusionMatrixDisplay(svm_y_matrix, display_labels = ['up','down']).plot(); "
   ]
  },
  {
   "cell_type": "markdown",
   "metadata": {},
   "source": [
    "### Precision = 'Predicted' Total Positive"
   ]
  },
  {
   "cell_type": "markdown",
   "metadata": {},
   "source": [
    "The precision is the ratio tp / (tp + fp) where tp is the number of true positives and fp the number of false positives. The precision is intuitively the ability of the classifier not to label as positive a sample that is negative.\n",
    "\n",
    "Out of all the positive classes we have predicted correctly, how many are actually positive."
   ]
  },
  {
   "cell_type": "code",
   "execution_count": 45,
   "metadata": {},
   "outputs": [
    {
     "name": "stdout",
     "output_type": "stream",
     "text": [
      "log precision score:  0.925\n"
     ]
    }
   ],
   "source": [
    "from sklearn.metrics import precision_score\n",
    "log_precision = precision_score(log_new, y_test).round(3)\n",
    "print('log precision score: ', log_precision)"
   ]
  },
  {
   "cell_type": "code",
   "execution_count": 46,
   "metadata": {},
   "outputs": [
    {
     "name": "stdout",
     "output_type": "stream",
     "text": [
      "tree precision score:  0.677\n"
     ]
    }
   ],
   "source": [
    "tree_precision = precision_score(tree_new, y_test).round(3)\n",
    "print('tree precision score: ', tree_precision)"
   ]
  },
  {
   "cell_type": "code",
   "execution_count": 47,
   "metadata": {},
   "outputs": [
    {
     "name": "stdout",
     "output_type": "stream",
     "text": [
      "svm precision score:  0.892\n"
     ]
    }
   ],
   "source": [
    "svm_precision = precision_score(svm_new, y_test).round(3)\n",
    "print('svm precision score: ', svm_precision)"
   ]
  },
  {
   "cell_type": "markdown",
   "metadata": {},
   "source": [
    "### Recall = 'Actual' Total Positive"
   ]
  },
  {
   "cell_type": "markdown",
   "metadata": {},
   "source": [
    "The recall is the ratio tp / (tp + fn) where tp is the number of true positives and fn the number of false negatives. The recall is intuitively the ability of the classifier to find all the positive samples.\n",
    "\n",
    "Out of all the positive classes, we have predicted x correctly. It should be as high as possible."
   ]
  },
  {
   "cell_type": "code",
   "execution_count": 48,
   "metadata": {},
   "outputs": [
    {
     "name": "stdout",
     "output_type": "stream",
     "text": [
      "log recall score:  0.695\n"
     ]
    }
   ],
   "source": [
    "from sklearn.metrics import recall_score\n",
    "log_recall = recall_score(log_new, y_test).round(3)\n",
    "print('log recall score: ', log_recall)"
   ]
  },
  {
   "cell_type": "code",
   "execution_count": 49,
   "metadata": {},
   "outputs": [
    {
     "name": "stdout",
     "output_type": "stream",
     "text": [
      "tree recall score:  0.688\n"
     ]
    }
   ],
   "source": [
    "tree_recall = recall_score(tree_new, y_test).round(3)\n",
    "print('tree recall score: ', tree_recall)"
   ]
  },
  {
   "cell_type": "code",
   "execution_count": 50,
   "metadata": {},
   "outputs": [
    {
     "name": "stdout",
     "output_type": "stream",
     "text": [
      "svm recall score:  0.687\n"
     ]
    }
   ],
   "source": [
    "svm_recall = recall_score(svm_new, y_test).round(3)\n",
    "print('svm recall score: ', svm_recall)"
   ]
  },
  {
   "cell_type": "markdown",
   "metadata": {},
   "source": [
    "### F1 "
   ]
  },
  {
   "cell_type": "markdown",
   "metadata": {},
   "source": [
    "It is difficult to compare two models with low precision and high recall or vice versa. So, to make them comparable, we use F-Score. F-Score helps to measure Recall and Precision at the same time. \n",
    "\n",
    "The F1 score can be interpreted as a weighted mean of the precision and recall, where an F1 score reaches its best value at 1 and the worst score at 0. The relative contribution of precision and recall to the F1 score are equal. The formula for the F1 score is:\n",
    "\n",
    "F1 = 2 * (precision * recall) / (precision + recall)"
   ]
  },
  {
   "cell_type": "code",
   "execution_count": 51,
   "metadata": {},
   "outputs": [
    {
     "name": "stdout",
     "output_type": "stream",
     "text": [
      "log f1 score:  0.794\n"
     ]
    }
   ],
   "source": [
    "from sklearn.metrics import f1_score\n",
    "log_f1 = f1_score(log_new, y_test).round(3)\n",
    "print('log f1 score: ', log_f1)"
   ]
  },
  {
   "cell_type": "code",
   "execution_count": 52,
   "metadata": {},
   "outputs": [
    {
     "name": "stdout",
     "output_type": "stream",
     "text": [
      "tree f1 score:  0.683\n"
     ]
    }
   ],
   "source": [
    "tree_f1 = f1_score(tree_new, y_test).round(3)\n",
    "print('tree f1 score: ', tree_f1)"
   ]
  },
  {
   "cell_type": "code",
   "execution_count": 53,
   "metadata": {},
   "outputs": [
    {
     "name": "stdout",
     "output_type": "stream",
     "text": [
      "svm f1 score:  0.776\n"
     ]
    }
   ],
   "source": [
    "svm_f1 = f1_score(svm_new, y_test).round(3)\n",
    "print('svm f1 score: ', svm_f1)"
   ]
  },
  {
   "cell_type": "markdown",
   "metadata": {},
   "source": [
    "## Looking Forward"
   ]
  },
  {
   "cell_type": "code",
   "execution_count": 54,
   "metadata": {},
   "outputs": [],
   "source": [
    "fx_train = df[['atr', 'bbplus', 'bbminus','smaNdummy', 'adx', 'macdspread', 'rsi','stochspread']][:z]\n",
    "fy_train = df[['priceiny']][:z]\n",
    "\n",
    "fx_test = df[['atr', 'bbplus', 'bbminus','smaNdummy', 'adx', 'macdspread', 'rsi','stochspread']][z:]\n",
    "fy_test = df[['priceiny']][z:]\n",
    "\n",
    "fstd_x_train = scaler.fit(fx_train).transform(fx_train)\n",
    "fstd_x_test = scaler.fit(fx_test).transform(fx_test)\n",
    "\n",
    "log_model.fit(fstd_x_train,fy_train)\n",
    "flog_train = log_model.score(fstd_x_train, fy_train).round(3)\n",
    "flog_new = fstd_x_test\n",
    "flog_new = log_model.predict(flog_new)\n",
    "\n",
    "tree_model.fit(fstd_x_train,fy_train)\n",
    "ftree_train = tree_model.score(fstd_x_train, fy_train).round(3)\n",
    "ftree_new = fstd_x_test\n",
    "ftree_new = tree_model.predict(ftree_new)\n",
    "\n",
    "svm_model.fit(fstd_x_train,fy_train)\n",
    "fsvm_train = svm_model.score(fstd_x_train, fy_train).round(3)\n",
    "fsvm_new = fstd_x_test\n",
    "fsvm_new = svm_model.predict(fsvm_new)"
   ]
  },
  {
   "cell_type": "code",
   "execution_count": 55,
   "metadata": {},
   "outputs": [],
   "source": [
    "fx_test['log_new'] = flog_new\n",
    "fx_test['tree_new'] = ftree_new\n",
    "fx_test['svm_new'] = fsvm_new"
   ]
  },
  {
   "cell_type": "code",
   "execution_count": 56,
   "metadata": {},
   "outputs": [],
   "source": [
    "fx_test['price'] = df['priceclose']"
   ]
  },
  {
   "cell_type": "code",
   "execution_count": 57,
   "metadata": {
    "scrolled": true
   },
   "outputs": [
    {
     "data": {
      "text/html": [
       "<div>\n",
       "<style scoped>\n",
       "    .dataframe tbody tr th:only-of-type {\n",
       "        vertical-align: middle;\n",
       "    }\n",
       "\n",
       "    .dataframe tbody tr th {\n",
       "        vertical-align: top;\n",
       "    }\n",
       "\n",
       "    .dataframe thead th {\n",
       "        text-align: right;\n",
       "    }\n",
       "</style>\n",
       "<table border=\"1\" class=\"dataframe\">\n",
       "  <thead>\n",
       "    <tr style=\"text-align: right;\">\n",
       "      <th></th>\n",
       "      <th>atr</th>\n",
       "      <th>bbplus</th>\n",
       "      <th>bbminus</th>\n",
       "      <th>smaNdummy</th>\n",
       "      <th>adx</th>\n",
       "      <th>macdspread</th>\n",
       "      <th>rsi</th>\n",
       "      <th>stochspread</th>\n",
       "      <th>log_new</th>\n",
       "      <th>tree_new</th>\n",
       "      <th>svm_new</th>\n",
       "      <th>price</th>\n",
       "    </tr>\n",
       "    <tr>\n",
       "      <th>Date</th>\n",
       "      <th></th>\n",
       "      <th></th>\n",
       "      <th></th>\n",
       "      <th></th>\n",
       "      <th></th>\n",
       "      <th></th>\n",
       "      <th></th>\n",
       "      <th></th>\n",
       "      <th></th>\n",
       "      <th></th>\n",
       "      <th></th>\n",
       "      <th></th>\n",
       "    </tr>\n",
       "  </thead>\n",
       "  <tbody>\n",
       "    <tr>\n",
       "      <th>2020-08-05</th>\n",
       "      <td>4.77</td>\n",
       "      <td>270.01</td>\n",
       "      <td>258.32</td>\n",
       "      <td>1</td>\n",
       "      <td>36.35</td>\n",
       "      <td>-0.33</td>\n",
       "      <td>66.91</td>\n",
       "      <td>1.92</td>\n",
       "      <td>1</td>\n",
       "      <td>1</td>\n",
       "      <td>1</td>\n",
       "      <td>274.64</td>\n",
       "    </tr>\n",
       "    <tr>\n",
       "      <th>2020-08-06</th>\n",
       "      <td>4.94</td>\n",
       "      <td>270.64</td>\n",
       "      <td>258.37</td>\n",
       "      <td>1</td>\n",
       "      <td>35.36</td>\n",
       "      <td>-0.37</td>\n",
       "      <td>61.91</td>\n",
       "      <td>-11.45</td>\n",
       "      <td>1</td>\n",
       "      <td>1</td>\n",
       "      <td>1</td>\n",
       "      <td>271.47</td>\n",
       "    </tr>\n",
       "    <tr>\n",
       "      <th>2020-08-09</th>\n",
       "      <td>4.72</td>\n",
       "      <td>271.28</td>\n",
       "      <td>258.63</td>\n",
       "      <td>1</td>\n",
       "      <td>37.59</td>\n",
       "      <td>-0.30</td>\n",
       "      <td>53.98</td>\n",
       "      <td>-13.12</td>\n",
       "      <td>1</td>\n",
       "      <td>1</td>\n",
       "      <td>1</td>\n",
       "      <td>270.31</td>\n",
       "    </tr>\n",
       "    <tr>\n",
       "      <th>2020-08-10</th>\n",
       "      <td>4.76</td>\n",
       "      <td>271.29</td>\n",
       "      <td>258.65</td>\n",
       "      <td>1</td>\n",
       "      <td>39.69</td>\n",
       "      <td>-0.15</td>\n",
       "      <td>50.87</td>\n",
       "      <td>-26.81</td>\n",
       "      <td>1</td>\n",
       "      <td>1</td>\n",
       "      <td>1</td>\n",
       "      <td>265.19</td>\n",
       "    </tr>\n",
       "    <tr>\n",
       "      <th>2020-08-11</th>\n",
       "      <td>5.05</td>\n",
       "      <td>272.19</td>\n",
       "      <td>259.73</td>\n",
       "      <td>1</td>\n",
       "      <td>40.34</td>\n",
       "      <td>0.78</td>\n",
       "      <td>57.20</td>\n",
       "      <td>7.51</td>\n",
       "      <td>1</td>\n",
       "      <td>1</td>\n",
       "      <td>1</td>\n",
       "      <td>271.86</td>\n",
       "    </tr>\n",
       "    <tr>\n",
       "      <th>2020-08-12</th>\n",
       "      <td>4.67</td>\n",
       "      <td>272.85</td>\n",
       "      <td>261.49</td>\n",
       "      <td>1</td>\n",
       "      <td>38.66</td>\n",
       "      <td>0.27</td>\n",
       "      <td>66.15</td>\n",
       "      <td>11.01</td>\n",
       "      <td>1</td>\n",
       "      <td>1</td>\n",
       "      <td>1</td>\n",
       "      <td>272.48</td>\n",
       "    </tr>\n",
       "    <tr>\n",
       "      <th>2020-08-13</th>\n",
       "      <td>4.40</td>\n",
       "      <td>273.46</td>\n",
       "      <td>262.60</td>\n",
       "      <td>1</td>\n",
       "      <td>35.66</td>\n",
       "      <td>0.51</td>\n",
       "      <td>69.37</td>\n",
       "      <td>5.42</td>\n",
       "      <td>1</td>\n",
       "      <td>1</td>\n",
       "      <td>1</td>\n",
       "      <td>272.16</td>\n",
       "    </tr>\n",
       "    <tr>\n",
       "      <th>2020-08-16</th>\n",
       "      <td>4.32</td>\n",
       "      <td>274.05</td>\n",
       "      <td>264.66</td>\n",
       "      <td>1</td>\n",
       "      <td>32.74</td>\n",
       "      <td>0.62</td>\n",
       "      <td>68.56</td>\n",
       "      <td>13.20</td>\n",
       "      <td>1</td>\n",
       "      <td>0</td>\n",
       "      <td>1</td>\n",
       "      <td>275.32</td>\n",
       "    </tr>\n",
       "    <tr>\n",
       "      <th>2020-08-17</th>\n",
       "      <td>4.32</td>\n",
       "      <td>274.99</td>\n",
       "      <td>266.31</td>\n",
       "      <td>1</td>\n",
       "      <td>29.12</td>\n",
       "      <td>0.65</td>\n",
       "      <td>76.11</td>\n",
       "      <td>7.98</td>\n",
       "      <td>1</td>\n",
       "      <td>0</td>\n",
       "      <td>1</td>\n",
       "      <td>277.97</td>\n",
       "    </tr>\n",
       "    <tr>\n",
       "      <th>2020-08-18</th>\n",
       "      <td>4.29</td>\n",
       "      <td>275.32</td>\n",
       "      <td>268.13</td>\n",
       "      <td>1</td>\n",
       "      <td>25.85</td>\n",
       "      <td>0.01</td>\n",
       "      <td>70.36</td>\n",
       "      <td>-8.26</td>\n",
       "      <td>1</td>\n",
       "      <td>0</td>\n",
       "      <td>1</td>\n",
       "      <td>276.10</td>\n",
       "    </tr>\n",
       "    <tr>\n",
       "      <th>2020-08-19</th>\n",
       "      <td>4.33</td>\n",
       "      <td>276.51</td>\n",
       "      <td>268.95</td>\n",
       "      <td>1</td>\n",
       "      <td>21.99</td>\n",
       "      <td>0.18</td>\n",
       "      <td>72.53</td>\n",
       "      <td>3.52</td>\n",
       "      <td>1</td>\n",
       "      <td>0</td>\n",
       "      <td>1</td>\n",
       "      <td>279.93</td>\n",
       "    </tr>\n",
       "    <tr>\n",
       "      <th>2020-08-20</th>\n",
       "      <td>4.17</td>\n",
       "      <td>277.98</td>\n",
       "      <td>269.26</td>\n",
       "      <td>1</td>\n",
       "      <td>18.65</td>\n",
       "      <td>0.12</td>\n",
       "      <td>70.54</td>\n",
       "      <td>4.40</td>\n",
       "      <td>1</td>\n",
       "      <td>0</td>\n",
       "      <td>1</td>\n",
       "      <td>281.87</td>\n",
       "    </tr>\n",
       "    <tr>\n",
       "      <th>2020-08-23</th>\n",
       "      <td>4.20</td>\n",
       "      <td>279.56</td>\n",
       "      <td>269.58</td>\n",
       "      <td>1</td>\n",
       "      <td>16.29</td>\n",
       "      <td>0.07</td>\n",
       "      <td>69.10</td>\n",
       "      <td>-4.22</td>\n",
       "      <td>1</td>\n",
       "      <td>0</td>\n",
       "      <td>1</td>\n",
       "      <td>283.63</td>\n",
       "    </tr>\n",
       "    <tr>\n",
       "      <th>2020-08-24</th>\n",
       "      <td>4.28</td>\n",
       "      <td>281.34</td>\n",
       "      <td>269.92</td>\n",
       "      <td>1</td>\n",
       "      <td>14.26</td>\n",
       "      <td>-0.04</td>\n",
       "      <td>70.10</td>\n",
       "      <td>5.28</td>\n",
       "      <td>1</td>\n",
       "      <td>0</td>\n",
       "      <td>1</td>\n",
       "      <td>285.86</td>\n",
       "    </tr>\n",
       "    <tr>\n",
       "      <th>2020-08-25</th>\n",
       "      <td>4.62</td>\n",
       "      <td>284.03</td>\n",
       "      <td>269.70</td>\n",
       "      <td>1</td>\n",
       "      <td>13.35</td>\n",
       "      <td>0.66</td>\n",
       "      <td>73.94</td>\n",
       "      <td>4.10</td>\n",
       "      <td>1</td>\n",
       "      <td>0</td>\n",
       "      <td>1</td>\n",
       "      <td>291.96</td>\n",
       "    </tr>\n",
       "    <tr>\n",
       "      <th>2020-08-26</th>\n",
       "      <td>4.64</td>\n",
       "      <td>286.17</td>\n",
       "      <td>270.36</td>\n",
       "      <td>1</td>\n",
       "      <td>12.96</td>\n",
       "      <td>0.37</td>\n",
       "      <td>69.65</td>\n",
       "      <td>-5.18</td>\n",
       "      <td>1</td>\n",
       "      <td>0</td>\n",
       "      <td>1</td>\n",
       "      <td>291.05</td>\n",
       "    </tr>\n",
       "    <tr>\n",
       "      <th>2020-08-27</th>\n",
       "      <td>4.40</td>\n",
       "      <td>288.25</td>\n",
       "      <td>271.45</td>\n",
       "      <td>1</td>\n",
       "      <td>12.40</td>\n",
       "      <td>0.81</td>\n",
       "      <td>76.51</td>\n",
       "      <td>-0.09</td>\n",
       "      <td>1</td>\n",
       "      <td>0</td>\n",
       "      <td>1</td>\n",
       "      <td>292.53</td>\n",
       "    </tr>\n",
       "    <tr>\n",
       "      <th>2020-08-30</th>\n",
       "      <td>4.33</td>\n",
       "      <td>290.13</td>\n",
       "      <td>273.81</td>\n",
       "      <td>1</td>\n",
       "      <td>11.91</td>\n",
       "      <td>0.33</td>\n",
       "      <td>80.04</td>\n",
       "      <td>-0.99</td>\n",
       "      <td>1</td>\n",
       "      <td>0</td>\n",
       "      <td>1</td>\n",
       "      <td>294.88</td>\n",
       "    </tr>\n",
       "    <tr>\n",
       "      <th>2020-08-31</th>\n",
       "      <td>4.30</td>\n",
       "      <td>292.87</td>\n",
       "      <td>275.08</td>\n",
       "      <td>1</td>\n",
       "      <td>12.96</td>\n",
       "      <td>0.47</td>\n",
       "      <td>92.50</td>\n",
       "      <td>4.81</td>\n",
       "      <td>1</td>\n",
       "      <td>0</td>\n",
       "      <td>1</td>\n",
       "      <td>299.92</td>\n",
       "    </tr>\n",
       "    <tr>\n",
       "      <th>2020-09-01</th>\n",
       "      <td>4.23</td>\n",
       "      <td>295.68</td>\n",
       "      <td>276.59</td>\n",
       "      <td>1</td>\n",
       "      <td>14.50</td>\n",
       "      <td>0.61</td>\n",
       "      <td>91.69</td>\n",
       "      <td>2.26</td>\n",
       "      <td>1</td>\n",
       "      <td>0</td>\n",
       "      <td>1</td>\n",
       "      <td>302.76</td>\n",
       "    </tr>\n",
       "    <tr>\n",
       "      <th>2020-09-02</th>\n",
       "      <td>5.29</td>\n",
       "      <td>295.88</td>\n",
       "      <td>278.57</td>\n",
       "      <td>1</td>\n",
       "      <td>13.11</td>\n",
       "      <td>-0.74</td>\n",
       "      <td>62.97</td>\n",
       "      <td>-43.11</td>\n",
       "      <td>1</td>\n",
       "      <td>0</td>\n",
       "      <td>0</td>\n",
       "      <td>287.41</td>\n",
       "    </tr>\n",
       "    <tr>\n",
       "      <th>2020-09-03</th>\n",
       "      <td>6.24</td>\n",
       "      <td>295.86</td>\n",
       "      <td>279.78</td>\n",
       "      <td>1</td>\n",
       "      <td>13.91</td>\n",
       "      <td>-0.50</td>\n",
       "      <td>60.00</td>\n",
       "      <td>-43.01</td>\n",
       "      <td>1</td>\n",
       "      <td>0</td>\n",
       "      <td>1</td>\n",
       "      <td>283.58</td>\n",
       "    </tr>\n",
       "    <tr>\n",
       "      <th>2020-09-07</th>\n",
       "      <td>6.91</td>\n",
       "      <td>296.27</td>\n",
       "      <td>278.22</td>\n",
       "      <td>0</td>\n",
       "      <td>15.70</td>\n",
       "      <td>-1.09</td>\n",
       "      <td>45.20</td>\n",
       "      <td>-56.36</td>\n",
       "      <td>0</td>\n",
       "      <td>0</td>\n",
       "      <td>0</td>\n",
       "      <td>269.95</td>\n",
       "    </tr>\n",
       "    <tr>\n",
       "      <th>2020-09-08</th>\n",
       "      <td>7.32</td>\n",
       "      <td>296.24</td>\n",
       "      <td>278.51</td>\n",
       "      <td>0</td>\n",
       "      <td>17.95</td>\n",
       "      <td>-0.18</td>\n",
       "      <td>50.36</td>\n",
       "      <td>-12.45</td>\n",
       "      <td>1</td>\n",
       "      <td>0</td>\n",
       "      <td>1</td>\n",
       "      <td>277.88</td>\n",
       "    </tr>\n",
       "    <tr>\n",
       "      <th>2020-09-09</th>\n",
       "      <td>7.87</td>\n",
       "      <td>296.39</td>\n",
       "      <td>277.27</td>\n",
       "      <td>0</td>\n",
       "      <td>20.36</td>\n",
       "      <td>-0.82</td>\n",
       "      <td>47.22</td>\n",
       "      <td>-11.95</td>\n",
       "      <td>0</td>\n",
       "      <td>0</td>\n",
       "      <td>0</td>\n",
       "      <td>272.34</td>\n",
       "    </tr>\n",
       "    <tr>\n",
       "      <th>2020-09-10</th>\n",
       "      <td>8.04</td>\n",
       "      <td>296.48</td>\n",
       "      <td>275.55</td>\n",
       "      <td>0</td>\n",
       "      <td>23.11</td>\n",
       "      <td>-0.81</td>\n",
       "      <td>43.40</td>\n",
       "      <td>-5.40</td>\n",
       "      <td>0</td>\n",
       "      <td>0</td>\n",
       "      <td>0</td>\n",
       "      <td>270.45</td>\n",
       "    </tr>\n",
       "    <tr>\n",
       "      <th>2020-09-13</th>\n",
       "      <td>8.29</td>\n",
       "      <td>296.26</td>\n",
       "      <td>274.56</td>\n",
       "      <td>0</td>\n",
       "      <td>26.11</td>\n",
       "      <td>-0.55</td>\n",
       "      <td>45.82</td>\n",
       "      <td>9.76</td>\n",
       "      <td>0</td>\n",
       "      <td>0</td>\n",
       "      <td>1</td>\n",
       "      <td>275.16</td>\n",
       "    </tr>\n",
       "    <tr>\n",
       "      <th>2020-09-14</th>\n",
       "      <td>8.32</td>\n",
       "      <td>295.90</td>\n",
       "      <td>273.95</td>\n",
       "      <td>0</td>\n",
       "      <td>29.19</td>\n",
       "      <td>-0.71</td>\n",
       "      <td>47.26</td>\n",
       "      <td>16.82</td>\n",
       "      <td>0</td>\n",
       "      <td>0</td>\n",
       "      <td>0</td>\n",
       "      <td>279.06</td>\n",
       "    </tr>\n",
       "    <tr>\n",
       "      <th>2020-09-15</th>\n",
       "      <td>8.48</td>\n",
       "      <td>294.78</td>\n",
       "      <td>272.58</td>\n",
       "      <td>0</td>\n",
       "      <td>32.40</td>\n",
       "      <td>-1.18</td>\n",
       "      <td>42.78</td>\n",
       "      <td>0.74</td>\n",
       "      <td>0</td>\n",
       "      <td>0</td>\n",
       "      <td>0</td>\n",
       "      <td>274.61</td>\n",
       "    </tr>\n",
       "    <tr>\n",
       "      <th>2020-09-16</th>\n",
       "      <td>8.59</td>\n",
       "      <td>293.62</td>\n",
       "      <td>270.78</td>\n",
       "      <td>0</td>\n",
       "      <td>35.94</td>\n",
       "      <td>-1.41</td>\n",
       "      <td>36.00</td>\n",
       "      <td>-13.05</td>\n",
       "      <td>0</td>\n",
       "      <td>1</td>\n",
       "      <td>0</td>\n",
       "      <td>270.32</td>\n",
       "    </tr>\n",
       "    <tr>\n",
       "      <th>2020-09-17</th>\n",
       "      <td>8.89</td>\n",
       "      <td>292.06</td>\n",
       "      <td>268.68</td>\n",
       "      <td>0</td>\n",
       "      <td>39.95</td>\n",
       "      <td>-1.75</td>\n",
       "      <td>34.90</td>\n",
       "      <td>-9.84</td>\n",
       "      <td>0</td>\n",
       "      <td>1</td>\n",
       "      <td>0</td>\n",
       "      <td>266.87</td>\n",
       "    </tr>\n",
       "    <tr>\n",
       "      <th>2020-09-20</th>\n",
       "      <td>9.23</td>\n",
       "      <td>289.78</td>\n",
       "      <td>267.05</td>\n",
       "      <td>0</td>\n",
       "      <td>43.89</td>\n",
       "      <td>-1.68</td>\n",
       "      <td>34.37</td>\n",
       "      <td>1.18</td>\n",
       "      <td>0</td>\n",
       "      <td>1</td>\n",
       "      <td>0</td>\n",
       "      <td>267.51</td>\n",
       "    </tr>\n",
       "    <tr>\n",
       "      <th>2020-09-21</th>\n",
       "      <td>9.38</td>\n",
       "      <td>286.05</td>\n",
       "      <td>266.86</td>\n",
       "      <td>0</td>\n",
       "      <td>46.14</td>\n",
       "      <td>-1.53</td>\n",
       "      <td>36.71</td>\n",
       "      <td>13.49</td>\n",
       "      <td>0</td>\n",
       "      <td>1</td>\n",
       "      <td>0</td>\n",
       "      <td>272.48</td>\n",
       "    </tr>\n",
       "    <tr>\n",
       "      <th>2020-09-22</th>\n",
       "      <td>9.66</td>\n",
       "      <td>280.20</td>\n",
       "      <td>267.19</td>\n",
       "      <td>0</td>\n",
       "      <td>47.35</td>\n",
       "      <td>-1.38</td>\n",
       "      <td>28.93</td>\n",
       "      <td>-6.30</td>\n",
       "      <td>0</td>\n",
       "      <td>1</td>\n",
       "      <td>0</td>\n",
       "      <td>264.16</td>\n",
       "    </tr>\n",
       "    <tr>\n",
       "      <th>2020-09-23</th>\n",
       "      <td>9.71</td>\n",
       "      <td>277.65</td>\n",
       "      <td>266.60</td>\n",
       "      <td>0</td>\n",
       "      <td>48.86</td>\n",
       "      <td>-0.70</td>\n",
       "      <td>27.87</td>\n",
       "      <td>-0.82</td>\n",
       "      <td>0</td>\n",
       "      <td>1</td>\n",
       "      <td>0</td>\n",
       "      <td>265.39</td>\n",
       "    </tr>\n",
       "    <tr>\n",
       "      <th>2020-09-24</th>\n",
       "      <td>9.03</td>\n",
       "      <td>275.70</td>\n",
       "      <td>266.84</td>\n",
       "      <td>0</td>\n",
       "      <td>53.21</td>\n",
       "      <td>0.49</td>\n",
       "      <td>39.81</td>\n",
       "      <td>31.23</td>\n",
       "      <td>0</td>\n",
       "      <td>1</td>\n",
       "      <td>1</td>\n",
       "      <td>271.56</td>\n",
       "    </tr>\n",
       "    <tr>\n",
       "      <th>2020-09-27</th>\n",
       "      <td>8.26</td>\n",
       "      <td>276.47</td>\n",
       "      <td>267.10</td>\n",
       "      <td>0</td>\n",
       "      <td>55.24</td>\n",
       "      <td>0.13</td>\n",
       "      <td>46.15</td>\n",
       "      <td>47.66</td>\n",
       "      <td>0</td>\n",
       "      <td>1</td>\n",
       "      <td>1</td>\n",
       "      <td>277.20</td>\n",
       "    </tr>\n",
       "    <tr>\n",
       "      <th>2020-09-28</th>\n",
       "      <td>7.47</td>\n",
       "      <td>276.16</td>\n",
       "      <td>267.13</td>\n",
       "      <td>0</td>\n",
       "      <td>55.71</td>\n",
       "      <td>0.27</td>\n",
       "      <td>54.58</td>\n",
       "      <td>26.20</td>\n",
       "      <td>0</td>\n",
       "      <td>1</td>\n",
       "      <td>1</td>\n",
       "      <td>275.95</td>\n",
       "    </tr>\n",
       "    <tr>\n",
       "      <th>2020-09-29</th>\n",
       "      <td>7.16</td>\n",
       "      <td>276.85</td>\n",
       "      <td>267.23</td>\n",
       "      <td>1</td>\n",
       "      <td>55.95</td>\n",
       "      <td>0.60</td>\n",
       "      <td>50.09</td>\n",
       "      <td>20.82</td>\n",
       "      <td>1</td>\n",
       "      <td>1</td>\n",
       "      <td>1</td>\n",
       "      <td>277.84</td>\n",
       "    </tr>\n",
       "    <tr>\n",
       "      <th>2020-09-30</th>\n",
       "      <td>6.73</td>\n",
       "      <td>278.38</td>\n",
       "      <td>267.39</td>\n",
       "      <td>1</td>\n",
       "      <td>55.25</td>\n",
       "      <td>0.60</td>\n",
       "      <td>58.90</td>\n",
       "      <td>20.78</td>\n",
       "      <td>1</td>\n",
       "      <td>1</td>\n",
       "      <td>1</td>\n",
       "      <td>282.25</td>\n",
       "    </tr>\n",
       "    <tr>\n",
       "      <th>2020-10-01</th>\n",
       "      <td>6.78</td>\n",
       "      <td>278.29</td>\n",
       "      <td>267.35</td>\n",
       "      <td>0</td>\n",
       "      <td>54.50</td>\n",
       "      <td>-0.22</td>\n",
       "      <td>52.54</td>\n",
       "      <td>-18.86</td>\n",
       "      <td>0</td>\n",
       "      <td>1</td>\n",
       "      <td>1</td>\n",
       "      <td>274.31</td>\n",
       "    </tr>\n",
       "    <tr>\n",
       "      <th>2020-10-04</th>\n",
       "      <td>6.73</td>\n",
       "      <td>278.48</td>\n",
       "      <td>267.33</td>\n",
       "      <td>1</td>\n",
       "      <td>54.00</td>\n",
       "      <td>0.86</td>\n",
       "      <td>54.20</td>\n",
       "      <td>5.24</td>\n",
       "      <td>1</td>\n",
       "      <td>1</td>\n",
       "      <td>1</td>\n",
       "      <td>280.16</td>\n",
       "    </tr>\n",
       "    <tr>\n",
       "      <th>2020-10-05</th>\n",
       "      <td>6.84</td>\n",
       "      <td>278.53</td>\n",
       "      <td>267.35</td>\n",
       "      <td>1</td>\n",
       "      <td>54.25</td>\n",
       "      <td>0.55</td>\n",
       "      <td>46.75</td>\n",
       "      <td>-12.57</td>\n",
       "      <td>1</td>\n",
       "      <td>1</td>\n",
       "      <td>1</td>\n",
       "      <td>275.16</td>\n",
       "    </tr>\n",
       "    <tr>\n",
       "      <th>2020-10-06</th>\n",
       "      <td>6.80</td>\n",
       "      <td>279.45</td>\n",
       "      <td>267.80</td>\n",
       "      <td>1</td>\n",
       "      <td>53.98</td>\n",
       "      <td>1.27</td>\n",
       "      <td>54.29</td>\n",
       "      <td>8.63</td>\n",
       "      <td>1</td>\n",
       "      <td>1</td>\n",
       "      <td>1</td>\n",
       "      <td>279.92</td>\n",
       "    </tr>\n",
       "    <tr>\n",
       "      <th>2020-10-07</th>\n",
       "      <td>6.42</td>\n",
       "      <td>280.49</td>\n",
       "      <td>268.84</td>\n",
       "      <td>1</td>\n",
       "      <td>52.02</td>\n",
       "      <td>1.22</td>\n",
       "      <td>58.87</td>\n",
       "      <td>15.29</td>\n",
       "      <td>1</td>\n",
       "      <td>1</td>\n",
       "      <td>1</td>\n",
       "      <td>281.41</td>\n",
       "    </tr>\n",
       "    <tr>\n",
       "      <th>2020-10-08</th>\n",
       "      <td>6.10</td>\n",
       "      <td>282.09</td>\n",
       "      <td>269.83</td>\n",
       "      <td>1</td>\n",
       "      <td>48.86</td>\n",
       "      <td>1.31</td>\n",
       "      <td>64.93</td>\n",
       "      <td>14.28</td>\n",
       "      <td>1</td>\n",
       "      <td>1</td>\n",
       "      <td>1</td>\n",
       "      <td>285.71</td>\n",
       "    </tr>\n",
       "    <tr>\n",
       "      <th>2020-10-11</th>\n",
       "      <td>6.41</td>\n",
       "      <td>285.32</td>\n",
       "      <td>269.76</td>\n",
       "      <td>1</td>\n",
       "      <td>45.19</td>\n",
       "      <td>2.26</td>\n",
       "      <td>69.04</td>\n",
       "      <td>1.77</td>\n",
       "      <td>1</td>\n",
       "      <td>1</td>\n",
       "      <td>0</td>\n",
       "      <td>294.53</td>\n",
       "    </tr>\n",
       "    <tr>\n",
       "      <th>2020-10-12</th>\n",
       "      <td>6.20</td>\n",
       "      <td>287.70</td>\n",
       "      <td>271.72</td>\n",
       "      <td>1</td>\n",
       "      <td>40.93</td>\n",
       "      <td>1.44</td>\n",
       "      <td>66.43</td>\n",
       "      <td>-2.14</td>\n",
       "      <td>1</td>\n",
       "      <td>1</td>\n",
       "      <td>1</td>\n",
       "      <td>294.52</td>\n",
       "    </tr>\n",
       "    <tr>\n",
       "      <th>2020-10-13</th>\n",
       "      <td>6.00</td>\n",
       "      <td>289.09</td>\n",
       "      <td>274.14</td>\n",
       "      <td>1</td>\n",
       "      <td>36.79</td>\n",
       "      <td>0.83</td>\n",
       "      <td>72.56</td>\n",
       "      <td>-8.90</td>\n",
       "      <td>1</td>\n",
       "      <td>1</td>\n",
       "      <td>1</td>\n",
       "      <td>292.06</td>\n",
       "    </tr>\n",
       "    <tr>\n",
       "      <th>2020-10-14</th>\n",
       "      <td>5.87</td>\n",
       "      <td>290.13</td>\n",
       "      <td>275.74</td>\n",
       "      <td>1</td>\n",
       "      <td>31.85</td>\n",
       "      <td>0.08</td>\n",
       "      <td>69.77</td>\n",
       "      <td>-17.44</td>\n",
       "      <td>1</td>\n",
       "      <td>0</td>\n",
       "      <td>1</td>\n",
       "      <td>290.10</td>\n",
       "    </tr>\n",
       "  </tbody>\n",
       "</table>\n",
       "</div>"
      ],
      "text/plain": [
       "             atr  bbplus  bbminus  smaNdummy    adx  macdspread    rsi  \\\n",
       "Date                                                                     \n",
       "2020-08-05  4.77  270.01   258.32          1  36.35       -0.33  66.91   \n",
       "2020-08-06  4.94  270.64   258.37          1  35.36       -0.37  61.91   \n",
       "2020-08-09  4.72  271.28   258.63          1  37.59       -0.30  53.98   \n",
       "2020-08-10  4.76  271.29   258.65          1  39.69       -0.15  50.87   \n",
       "2020-08-11  5.05  272.19   259.73          1  40.34        0.78  57.20   \n",
       "2020-08-12  4.67  272.85   261.49          1  38.66        0.27  66.15   \n",
       "2020-08-13  4.40  273.46   262.60          1  35.66        0.51  69.37   \n",
       "2020-08-16  4.32  274.05   264.66          1  32.74        0.62  68.56   \n",
       "2020-08-17  4.32  274.99   266.31          1  29.12        0.65  76.11   \n",
       "2020-08-18  4.29  275.32   268.13          1  25.85        0.01  70.36   \n",
       "2020-08-19  4.33  276.51   268.95          1  21.99        0.18  72.53   \n",
       "2020-08-20  4.17  277.98   269.26          1  18.65        0.12  70.54   \n",
       "2020-08-23  4.20  279.56   269.58          1  16.29        0.07  69.10   \n",
       "2020-08-24  4.28  281.34   269.92          1  14.26       -0.04  70.10   \n",
       "2020-08-25  4.62  284.03   269.70          1  13.35        0.66  73.94   \n",
       "2020-08-26  4.64  286.17   270.36          1  12.96        0.37  69.65   \n",
       "2020-08-27  4.40  288.25   271.45          1  12.40        0.81  76.51   \n",
       "2020-08-30  4.33  290.13   273.81          1  11.91        0.33  80.04   \n",
       "2020-08-31  4.30  292.87   275.08          1  12.96        0.47  92.50   \n",
       "2020-09-01  4.23  295.68   276.59          1  14.50        0.61  91.69   \n",
       "2020-09-02  5.29  295.88   278.57          1  13.11       -0.74  62.97   \n",
       "2020-09-03  6.24  295.86   279.78          1  13.91       -0.50  60.00   \n",
       "2020-09-07  6.91  296.27   278.22          0  15.70       -1.09  45.20   \n",
       "2020-09-08  7.32  296.24   278.51          0  17.95       -0.18  50.36   \n",
       "2020-09-09  7.87  296.39   277.27          0  20.36       -0.82  47.22   \n",
       "2020-09-10  8.04  296.48   275.55          0  23.11       -0.81  43.40   \n",
       "2020-09-13  8.29  296.26   274.56          0  26.11       -0.55  45.82   \n",
       "2020-09-14  8.32  295.90   273.95          0  29.19       -0.71  47.26   \n",
       "2020-09-15  8.48  294.78   272.58          0  32.40       -1.18  42.78   \n",
       "2020-09-16  8.59  293.62   270.78          0  35.94       -1.41  36.00   \n",
       "2020-09-17  8.89  292.06   268.68          0  39.95       -1.75  34.90   \n",
       "2020-09-20  9.23  289.78   267.05          0  43.89       -1.68  34.37   \n",
       "2020-09-21  9.38  286.05   266.86          0  46.14       -1.53  36.71   \n",
       "2020-09-22  9.66  280.20   267.19          0  47.35       -1.38  28.93   \n",
       "2020-09-23  9.71  277.65   266.60          0  48.86       -0.70  27.87   \n",
       "2020-09-24  9.03  275.70   266.84          0  53.21        0.49  39.81   \n",
       "2020-09-27  8.26  276.47   267.10          0  55.24        0.13  46.15   \n",
       "2020-09-28  7.47  276.16   267.13          0  55.71        0.27  54.58   \n",
       "2020-09-29  7.16  276.85   267.23          1  55.95        0.60  50.09   \n",
       "2020-09-30  6.73  278.38   267.39          1  55.25        0.60  58.90   \n",
       "2020-10-01  6.78  278.29   267.35          0  54.50       -0.22  52.54   \n",
       "2020-10-04  6.73  278.48   267.33          1  54.00        0.86  54.20   \n",
       "2020-10-05  6.84  278.53   267.35          1  54.25        0.55  46.75   \n",
       "2020-10-06  6.80  279.45   267.80          1  53.98        1.27  54.29   \n",
       "2020-10-07  6.42  280.49   268.84          1  52.02        1.22  58.87   \n",
       "2020-10-08  6.10  282.09   269.83          1  48.86        1.31  64.93   \n",
       "2020-10-11  6.41  285.32   269.76          1  45.19        2.26  69.04   \n",
       "2020-10-12  6.20  287.70   271.72          1  40.93        1.44  66.43   \n",
       "2020-10-13  6.00  289.09   274.14          1  36.79        0.83  72.56   \n",
       "2020-10-14  5.87  290.13   275.74          1  31.85        0.08  69.77   \n",
       "\n",
       "            stochspread  log_new  tree_new  svm_new   price  \n",
       "Date                                                         \n",
       "2020-08-05         1.92        1         1        1  274.64  \n",
       "2020-08-06       -11.45        1         1        1  271.47  \n",
       "2020-08-09       -13.12        1         1        1  270.31  \n",
       "2020-08-10       -26.81        1         1        1  265.19  \n",
       "2020-08-11         7.51        1         1        1  271.86  \n",
       "2020-08-12        11.01        1         1        1  272.48  \n",
       "2020-08-13         5.42        1         1        1  272.16  \n",
       "2020-08-16        13.20        1         0        1  275.32  \n",
       "2020-08-17         7.98        1         0        1  277.97  \n",
       "2020-08-18        -8.26        1         0        1  276.10  \n",
       "2020-08-19         3.52        1         0        1  279.93  \n",
       "2020-08-20         4.40        1         0        1  281.87  \n",
       "2020-08-23        -4.22        1         0        1  283.63  \n",
       "2020-08-24         5.28        1         0        1  285.86  \n",
       "2020-08-25         4.10        1         0        1  291.96  \n",
       "2020-08-26        -5.18        1         0        1  291.05  \n",
       "2020-08-27        -0.09        1         0        1  292.53  \n",
       "2020-08-30        -0.99        1         0        1  294.88  \n",
       "2020-08-31         4.81        1         0        1  299.92  \n",
       "2020-09-01         2.26        1         0        1  302.76  \n",
       "2020-09-02       -43.11        1         0        0  287.41  \n",
       "2020-09-03       -43.01        1         0        1  283.58  \n",
       "2020-09-07       -56.36        0         0        0  269.95  \n",
       "2020-09-08       -12.45        1         0        1  277.88  \n",
       "2020-09-09       -11.95        0         0        0  272.34  \n",
       "2020-09-10        -5.40        0         0        0  270.45  \n",
       "2020-09-13         9.76        0         0        1  275.16  \n",
       "2020-09-14        16.82        0         0        0  279.06  \n",
       "2020-09-15         0.74        0         0        0  274.61  \n",
       "2020-09-16       -13.05        0         1        0  270.32  \n",
       "2020-09-17        -9.84        0         1        0  266.87  \n",
       "2020-09-20         1.18        0         1        0  267.51  \n",
       "2020-09-21        13.49        0         1        0  272.48  \n",
       "2020-09-22        -6.30        0         1        0  264.16  \n",
       "2020-09-23        -0.82        0         1        0  265.39  \n",
       "2020-09-24        31.23        0         1        1  271.56  \n",
       "2020-09-27        47.66        0         1        1  277.20  \n",
       "2020-09-28        26.20        0         1        1  275.95  \n",
       "2020-09-29        20.82        1         1        1  277.84  \n",
       "2020-09-30        20.78        1         1        1  282.25  \n",
       "2020-10-01       -18.86        0         1        1  274.31  \n",
       "2020-10-04         5.24        1         1        1  280.16  \n",
       "2020-10-05       -12.57        1         1        1  275.16  \n",
       "2020-10-06         8.63        1         1        1  279.92  \n",
       "2020-10-07        15.29        1         1        1  281.41  \n",
       "2020-10-08        14.28        1         1        1  285.71  \n",
       "2020-10-11         1.77        1         1        0  294.53  \n",
       "2020-10-12        -2.14        1         1        1  294.52  \n",
       "2020-10-13        -8.90        1         1        1  292.06  \n",
       "2020-10-14       -17.44        1         0        1  290.10  "
      ]
     },
     "execution_count": 57,
     "metadata": {},
     "output_type": "execute_result"
    }
   ],
   "source": [
    "fx_test[-50:].round(2)"
   ]
  },
  {
   "cell_type": "code",
   "execution_count": 58,
   "metadata": {},
   "outputs": [],
   "source": [
    "fx_test.index = pd.to_datetime(fx_test.index)"
   ]
  },
  {
   "cell_type": "code",
   "execution_count": 59,
   "metadata": {},
   "outputs": [
    {
     "data": {
      "image/png": "[encoded data removed]",
      "text/plain": [
       "<Figure size 1080x720 with 4 Axes>"
      ]
     },
     "metadata": {
      "needs_background": "light"
     },
     "output_type": "display_data"
    }
   ],
   "source": [
    "t= -180\n",
    "\n",
    "import matplotlib.gridspec as gridspec\n",
    "\n",
    "fig = plt.figure(figsize=(15,10))\n",
    "gridspec.GridSpec(4,1)\n",
    "\n",
    "plt.subplot2grid((5,1), (0,0),rowspan=2)  \n",
    "plt.plot(fx_test.index[t:],fx_test['price'][t:],label='Price', color='red')\n",
    "plt.xlabel('Time', size=12)\n",
    "plt.ylabel('Close Price',size=12)\n",
    "plt.legend()\n",
    "plt.xlim(fx_test.index[t],fx_test.index[-1])\n",
    "plt.title('Nasdaq 100 ETF (QQQ) and ML Models',size=14)\n",
    "plt.grid()\n",
    "fig.autofmt_xdate()\n",
    "\n",
    "plt.subplot2grid((5,1), (2,0),rowspan=1)\n",
    "plt.plot(fx_test.index[t:], fx_test['log_new'][t:],label='Log', color='blue')\n",
    "plt.xlabel('Time', size=12)\n",
    "plt.ylabel('Log Score',size=12)\n",
    "plt.xlim(fx_test.index[t],fx_test.index[-1])\n",
    "plt.title('Logistic Regression',size=14)\n",
    "plt.legend()\n",
    "plt.grid()\n",
    "fig.autofmt_xdate()\n",
    "\n",
    "plt.subplot2grid((5,1), (3,0),rowspan=1)\n",
    "plt.plot(fx_test.index[t:], fx_test['tree_new'][t:],label='Tree', color='green')\n",
    "plt.xlabel('Time', size=12)\n",
    "plt.ylabel('Tree Score',size=12)\n",
    "plt.xlim(fx_test.index[t],fx_test.index[-1])\n",
    "plt.title('Decision Tree',size=14)\n",
    "plt.legend()\n",
    "plt.grid()\n",
    "fig.autofmt_xdate()\n",
    "\n",
    "plt.subplot2grid((5,1), (4,0),rowspan=1)\n",
    "plt.plot(fx_test.index[t:], fx_test['svm_new'][t:],label='SVM', color='orange')\n",
    "plt.xlabel('Time', size=12)\n",
    "plt.ylabel('SVM Score',size=12)\n",
    "plt.xlim(fx_test.index[t],fx_test.index[-1])\n",
    "plt.title('Support Vector Machine',size=14)\n",
    "plt.legend()\n",
    "plt.grid()\n",
    "fig.autofmt_xdate()\n",
    "\n",
    "plt.show()"
   ]
  },
  {
   "cell_type": "markdown",
   "metadata": {},
   "source": [
    "The market should be (up=1, down=0) in N-days from now, where N-day was set at Y label at the beginning of the model. "
   ]
  },
  {
   "cell_type": "markdown",
   "metadata": {},
   "source": [
    "Good luck with the market! \n",
    "\n",
    "Guillaume Girard, CMT \n",
    "\n",
    "Fierce Research"
   ]
  },
  {
   "cell_type": "code",
   "execution_count": null,
   "metadata": {},
   "outputs": [],
   "source": []
  }
 ],
 "metadata": {
  "kernelspec": {
   "display_name": "Python 3",
   "language": "python",
   "name": "python3"
  },
  "language_info": {
   "codemirror_mode": {
    "name": "ipython",
    "version": 3
   },
   "file_extension": ".py",
   "mimetype": "text/x-python",
   "name": "python",
   "nbconvert_exporter": "python",
   "pygments_lexer": "ipython3",
   "version": "3.7.6"
  }
 },
 "nbformat": 4,
 "nbformat_minor": 4
}
