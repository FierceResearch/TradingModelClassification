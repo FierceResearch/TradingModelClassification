{
 "cells": [
  {
   "cell_type": "markdown",
   "metadata": {},
   "source": [
    "# Equity Trading Model with DSWS"
   ]
  },
  {
   "cell_type": "markdown",
   "metadata": {},
   "source": [
    "#### Thesis: \n",
    "- The objective of this research project is to predict if the price of an asset (i.e.: SPY ETF) will be higher or lower in N-days from now using price-based (Technical) indicators as features. \n",
    "\n",
    "#### Label:\n",
    "- y = close price in N day > today, 1, else 0\n",
    "\n",
    "#### Features:\n",
    "Volatility:\n",
    "- Average True Range\n",
    "- Bollinger Bands with 1 STD\n",
    "- Equity Volatility Index (VIX)\n",
    "\n",
    "Trend Following:\n",
    "- Moving Average Convergence Divergence Spread\n",
    "- N-day Simple Moving Average\n",
    "- Average Directional Index \n",
    "\n",
    "Trend Reversal:\n",
    "- Relative Strength Index\n",
    "- Stochastic Spread\n",
    "- Volume vs N-day Average Volume Spread"
   ]
  },
  {
   "cell_type": "markdown",
   "metadata": {},
   "source": [
    "### Import Packages"
   ]
  },
  {
   "cell_type": "code",
   "execution_count": 1,
   "metadata": {},
   "outputs": [],
   "source": [
    "import numpy as np\n",
    "import pandas as pd\n",
    "\n",
    "import matplotlib.pyplot as plt\n",
    "%matplotlib inline\n",
    "import seaborn as sns\n",
    "plt.style.use('seaborn-dark-palette')\n",
    "\n",
    "import warnings \n",
    "warnings.filterwarnings('ignore')"
   ]
  },
  {
   "cell_type": "markdown",
   "metadata": {},
   "source": [
    "### Import & Clean Data"
   ]
  },
  {
   "cell_type": "markdown",
   "metadata": {},
   "source": [
    "API Data Pull"
   ]
  },
  {
   "cell_type": "code",
   "execution_count": 2,
   "metadata": {},
   "outputs": [],
   "source": [
    "import PyDSWS as PyDSWS\n",
    "ds = PyDSWS.Datastream(username='x', password='x')\n",
    "df = ds.get_data(tickers='@QQQ, @QQQ(PH), @QQQ(PL), @QQQ(PO)',start=\"-20Y\",end=\"0\", freq=\"D\")\n",
    "df.columns = ['priceclose','pricehigh','pricelow','priceopen']"
   ]
  },
  {
   "cell_type": "code",
   "execution_count": 3,
   "metadata": {},
   "outputs": [
    {
     "data": {
      "text/html": [
       "<div>\n",
       "<style scoped>\n",
       "    .dataframe tbody tr th:only-of-type {\n",
       "        vertical-align: middle;\n",
       "    }\n",
       "\n",
       "    .dataframe tbody tr th {\n",
       "        vertical-align: top;\n",
       "    }\n",
       "\n",
       "    .dataframe thead th {\n",
       "        text-align: right;\n",
       "    }\n",
       "</style>\n",
       "<table border=\"1\" class=\"dataframe\">\n",
       "  <thead>\n",
       "    <tr style=\"text-align: right;\">\n",
       "      <th></th>\n",
       "      <th>priceclose</th>\n",
       "      <th>pricehigh</th>\n",
       "      <th>pricelow</th>\n",
       "      <th>priceopen</th>\n",
       "    </tr>\n",
       "    <tr>\n",
       "      <th>Date</th>\n",
       "      <th></th>\n",
       "      <th></th>\n",
       "      <th></th>\n",
       "      <th></th>\n",
       "    </tr>\n",
       "  </thead>\n",
       "  <tbody>\n",
       "    <tr>\n",
       "      <th>2000-10-12</th>\n",
       "      <td>81.2500</td>\n",
       "      <td>81.6250</td>\n",
       "      <td>74.6250</td>\n",
       "      <td>74.6875</td>\n",
       "    </tr>\n",
       "    <tr>\n",
       "      <th>2000-10-15</th>\n",
       "      <td>81.6250</td>\n",
       "      <td>82.3125</td>\n",
       "      <td>79.7500</td>\n",
       "      <td>81.1250</td>\n",
       "    </tr>\n",
       "    <tr>\n",
       "      <th>2000-10-16</th>\n",
       "      <td>78.2500</td>\n",
       "      <td>83.1719</td>\n",
       "      <td>78.0000</td>\n",
       "      <td>83.1250</td>\n",
       "    </tr>\n",
       "    <tr>\n",
       "      <th>2000-10-17</th>\n",
       "      <td>78.0000</td>\n",
       "      <td>81.1875</td>\n",
       "      <td>74.5625</td>\n",
       "      <td>76.7500</td>\n",
       "    </tr>\n",
       "    <tr>\n",
       "      <th>2000-10-18</th>\n",
       "      <td>85.0625</td>\n",
       "      <td>85.1094</td>\n",
       "      <td>81.4375</td>\n",
       "      <td>82.3906</td>\n",
       "    </tr>\n",
       "    <tr>\n",
       "      <th>...</th>\n",
       "      <td>...</td>\n",
       "      <td>...</td>\n",
       "      <td>...</td>\n",
       "      <td>...</td>\n",
       "    </tr>\n",
       "    <tr>\n",
       "      <th>2020-10-07</th>\n",
       "      <td>281.4099</td>\n",
       "      <td>282.4700</td>\n",
       "      <td>280.3101</td>\n",
       "      <td>282.3201</td>\n",
       "    </tr>\n",
       "    <tr>\n",
       "      <th>2020-10-08</th>\n",
       "      <td>285.7100</td>\n",
       "      <td>285.7900</td>\n",
       "      <td>282.7100</td>\n",
       "      <td>283.0901</td>\n",
       "    </tr>\n",
       "    <tr>\n",
       "      <th>2020-10-11</th>\n",
       "      <td>294.5300</td>\n",
       "      <td>297.4600</td>\n",
       "      <td>289.4700</td>\n",
       "      <td>290.6001</td>\n",
       "    </tr>\n",
       "    <tr>\n",
       "      <th>2020-10-12</th>\n",
       "      <td>294.5200</td>\n",
       "      <td>297.0496</td>\n",
       "      <td>293.1101</td>\n",
       "      <td>296.3401</td>\n",
       "    </tr>\n",
       "    <tr>\n",
       "      <th>2020-10-13</th>\n",
       "      <td>292.0601</td>\n",
       "      <td>296.3501</td>\n",
       "      <td>290.2600</td>\n",
       "      <td>295.3201</td>\n",
       "    </tr>\n",
       "  </tbody>\n",
       "</table>\n",
       "<p>5219 rows × 4 columns</p>\n",
       "</div>"
      ],
      "text/plain": [
       "            priceclose  pricehigh  pricelow  priceopen\n",
       "Date                                                  \n",
       "2000-10-12     81.2500    81.6250   74.6250    74.6875\n",
       "2000-10-15     81.6250    82.3125   79.7500    81.1250\n",
       "2000-10-16     78.2500    83.1719   78.0000    83.1250\n",
       "2000-10-17     78.0000    81.1875   74.5625    76.7500\n",
       "2000-10-18     85.0625    85.1094   81.4375    82.3906\n",
       "...                ...        ...       ...        ...\n",
       "2020-10-07    281.4099   282.4700  280.3101   282.3201\n",
       "2020-10-08    285.7100   285.7900  282.7100   283.0901\n",
       "2020-10-11    294.5300   297.4600  289.4700   290.6001\n",
       "2020-10-12    294.5200   297.0496  293.1101   296.3401\n",
       "2020-10-13    292.0601   296.3501  290.2600   295.3201\n",
       "\n",
       "[5219 rows x 4 columns]"
      ]
     },
     "execution_count": 3,
     "metadata": {},
     "output_type": "execute_result"
    }
   ],
   "source": [
    "df"
   ]
  },
  {
   "cell_type": "code",
   "execution_count": 4,
   "metadata": {},
   "outputs": [
    {
     "data": {
      "text/plain": [
       "5219"
      ]
     },
     "execution_count": 4,
     "metadata": {},
     "output_type": "execute_result"
    }
   ],
   "source": [
    "len(df)"
   ]
  },
  {
   "cell_type": "code",
   "execution_count": 5,
   "metadata": {},
   "outputs": [],
   "source": [
    "df = df.dropna()"
   ]
  },
  {
   "cell_type": "code",
   "execution_count": 6,
   "metadata": {},
   "outputs": [
    {
     "data": {
      "image/png": "[encoded data removed]",
      "text/plain": [
       "<Figure size 1080x360 with 1 Axes>"
      ]
     },
     "metadata": {
      "needs_background": "light"
     },
     "output_type": "display_data"
    }
   ],
   "source": [
    "df['priceclose'].plot(figsize=(15,5),kind='area',title='Nasdaq 100',legend=True);"
   ]
  },
  {
   "cell_type": "markdown",
   "metadata": {},
   "source": [
    "## Features"
   ]
  },
  {
   "cell_type": "code",
   "execution_count": 7,
   "metadata": {},
   "outputs": [],
   "source": [
    "# Set Y Label\n",
    "y = -22\n",
    "\n",
    "df['priceiny'] = np.where(df['priceclose']<df['priceclose'].shift(y),1,0)"
   ]
  },
  {
   "cell_type": "markdown",
   "metadata": {},
   "source": [
    "#### Price Return"
   ]
  },
  {
   "cell_type": "code",
   "execution_count": 8,
   "metadata": {},
   "outputs": [],
   "source": [
    "df['pcshift'] = df['priceclose'].shift(1)\n",
    "df['dailyreturn'] = (((df['priceclose']-df['pcshift'])/df['pcshift'])*100).round(2)"
   ]
  },
  {
   "cell_type": "markdown",
   "metadata": {},
   "source": [
    "#### Average True Range"
   ]
  },
  {
   "cell_type": "code",
   "execution_count": 9,
   "metadata": {},
   "outputs": [],
   "source": [
    "df['hmpc'] = abs(df['pricehigh']-df['pcshift'])\n",
    "df['lmpc'] = abs(df['pricelow']-df['pcshift'])\n",
    "df['hml'] = df['pricehigh']-df['pricelow']\n",
    "df['true range'] = df[['hml','hmpc','lmpc']].max(axis=1)\n",
    "df['atr'] = ((df['true range'].rolling(14).mean().shift(1)*(14-1))+df['true range'])/14"
   ]
  },
  {
   "cell_type": "markdown",
   "metadata": {},
   "source": [
    "#### Bollinger Bands"
   ]
  },
  {
   "cell_type": "code",
   "execution_count": 10,
   "metadata": {},
   "outputs": [],
   "source": [
    "rolling_mean = df['priceclose'].rolling(window=14).mean()\n",
    "rolling_std = df['priceclose'].rolling(window=14).std()\n",
    "\n",
    "df['bbplus'] = rolling_mean + (rolling_std * 1)\n",
    "df['bbminus'] = rolling_mean - (rolling_std * 1) "
   ]
  },
  {
   "cell_type": "markdown",
   "metadata": {},
   "source": [
    "#### MACD Spread"
   ]
  },
  {
   "cell_type": "code",
   "execution_count": 11,
   "metadata": {},
   "outputs": [],
   "source": [
    "df['ma12'] = df['priceclose'].rolling(window=12).mean()\n",
    "df['ma26'] = df['priceclose'].rolling(window=26).mean()\n",
    "\n",
    "df['ma12shift'] = df['ma12'].shift(1)\n",
    "df['ma26shift'] = df['ma26'].shift(1)\n",
    "\n",
    "df['fastma12'] = (df['priceclose']-df['ma12shift'])*(2/(12+1))+df['ma12shift']\n",
    "df['slowma26'] = (df['priceclose']-df['ma26shift'])*(2/(26+1))+df['ma26shift']\n",
    "\n",
    "df['madiff'] = df['fastma12']-df['slowma26']\n",
    "df['madiffshift'] = df['madiff'].shift(1)\n",
    "\n",
    "df['signalma9'] = (df['madiff']-df['madiffshift'])*(2/(9+1))+df['madiffshift']\n",
    "df['macdspread'] = df['madiff']-df['signalma9']"
   ]
  },
  {
   "cell_type": "markdown",
   "metadata": {},
   "source": [
    "#### N-day SMA"
   ]
  },
  {
   "cell_type": "code",
   "execution_count": 12,
   "metadata": {},
   "outputs": [],
   "source": [
    "df['smaNday'] = df['priceclose'].rolling(window=abs(y)).mean()\n",
    "df['smaNdummy'] = [1 if row['priceclose']>row['smaNday'] else 0 for idx,row in df.iterrows()]"
   ]
  },
  {
   "cell_type": "markdown",
   "metadata": {},
   "source": [
    "#### Average Directional Index"
   ]
  },
  {
   "cell_type": "code",
   "execution_count": 13,
   "metadata": {},
   "outputs": [],
   "source": [
    "df['hmph'] = df['pricehigh']-df['pricehigh'].shift(1)\n",
    "df['plml'] = df['pcshift']-df['pricelow']\n",
    "\n",
    "df['+dx'] = [row['hmph'] if row['hmph']>row['plml'] and row['hmph']>0 else 0 for idx,row in df.iterrows()]\n",
    "df['-dx'] = [row['plml'] if row['plml']>row['hmph'] and row['plml']>0 else 0 for idx,row in df.iterrows()]\n",
    "\n",
    "df['smooth+dx'] = ((df['+dx'].rolling(window=14).mean().shift(1)*(14-1))+df['+dx'])/14\n",
    "df['smooth-dx'] = ((df['-dx'].rolling(window=14).mean().shift(1)*(14-1))+df['-dx'])/14\n",
    "\n",
    "df['+dmi'] = (df['smooth+dx']/df['atr'])*100\n",
    "df['-dmi'] = (df['smooth-dx']/df['atr'])*100\n",
    "\n",
    "df['dx'] = ((abs(df['+dmi']-df['-dmi']))/(df['+dmi']+df['-dmi']))*100\n",
    "df['adx'] = (df['dx'].rolling(window=14).mean().shift(1)*(14-1)+df['dx'])/14"
   ]
  },
  {
   "cell_type": "markdown",
   "metadata": {},
   "source": [
    "#### Relative Strength Index"
   ]
  },
  {
   "cell_type": "code",
   "execution_count": 14,
   "metadata": {},
   "outputs": [],
   "source": [
    "df['upmove'] = [row['priceclose']-row['pcshift'] if row['priceclose']>row['pcshift'] else 0 for idx,row in df.iterrows()]\n",
    "df['dnmove'] = [row['pcshift']-row['priceclose'] if row['priceclose']<row['pcshift'] else 0 for idx,row in df.iterrows()]\n",
    "\n",
    "df['avgupmove'] = df['upmove'].rolling(window=14).mean()\n",
    "df['avgdnmove'] = df['dnmove'].rolling(window=14).mean()\n",
    "\n",
    "df['avgupmoveshift'] = df['avgupmove'].shift(1)\n",
    "df['avgdnmoveshift'] = df['avgdnmove'].shift(1)\n",
    "\n",
    "df['avgupmove1'] = (df['avgupmoveshift']*(14-1)+df['upmove'])/14\n",
    "df['avgdnmove1'] = (df['avgdnmoveshift']*(14-1)+df['dnmove'])/14\n",
    "\n",
    "df['relstrength'] = df['avgupmove1']/df['avgdnmove1']\n",
    "df['rsi'] = 100-(100/(df['relstrength']+1))"
   ]
  },
  {
   "cell_type": "markdown",
   "metadata": {},
   "source": [
    "#### Stochastic Spread"
   ]
  },
  {
   "cell_type": "code",
   "execution_count": 15,
   "metadata": {},
   "outputs": [],
   "source": [
    "df['stochlow'] = df['priceclose']-(df['pricelow'].rolling(window=14).min())\n",
    "df['stochhml'] = (df['pricehigh'].rolling(window=14).max())-(df['pricelow'].rolling(window=14).min())\n",
    "df['%k'] = (df['stochlow']/df['stochhml'])*100\n",
    "df['%d'] = (df['stochlow'].rolling(window=3).sum()/df['stochhml'].rolling(window=3).sum())*100\n",
    "df['signal'] = df['%d'].rolling(window=3).mean()\n",
    "\n",
    "df['stochspread'] = df['%k']-df['signal']"
   ]
  },
  {
   "cell_type": "markdown",
   "metadata": {},
   "source": [
    "## Feature Exploration"
   ]
  },
  {
   "cell_type": "code",
   "execution_count": 16,
   "metadata": {},
   "outputs": [
    {
     "data": {
      "image/png": "[encoded data removed]",
      "text/plain": [
       "<Figure size 1080x1080 with 8 Axes>"
      ]
     },
     "metadata": {
      "needs_background": "light"
     },
     "output_type": "display_data"
    }
   ],
   "source": [
    "df.index = pd.to_datetime(df.index)\n",
    "\n",
    "fig = plt.figure(figsize=(15,15))\n",
    "\n",
    "fig.autofmt_xdate()\n",
    "\n",
    "ax1 = fig.add_subplot(4,2,1)\n",
    "ax2 = fig.add_subplot(4,2,2)\n",
    "ax3 = fig.add_subplot(4,2,3)\n",
    "ax4 = fig.add_subplot(4,2,4)\n",
    "ax5 = fig.add_subplot(4,2,5)\n",
    "ax6 = fig.add_subplot(4,2,6)\n",
    "ax7 = fig.add_subplot(4,2,7)\n",
    "ax8 = fig.add_subplot(4,2,8)\n",
    "\n",
    "ax1.plot(df.index[-50:],df['priceclose'][-50:])\n",
    "ax1.set_title('Price Close SPY',size='15')\n",
    "\n",
    "ax2.plot(df.index[-50:],df['atr'][-50:])\n",
    "ax2.set_title('ATR',size='15')\n",
    "\n",
    "ax3.plot(df.index[-50:],df[['priceclose','bbplus','bbminus']][-50:])\n",
    "ax3.set_title('Bollinger Bands 1 STD',size='15')\n",
    "\n",
    "ax4.plot(df.index[-50:],df['macdspread'][-50:])\n",
    "ax4.set_title('MACD Spread',size='15')\n",
    "\n",
    "ax5.plot(df.index[-50:],df['smaNdummy'][-50:])\n",
    "ax5.set_title('SMA N-day Dummy',size='15')\n",
    "\n",
    "ax6.plot(df.index[-50:],df['adx'][-50:])\n",
    "ax6.set_title('ADX',size='15')\n",
    "\n",
    "ax7.plot(df.index[-50:],df['rsi'][-50:])\n",
    "ax7.set_title('RSI',size='15')\n",
    "\n",
    "ax8.plot(df.index[-50:],df['stochspread'][-50:])\n",
    "ax8.set_title('Stochastic Spread',size='15')\n",
    "\n",
    "fig.tight_layout();"
   ]
  },
  {
   "cell_type": "code",
   "execution_count": 17,
   "metadata": {},
   "outputs": [],
   "source": [
    "df = df[['priceclose','priceiny','dailyreturn','atr', 'bbplus', 'bbminus','smaNdummy','adx','macdspread','rsi','stochspread']]"
   ]
  },
  {
   "cell_type": "code",
   "execution_count": 18,
   "metadata": {},
   "outputs": [
    {
     "data": {
      "image/png": "[encoded data removed]",
      "text/plain": [
       "<Figure size 1080x1080 with 12 Axes>"
      ]
     },
     "metadata": {
      "needs_background": "light"
     },
     "output_type": "display_data"
    }
   ],
   "source": [
    "pd.DataFrame.hist(df, figsize = [15,15]);"
   ]
  },
  {
   "cell_type": "code",
   "execution_count": 19,
   "metadata": {},
   "outputs": [
    {
     "data": {
      "text/html": [
       "<div>\n",
       "<style scoped>\n",
       "    .dataframe tbody tr th:only-of-type {\n",
       "        vertical-align: middle;\n",
       "    }\n",
       "\n",
       "    .dataframe tbody tr th {\n",
       "        vertical-align: top;\n",
       "    }\n",
       "\n",
       "    .dataframe thead th {\n",
       "        text-align: right;\n",
       "    }\n",
       "</style>\n",
       "<table border=\"1\" class=\"dataframe\">\n",
       "  <thead>\n",
       "    <tr style=\"text-align: right;\">\n",
       "      <th></th>\n",
       "      <th>priceclose</th>\n",
       "      <th>priceiny</th>\n",
       "      <th>dailyreturn</th>\n",
       "      <th>atr</th>\n",
       "      <th>bbplus</th>\n",
       "      <th>bbminus</th>\n",
       "      <th>smaNdummy</th>\n",
       "      <th>adx</th>\n",
       "      <th>macdspread</th>\n",
       "      <th>rsi</th>\n",
       "      <th>stochspread</th>\n",
       "    </tr>\n",
       "  </thead>\n",
       "  <tbody>\n",
       "    <tr>\n",
       "      <th>count</th>\n",
       "      <td>5032.00</td>\n",
       "      <td>5032.00</td>\n",
       "      <td>5031.00</td>\n",
       "      <td>5018.00</td>\n",
       "      <td>5019.00</td>\n",
       "      <td>5019.00</td>\n",
       "      <td>5032.00</td>\n",
       "      <td>5004.00</td>\n",
       "      <td>5005.00</td>\n",
       "      <td>5018.00</td>\n",
       "      <td>5015.00</td>\n",
       "    </tr>\n",
       "    <tr>\n",
       "      <th>mean</th>\n",
       "      <td>80.13</td>\n",
       "      <td>0.62</td>\n",
       "      <td>0.04</td>\n",
       "      <td>1.42</td>\n",
       "      <td>81.29</td>\n",
       "      <td>78.43</td>\n",
       "      <td>0.61</td>\n",
       "      <td>40.25</td>\n",
       "      <td>0.00</td>\n",
       "      <td>54.90</td>\n",
       "      <td>-0.03</td>\n",
       "    </tr>\n",
       "    <tr>\n",
       "      <th>std</th>\n",
       "      <td>56.64</td>\n",
       "      <td>0.49</td>\n",
       "      <td>1.65</td>\n",
       "      <td>1.35</td>\n",
       "      <td>57.19</td>\n",
       "      <td>55.23</td>\n",
       "      <td>0.49</td>\n",
       "      <td>18.83</td>\n",
       "      <td>0.21</td>\n",
       "      <td>16.11</td>\n",
       "      <td>19.10</td>\n",
       "    </tr>\n",
       "    <tr>\n",
       "      <th>min</th>\n",
       "      <td>20.06</td>\n",
       "      <td>0.00</td>\n",
       "      <td>-11.98</td>\n",
       "      <td>0.39</td>\n",
       "      <td>21.58</td>\n",
       "      <td>20.24</td>\n",
       "      <td>0.00</td>\n",
       "      <td>7.31</td>\n",
       "      <td>-2.16</td>\n",
       "      <td>3.73</td>\n",
       "      <td>-81.06</td>\n",
       "    </tr>\n",
       "    <tr>\n",
       "      <th>25%</th>\n",
       "      <td>39.21</td>\n",
       "      <td>0.00</td>\n",
       "      <td>-0.62</td>\n",
       "      <td>0.69</td>\n",
       "      <td>39.87</td>\n",
       "      <td>38.59</td>\n",
       "      <td>0.00</td>\n",
       "      <td>24.53</td>\n",
       "      <td>-0.07</td>\n",
       "      <td>42.75</td>\n",
       "      <td>-10.69</td>\n",
       "    </tr>\n",
       "    <tr>\n",
       "      <th>50%</th>\n",
       "      <td>54.53</td>\n",
       "      <td>1.00</td>\n",
       "      <td>0.10</td>\n",
       "      <td>0.99</td>\n",
       "      <td>55.81</td>\n",
       "      <td>53.45</td>\n",
       "      <td>1.00</td>\n",
       "      <td>38.18</td>\n",
       "      <td>-0.00</td>\n",
       "      <td>54.49</td>\n",
       "      <td>0.55</td>\n",
       "    </tr>\n",
       "    <tr>\n",
       "      <th>75%</th>\n",
       "      <td>107.96</td>\n",
       "      <td>1.00</td>\n",
       "      <td>0.76</td>\n",
       "      <td>1.55</td>\n",
       "      <td>109.68</td>\n",
       "      <td>106.18</td>\n",
       "      <td>1.00</td>\n",
       "      <td>54.29</td>\n",
       "      <td>0.07</td>\n",
       "      <td>66.59</td>\n",
       "      <td>11.07</td>\n",
       "    </tr>\n",
       "    <tr>\n",
       "      <th>max</th>\n",
       "      <td>302.76</td>\n",
       "      <td>1.00</td>\n",
       "      <td>16.84</td>\n",
       "      <td>13.52</td>\n",
       "      <td>296.48</td>\n",
       "      <td>279.78</td>\n",
       "      <td>1.00</td>\n",
       "      <td>89.20</td>\n",
       "      <td>2.29</td>\n",
       "      <td>98.19</td>\n",
       "      <td>72.35</td>\n",
       "    </tr>\n",
       "  </tbody>\n",
       "</table>\n",
       "</div>"
      ],
      "text/plain": [
       "       priceclose  priceiny  dailyreturn      atr   bbplus  bbminus  \\\n",
       "count     5032.00   5032.00      5031.00  5018.00  5019.00  5019.00   \n",
       "mean        80.13      0.62         0.04     1.42    81.29    78.43   \n",
       "std         56.64      0.49         1.65     1.35    57.19    55.23   \n",
       "min         20.06      0.00       -11.98     0.39    21.58    20.24   \n",
       "25%         39.21      0.00        -0.62     0.69    39.87    38.59   \n",
       "50%         54.53      1.00         0.10     0.99    55.81    53.45   \n",
       "75%        107.96      1.00         0.76     1.55   109.68   106.18   \n",
       "max        302.76      1.00        16.84    13.52   296.48   279.78   \n",
       "\n",
       "       smaNdummy      adx  macdspread      rsi  stochspread  \n",
       "count    5032.00  5004.00     5005.00  5018.00      5015.00  \n",
       "mean        0.61    40.25        0.00    54.90        -0.03  \n",
       "std         0.49    18.83        0.21    16.11        19.10  \n",
       "min         0.00     7.31       -2.16     3.73       -81.06  \n",
       "25%         0.00    24.53       -0.07    42.75       -10.69  \n",
       "50%         1.00    38.18       -0.00    54.49         0.55  \n",
       "75%         1.00    54.29        0.07    66.59        11.07  \n",
       "max         1.00    89.20        2.29    98.19        72.35  "
      ]
     },
     "execution_count": 19,
     "metadata": {},
     "output_type": "execute_result"
    }
   ],
   "source": [
    "df.describe().round(2)"
   ]
  },
  {
   "cell_type": "code",
   "execution_count": 20,
   "metadata": {},
   "outputs": [
    {
     "data": {
      "text/html": [
       "<div>\n",
       "<style scoped>\n",
       "    .dataframe tbody tr th:only-of-type {\n",
       "        vertical-align: middle;\n",
       "    }\n",
       "\n",
       "    .dataframe tbody tr th {\n",
       "        vertical-align: top;\n",
       "    }\n",
       "\n",
       "    .dataframe thead th {\n",
       "        text-align: right;\n",
       "    }\n",
       "</style>\n",
       "<table border=\"1\" class=\"dataframe\">\n",
       "  <thead>\n",
       "    <tr style=\"text-align: right;\">\n",
       "      <th></th>\n",
       "      <th>priceclose</th>\n",
       "      <th>priceiny</th>\n",
       "      <th>dailyreturn</th>\n",
       "      <th>atr</th>\n",
       "      <th>bbplus</th>\n",
       "      <th>bbminus</th>\n",
       "      <th>smaNdummy</th>\n",
       "      <th>adx</th>\n",
       "      <th>macdspread</th>\n",
       "      <th>rsi</th>\n",
       "      <th>stochspread</th>\n",
       "    </tr>\n",
       "    <tr>\n",
       "      <th>Date</th>\n",
       "      <th></th>\n",
       "      <th></th>\n",
       "      <th></th>\n",
       "      <th></th>\n",
       "      <th></th>\n",
       "      <th></th>\n",
       "      <th></th>\n",
       "      <th></th>\n",
       "      <th></th>\n",
       "      <th></th>\n",
       "      <th></th>\n",
       "    </tr>\n",
       "  </thead>\n",
       "  <tbody>\n",
       "    <tr>\n",
       "      <th>2020-03-15</th>\n",
       "      <td>169.3</td>\n",
       "      <td>1</td>\n",
       "      <td>-11.98</td>\n",
       "      <td>12.03</td>\n",
       "      <td>216.31</td>\n",
       "      <td>187.04</td>\n",
       "      <td>0</td>\n",
       "      <td>68.81</td>\n",
       "      <td>-1.81</td>\n",
       "      <td>31.58</td>\n",
       "      <td>-11.85</td>\n",
       "    </tr>\n",
       "  </tbody>\n",
       "</table>\n",
       "</div>"
      ],
      "text/plain": [
       "            priceclose  priceiny  dailyreturn    atr  bbplus  bbminus  \\\n",
       "Date                                                                    \n",
       "2020-03-15       169.3         1       -11.98  12.03  216.31   187.04   \n",
       "\n",
       "            smaNdummy    adx  macdspread    rsi  stochspread  \n",
       "Date                                                          \n",
       "2020-03-15          0  68.81       -1.81  31.58       -11.85  "
      ]
     },
     "execution_count": 20,
     "metadata": {},
     "output_type": "execute_result"
    }
   ],
   "source": [
    "df[df['dailyreturn'] == df['dailyreturn'].min()].round(2)"
   ]
  },
  {
   "cell_type": "code",
   "execution_count": 21,
   "metadata": {
    "scrolled": true
   },
   "outputs": [
    {
     "data": {
      "text/html": [
       "<div>\n",
       "<style scoped>\n",
       "    .dataframe tbody tr th:only-of-type {\n",
       "        vertical-align: middle;\n",
       "    }\n",
       "\n",
       "    .dataframe tbody tr th {\n",
       "        vertical-align: top;\n",
       "    }\n",
       "\n",
       "    .dataframe thead th {\n",
       "        text-align: right;\n",
       "    }\n",
       "</style>\n",
       "<table border=\"1\" class=\"dataframe\">\n",
       "  <thead>\n",
       "    <tr style=\"text-align: right;\">\n",
       "      <th></th>\n",
       "      <th>priceclose</th>\n",
       "      <th>priceiny</th>\n",
       "      <th>dailyreturn</th>\n",
       "      <th>atr</th>\n",
       "      <th>bbplus</th>\n",
       "      <th>bbminus</th>\n",
       "      <th>smaNdummy</th>\n",
       "      <th>adx</th>\n",
       "      <th>macdspread</th>\n",
       "      <th>rsi</th>\n",
       "      <th>stochspread</th>\n",
       "    </tr>\n",
       "    <tr>\n",
       "      <th>Date</th>\n",
       "      <th></th>\n",
       "      <th></th>\n",
       "      <th></th>\n",
       "      <th></th>\n",
       "      <th></th>\n",
       "      <th></th>\n",
       "      <th></th>\n",
       "      <th></th>\n",
       "      <th></th>\n",
       "      <th></th>\n",
       "      <th></th>\n",
       "    </tr>\n",
       "  </thead>\n",
       "  <tbody>\n",
       "    <tr>\n",
       "      <th>2001-01-02</th>\n",
       "      <td>62.44</td>\n",
       "      <td>0</td>\n",
       "      <td>16.84</td>\n",
       "      <td>4.9</td>\n",
       "      <td>64.92</td>\n",
       "      <td>56.73</td>\n",
       "      <td>0</td>\n",
       "      <td>45.62</td>\n",
       "      <td>0.09</td>\n",
       "      <td>36.78</td>\n",
       "      <td>23.41</td>\n",
       "    </tr>\n",
       "  </tbody>\n",
       "</table>\n",
       "</div>"
      ],
      "text/plain": [
       "            priceclose  priceiny  dailyreturn  atr  bbplus  bbminus  \\\n",
       "Date                                                                  \n",
       "2001-01-02       62.44         0        16.84  4.9   64.92    56.73   \n",
       "\n",
       "            smaNdummy    adx  macdspread    rsi  stochspread  \n",
       "Date                                                          \n",
       "2001-01-02          0  45.62        0.09  36.78        23.41  "
      ]
     },
     "execution_count": 21,
     "metadata": {},
     "output_type": "execute_result"
    }
   ],
   "source": [
    "df[df['dailyreturn'] == df['dailyreturn'].max()].round(2)"
   ]
  },
  {
   "cell_type": "code",
   "execution_count": 22,
   "metadata": {},
   "outputs": [
    {
     "data": {
      "image/png": "[encoded data removed]",
      "text/plain": [
       "<Figure size 1080x216 with 2 Axes>"
      ]
     },
     "metadata": {
      "needs_background": "light"
     },
     "output_type": "display_data"
    }
   ],
   "source": [
    "fig, ax = plt.subplots(1, 1, figsize=(15,3))\n",
    "sns.heatmap(df.corr()[0:1],vmin=-1,vmax=1,annot=True)\n",
    "ax.set_title('Correlation Analysis', size=15);"
   ]
  },
  {
   "cell_type": "markdown",
   "metadata": {},
   "source": [
    "Correlation Analysis:\n",
    "- The non-stationary time-series features are strongly positively correlated with the price close such as Bollinger bands, 10-day SMA, and ATR.\n",
    "\n",
    "Market-Related Analysis:\n",
    "- ATR is positively correlated with BB and 10-day SMA\n",
    "- ADX is negatively correlated with RSI\n",
    "- MACD Spread is positively correlated with daily price return"
   ]
  },
  {
   "cell_type": "markdown",
   "metadata": {},
   "source": [
    "## Feature Selection"
   ]
  },
  {
   "cell_type": "code",
   "execution_count": 23,
   "metadata": {},
   "outputs": [],
   "source": [
    "features = df[['atr', 'bbplus', 'bbminus','smaNdummy','adx','macdspread','rsi','stochspread']]\n",
    "features['priceiny'] = df['priceiny']\n",
    "features = df.fillna(value=df.mean())"
   ]
  },
  {
   "cell_type": "code",
   "execution_count": 24,
   "metadata": {},
   "outputs": [
    {
     "data": {
      "text/html": [
       "<div>\n",
       "<style scoped>\n",
       "    .dataframe tbody tr th:only-of-type {\n",
       "        vertical-align: middle;\n",
       "    }\n",
       "\n",
       "    .dataframe tbody tr th {\n",
       "        vertical-align: top;\n",
       "    }\n",
       "\n",
       "    .dataframe thead th {\n",
       "        text-align: right;\n",
       "    }\n",
       "</style>\n",
       "<table border=\"1\" class=\"dataframe\">\n",
       "  <thead>\n",
       "    <tr style=\"text-align: right;\">\n",
       "      <th></th>\n",
       "      <th>Features</th>\n",
       "      <th>Score</th>\n",
       "    </tr>\n",
       "  </thead>\n",
       "  <tbody>\n",
       "    <tr>\n",
       "      <th>1</th>\n",
       "      <td>priceiny</td>\n",
       "      <td>0.664936</td>\n",
       "    </tr>\n",
       "    <tr>\n",
       "      <th>4</th>\n",
       "      <td>bbplus</td>\n",
       "      <td>0.137085</td>\n",
       "    </tr>\n",
       "    <tr>\n",
       "      <th>5</th>\n",
       "      <td>bbminus</td>\n",
       "      <td>0.132294</td>\n",
       "    </tr>\n",
       "    <tr>\n",
       "      <th>0</th>\n",
       "      <td>priceclose</td>\n",
       "      <td>0.077644</td>\n",
       "    </tr>\n",
       "    <tr>\n",
       "      <th>3</th>\n",
       "      <td>atr</td>\n",
       "      <td>0.033056</td>\n",
       "    </tr>\n",
       "  </tbody>\n",
       "</table>\n",
       "</div>"
      ],
      "text/plain": [
       "     Features     Score\n",
       "1    priceiny  0.664936\n",
       "4      bbplus  0.137085\n",
       "5     bbminus  0.132294\n",
       "0  priceclose  0.077644\n",
       "3         atr  0.033056"
      ]
     },
     "execution_count": 24,
     "metadata": {},
     "output_type": "execute_result"
    }
   ],
   "source": [
    "from sklearn import feature_selection\n",
    "\n",
    "feature_rank = feature_selection.mutual_info_classif(features, features['priceiny'])\n",
    "feature_rank_df = pd.DataFrame(list(zip(features, feature_rank)), columns=['Features', 'Score'])\n",
    "feature_rank_df.sort_values(by='Score', ascending = False).head()"
   ]
  },
  {
   "cell_type": "markdown",
   "metadata": {},
   "source": [
    "## Split Dataset"
   ]
  },
  {
   "cell_type": "code",
   "execution_count": 25,
   "metadata": {},
   "outputs": [
    {
     "data": {
      "text/plain": [
       "5032"
      ]
     },
     "execution_count": 25,
     "metadata": {},
     "output_type": "execute_result"
    }
   ],
   "source": [
    "len(df)"
   ]
  },
  {
   "cell_type": "code",
   "execution_count": 26,
   "metadata": {},
   "outputs": [
    {
     "data": {
      "text/html": [
       "<div>\n",
       "<style scoped>\n",
       "    .dataframe tbody tr th:only-of-type {\n",
       "        vertical-align: middle;\n",
       "    }\n",
       "\n",
       "    .dataframe tbody tr th {\n",
       "        vertical-align: top;\n",
       "    }\n",
       "\n",
       "    .dataframe thead th {\n",
       "        text-align: right;\n",
       "    }\n",
       "</style>\n",
       "<table border=\"1\" class=\"dataframe\">\n",
       "  <thead>\n",
       "    <tr style=\"text-align: right;\">\n",
       "      <th></th>\n",
       "      <th>priceclose</th>\n",
       "      <th>priceiny</th>\n",
       "      <th>dailyreturn</th>\n",
       "      <th>atr</th>\n",
       "      <th>bbplus</th>\n",
       "      <th>bbminus</th>\n",
       "      <th>smaNdummy</th>\n",
       "      <th>adx</th>\n",
       "      <th>macdspread</th>\n",
       "      <th>rsi</th>\n",
       "      <th>stochspread</th>\n",
       "    </tr>\n",
       "    <tr>\n",
       "      <th>Date</th>\n",
       "      <th></th>\n",
       "      <th></th>\n",
       "      <th></th>\n",
       "      <th></th>\n",
       "      <th></th>\n",
       "      <th></th>\n",
       "      <th></th>\n",
       "      <th></th>\n",
       "      <th></th>\n",
       "      <th></th>\n",
       "      <th></th>\n",
       "    </tr>\n",
       "  </thead>\n",
       "  <tbody>\n",
       "    <tr>\n",
       "      <th>2000-10-12</th>\n",
       "      <td>81.25</td>\n",
       "      <td>0</td>\n",
       "      <td>NaN</td>\n",
       "      <td>NaN</td>\n",
       "      <td>NaN</td>\n",
       "      <td>NaN</td>\n",
       "      <td>0</td>\n",
       "      <td>NaN</td>\n",
       "      <td>NaN</td>\n",
       "      <td>NaN</td>\n",
       "      <td>NaN</td>\n",
       "    </tr>\n",
       "    <tr>\n",
       "      <th>2000-10-15</th>\n",
       "      <td>81.62</td>\n",
       "      <td>0</td>\n",
       "      <td>0.46</td>\n",
       "      <td>NaN</td>\n",
       "      <td>NaN</td>\n",
       "      <td>NaN</td>\n",
       "      <td>0</td>\n",
       "      <td>NaN</td>\n",
       "      <td>NaN</td>\n",
       "      <td>NaN</td>\n",
       "      <td>NaN</td>\n",
       "    </tr>\n",
       "    <tr>\n",
       "      <th>2000-10-16</th>\n",
       "      <td>78.25</td>\n",
       "      <td>0</td>\n",
       "      <td>-4.13</td>\n",
       "      <td>NaN</td>\n",
       "      <td>NaN</td>\n",
       "      <td>NaN</td>\n",
       "      <td>0</td>\n",
       "      <td>NaN</td>\n",
       "      <td>NaN</td>\n",
       "      <td>NaN</td>\n",
       "      <td>NaN</td>\n",
       "    </tr>\n",
       "    <tr>\n",
       "      <th>2000-10-17</th>\n",
       "      <td>78.00</td>\n",
       "      <td>0</td>\n",
       "      <td>-0.32</td>\n",
       "      <td>NaN</td>\n",
       "      <td>NaN</td>\n",
       "      <td>NaN</td>\n",
       "      <td>0</td>\n",
       "      <td>NaN</td>\n",
       "      <td>NaN</td>\n",
       "      <td>NaN</td>\n",
       "      <td>NaN</td>\n",
       "    </tr>\n",
       "    <tr>\n",
       "      <th>2000-10-18</th>\n",
       "      <td>85.06</td>\n",
       "      <td>0</td>\n",
       "      <td>9.05</td>\n",
       "      <td>NaN</td>\n",
       "      <td>NaN</td>\n",
       "      <td>NaN</td>\n",
       "      <td>0</td>\n",
       "      <td>NaN</td>\n",
       "      <td>NaN</td>\n",
       "      <td>NaN</td>\n",
       "      <td>NaN</td>\n",
       "    </tr>\n",
       "    <tr>\n",
       "      <th>...</th>\n",
       "      <td>...</td>\n",
       "      <td>...</td>\n",
       "      <td>...</td>\n",
       "      <td>...</td>\n",
       "      <td>...</td>\n",
       "      <td>...</td>\n",
       "      <td>...</td>\n",
       "      <td>...</td>\n",
       "      <td>...</td>\n",
       "      <td>...</td>\n",
       "      <td>...</td>\n",
       "    </tr>\n",
       "    <tr>\n",
       "      <th>2020-09-07</th>\n",
       "      <td>269.95</td>\n",
       "      <td>1</td>\n",
       "      <td>-4.81</td>\n",
       "      <td>6.91</td>\n",
       "      <td>296.27</td>\n",
       "      <td>278.22</td>\n",
       "      <td>0</td>\n",
       "      <td>15.70</td>\n",
       "      <td>-1.09</td>\n",
       "      <td>45.20</td>\n",
       "      <td>-56.36</td>\n",
       "    </tr>\n",
       "    <tr>\n",
       "      <th>2020-09-08</th>\n",
       "      <td>277.88</td>\n",
       "      <td>1</td>\n",
       "      <td>2.94</td>\n",
       "      <td>7.32</td>\n",
       "      <td>296.24</td>\n",
       "      <td>278.51</td>\n",
       "      <td>0</td>\n",
       "      <td>17.95</td>\n",
       "      <td>-0.18</td>\n",
       "      <td>50.36</td>\n",
       "      <td>-12.45</td>\n",
       "    </tr>\n",
       "    <tr>\n",
       "      <th>2020-09-09</th>\n",
       "      <td>272.34</td>\n",
       "      <td>1</td>\n",
       "      <td>-1.99</td>\n",
       "      <td>7.87</td>\n",
       "      <td>296.39</td>\n",
       "      <td>277.27</td>\n",
       "      <td>0</td>\n",
       "      <td>20.36</td>\n",
       "      <td>-0.82</td>\n",
       "      <td>47.22</td>\n",
       "      <td>-11.95</td>\n",
       "    </tr>\n",
       "    <tr>\n",
       "      <th>2020-09-10</th>\n",
       "      <td>270.45</td>\n",
       "      <td>1</td>\n",
       "      <td>-0.69</td>\n",
       "      <td>8.04</td>\n",
       "      <td>296.48</td>\n",
       "      <td>275.55</td>\n",
       "      <td>0</td>\n",
       "      <td>23.11</td>\n",
       "      <td>-0.81</td>\n",
       "      <td>43.40</td>\n",
       "      <td>-5.40</td>\n",
       "    </tr>\n",
       "    <tr>\n",
       "      <th>2020-09-13</th>\n",
       "      <td>275.16</td>\n",
       "      <td>1</td>\n",
       "      <td>1.74</td>\n",
       "      <td>8.29</td>\n",
       "      <td>296.26</td>\n",
       "      <td>274.56</td>\n",
       "      <td>0</td>\n",
       "      <td>26.11</td>\n",
       "      <td>-0.55</td>\n",
       "      <td>45.82</td>\n",
       "      <td>9.76</td>\n",
       "    </tr>\n",
       "  </tbody>\n",
       "</table>\n",
       "<p>5010 rows × 11 columns</p>\n",
       "</div>"
      ],
      "text/plain": [
       "            priceclose  priceiny  dailyreturn   atr  bbplus  bbminus  \\\n",
       "Date                                                                   \n",
       "2000-10-12       81.25         0          NaN   NaN     NaN      NaN   \n",
       "2000-10-15       81.62         0         0.46   NaN     NaN      NaN   \n",
       "2000-10-16       78.25         0        -4.13   NaN     NaN      NaN   \n",
       "2000-10-17       78.00         0        -0.32   NaN     NaN      NaN   \n",
       "2000-10-18       85.06         0         9.05   NaN     NaN      NaN   \n",
       "...                ...       ...          ...   ...     ...      ...   \n",
       "2020-09-07      269.95         1        -4.81  6.91  296.27   278.22   \n",
       "2020-09-08      277.88         1         2.94  7.32  296.24   278.51   \n",
       "2020-09-09      272.34         1        -1.99  7.87  296.39   277.27   \n",
       "2020-09-10      270.45         1        -0.69  8.04  296.48   275.55   \n",
       "2020-09-13      275.16         1         1.74  8.29  296.26   274.56   \n",
       "\n",
       "            smaNdummy    adx  macdspread    rsi  stochspread  \n",
       "Date                                                          \n",
       "2000-10-12          0    NaN         NaN    NaN          NaN  \n",
       "2000-10-15          0    NaN         NaN    NaN          NaN  \n",
       "2000-10-16          0    NaN         NaN    NaN          NaN  \n",
       "2000-10-17          0    NaN         NaN    NaN          NaN  \n",
       "2000-10-18          0    NaN         NaN    NaN          NaN  \n",
       "...               ...    ...         ...    ...          ...  \n",
       "2020-09-07          0  15.70       -1.09  45.20       -56.36  \n",
       "2020-09-08          0  17.95       -0.18  50.36       -12.45  \n",
       "2020-09-09          0  20.36       -0.82  47.22       -11.95  \n",
       "2020-09-10          0  23.11       -0.81  43.40        -5.40  \n",
       "2020-09-13          0  26.11       -0.55  45.82         9.76  \n",
       "\n",
       "[5010 rows x 11 columns]"
      ]
     },
     "execution_count": 26,
     "metadata": {},
     "output_type": "execute_result"
    }
   ],
   "source": [
    "df[:y].round(2)"
   ]
  },
  {
   "cell_type": "code",
   "execution_count": 27,
   "metadata": {},
   "outputs": [],
   "source": [
    "df = df.dropna()"
   ]
  },
  {
   "cell_type": "code",
   "execution_count": 28,
   "metadata": {},
   "outputs": [],
   "source": [
    "z = int(.70*len(df))\n",
    "x_train = df[['atr', 'bbplus', 'bbminus','smaNdummy', 'adx', 'macdspread', 'rsi','stochspread']][:z]\n",
    "y_train = df[['priceiny']][:z]\n",
    "\n",
    "x_test = df[['atr', 'bbplus', 'bbminus','smaNdummy', 'adx', 'macdspread', 'rsi','stochspread']][z:y]\n",
    "y_test = df[['priceiny']][z:y] #removed the end of the timeseries due to shifted Y labels"
   ]
  },
  {
   "cell_type": "markdown",
   "metadata": {},
   "source": [
    "## Data Preprocessing"
   ]
  },
  {
   "cell_type": "code",
   "execution_count": 29,
   "metadata": {},
   "outputs": [],
   "source": [
    "from sklearn.preprocessing import StandardScaler "
   ]
  },
  {
   "cell_type": "code",
   "execution_count": 30,
   "metadata": {},
   "outputs": [],
   "source": [
    "scaler = StandardScaler()\n",
    "std_x_train = scaler.fit(x_train).transform(x_train)\n",
    "std_x_test = scaler.fit(x_test).transform(x_test)"
   ]
  },
  {
   "cell_type": "code",
   "execution_count": 31,
   "metadata": {
    "scrolled": true
   },
   "outputs": [
    {
     "name": "stdout",
     "output_type": "stream",
     "text": [
      "[ 4.51733115  1.78724893  1.31105646 -1.18541966  1.18158009 -5.65679207\n",
      " -1.58655637 -0.74555719]\n",
      "[ 4.70574863  1.70636825  1.28702783 -1.18541966  1.24965424 -2.9359743\n",
      " -1.19230232  0.581341  ]\n"
     ]
    }
   ],
   "source": [
    "for i  in range(2):\n",
    "    print(std_x_train[i])"
   ]
  },
  {
   "cell_type": "markdown",
   "metadata": {},
   "source": [
    "## Classification Models"
   ]
  },
  {
   "cell_type": "markdown",
   "metadata": {},
   "source": [
    "### Benchmark"
   ]
  },
  {
   "cell_type": "code",
   "execution_count": 32,
   "metadata": {},
   "outputs": [
    {
     "name": "stdout",
     "output_type": "stream",
     "text": [
      "Positive vs Negative N-Day Return:  0.63\n"
     ]
    }
   ],
   "source": [
    "yratio = df['priceiny'][:y].sum()/len(df['priceiny'][:y])\n",
    "print('Positive vs Negative N-Day Return: ', yratio.round(2))"
   ]
  },
  {
   "cell_type": "markdown",
   "metadata": {},
   "source": [
    "### Logistic Regression\n",
    "Logistic regression is a way of modelling the probability of the positive outcome.\n",
    "- Logistic regression estimates a multiple linear regression function by trying to find the parameters $\\beta_0,\\beta_1$ such that our dependent variable $y$ has the form:\n",
    "$$ y = \\begin{cases} 1,\\,\\text{ if }\\,\\beta_0+\\beta_1x + \\epsilon > 0 \\\\ 0,\\,\\text{  otherwise  }\\end{cases} $$"
   ]
  },
  {
   "cell_type": "code",
   "execution_count": 33,
   "metadata": {},
   "outputs": [],
   "source": [
    "import sklearn as sk\n",
    "from sklearn import metrics, linear_model\n",
    "from sklearn.linear_model import LogisticRegression"
   ]
  },
  {
   "cell_type": "code",
   "execution_count": 34,
   "metadata": {},
   "outputs": [
    {
     "data": {
      "text/plain": [
       "LogisticRegression(C=1.0, class_weight=None, dual=False, fit_intercept=True,\n",
       "                   intercept_scaling=1, l1_ratio=None, max_iter=100,\n",
       "                   multi_class='auto', n_jobs=None, penalty='l2',\n",
       "                   random_state=None, solver='liblinear', tol=0.0001, verbose=0,\n",
       "                   warm_start=False)"
      ]
     },
     "execution_count": 34,
     "metadata": {},
     "output_type": "execute_result"
    }
   ],
   "source": [
    "log_model= linear_model.LogisticRegression(solver='liblinear')\n",
    "log_model.fit(std_x_train,y_train)"
   ]
  },
  {
   "cell_type": "code",
   "execution_count": 35,
   "metadata": {},
   "outputs": [
    {
     "name": "stdout",
     "output_type": "stream",
     "text": [
      "log N-day:  0.622\n"
     ]
    }
   ],
   "source": [
    "log_train_result = log_model.score(std_x_train, y_train).round(3)\n",
    "\n",
    "print('log N-day: ',log_train_result)"
   ]
  },
  {
   "cell_type": "markdown",
   "metadata": {},
   "source": [
    "### Decision Tree\n",
    "\n",
    "Source: https://medium.com/@chiragsehra42/decision-trees-explained-easily-28f23241248\n",
    "\n",
    "The objective is to find the smallest tree that fits the data. \n",
    "- Entropy: Calculate the homogeneity of a sample (0 for completely homogenous and 1 for equally divided)\n",
    "- A decision tree is about finding attributes that return the highest information gain (homogeneous branches)"
   ]
  },
  {
   "cell_type": "code",
   "execution_count": 36,
   "metadata": {},
   "outputs": [
    {
     "data": {
      "text/plain": [
       "DecisionTreeClassifier(ccp_alpha=0.0, class_weight=None, criterion='gini',\n",
       "                       max_depth=3, max_features=None, max_leaf_nodes=None,\n",
       "                       min_impurity_decrease=0.0, min_impurity_split=None,\n",
       "                       min_samples_leaf=1, min_samples_split=2,\n",
       "                       min_weight_fraction_leaf=0.0, presort='deprecated',\n",
       "                       random_state=None, splitter='best')"
      ]
     },
     "execution_count": 36,
     "metadata": {},
     "output_type": "execute_result"
    }
   ],
   "source": [
    "from sklearn import tree\n",
    "\n",
    "tree_model = tree.DecisionTreeClassifier(max_depth=3)\n",
    "tree_model.fit(std_x_train, y_train)"
   ]
  },
  {
   "cell_type": "code",
   "execution_count": 37,
   "metadata": {},
   "outputs": [
    {
     "name": "stdout",
     "output_type": "stream",
     "text": [
      "tree N-day:  0.637\n"
     ]
    }
   ],
   "source": [
    "tree_train_result = tree_model.score(std_x_train, y_train).round(3)\n",
    "\n",
    "print('tree N-day: ', tree_train_result)"
   ]
  },
  {
   "cell_type": "markdown",
   "metadata": {},
   "source": [
    "### SVM - Support Vector Classification\n",
    "Source: https://www.analyticsvidhya.com/blog/2017/09/understaing-support-vector-machine-example-code/"
   ]
  },
  {
   "cell_type": "markdown",
   "metadata": {},
   "source": [
    "Support Vector Machine (SVM) is a supervised machine learning algorithm which is useful in classification problems. \n",
    "- Plot each data item as a point in n-dimensional space (where n is the number of features you have) with the value of each feature being the value of a particular coordinate\n",
    "- Perform classification by finding the hyper-plane that differentiates the two classes very well\n",
    "- Find the line that maximizes the distances between nearest data point (either class) and hyper-plane, which is called the margin\n",
    "- When the features and labels are non-linear, the SVM 'RBF' kernel is preferred"
   ]
  },
  {
   "cell_type": "code",
   "execution_count": 38,
   "metadata": {},
   "outputs": [],
   "source": [
    "from sklearn.svm import SVC"
   ]
  },
  {
   "cell_type": "code",
   "execution_count": 39,
   "metadata": {},
   "outputs": [
    {
     "data": {
      "text/plain": [
       "SVC(C=1.0, break_ties=False, cache_size=200, class_weight=None, coef0=0.0,\n",
       "    decision_function_shape='ovr', degree=3, gamma='scale', kernel='rbf',\n",
       "    max_iter=-1, probability=False, random_state=None, shrinking=True,\n",
       "    tol=0.001, verbose=False)"
      ]
     },
     "execution_count": 39,
     "metadata": {},
     "output_type": "execute_result"
    }
   ],
   "source": [
    "svm_model = SVC(kernel='rbf')\n",
    "svm_model.fit(std_x_train,y_train)"
   ]
  },
  {
   "cell_type": "code",
   "execution_count": 40,
   "metadata": {},
   "outputs": [
    {
     "name": "stdout",
     "output_type": "stream",
     "text": [
      "svm N-day:  0.663\n"
     ]
    }
   ],
   "source": [
    "svm_train_result = svm_model.score(std_x_train, y_train).round(3)\n",
    "\n",
    "print('svm N-day: ', svm_train_result)"
   ]
  },
  {
   "cell_type": "markdown",
   "metadata": {},
   "source": [
    "## Model Validation"
   ]
  },
  {
   "cell_type": "markdown",
   "metadata": {},
   "source": [
    "### Confusion Matrix"
   ]
  },
  {
   "cell_type": "markdown",
   "metadata": {},
   "source": [
    "- True Positives (TP): These are cases in which we predicted 1 (the price would be up), and the price was actually up.\n",
    "- True Negatives (TN): We predicted that the price would be down, and it was down.\n",
    "- False Positives (FP): We predicted the price was up, but the price as down. (Also known as a \"Type I error.\")\n",
    "- False Negatives (FN): We predicted the price was down, but it was up. (Also known as a \"Type II error.\")"
   ]
  },
  {
   "cell_type": "code",
   "execution_count": 41,
   "metadata": {},
   "outputs": [
    {
     "ename": "NameError",
     "evalue": "name 'log_new' is not defined",
     "output_type": "error",
     "traceback": [
      "\u001b[0;31m---------------------------------------------------------------------------\u001b[0m",
      "\u001b[0;31mNameError\u001b[0m                                 Traceback (most recent call last)",
      "\u001b[0;32m<ipython-input-41-77175abe07be>\u001b[0m in \u001b[0;36m<module>\u001b[0;34m\u001b[0m\n\u001b[1;32m      2\u001b[0m \u001b[0;32mfrom\u001b[0m \u001b[0msklearn\u001b[0m\u001b[0;34m.\u001b[0m\u001b[0mmetrics\u001b[0m \u001b[0;32mimport\u001b[0m \u001b[0mConfusionMatrixDisplay\u001b[0m\u001b[0;34m\u001b[0m\u001b[0;34m\u001b[0m\u001b[0m\n\u001b[1;32m      3\u001b[0m \u001b[0;34m\u001b[0m\u001b[0m\n\u001b[0;32m----> 4\u001b[0;31m \u001b[0mlog_y_matrix\u001b[0m \u001b[0;34m=\u001b[0m \u001b[0mconfusion_matrix\u001b[0m\u001b[0;34m(\u001b[0m\u001b[0my_test\u001b[0m\u001b[0;34m,\u001b[0m\u001b[0mlog_new\u001b[0m\u001b[0;34m,\u001b[0m \u001b[0mlabels\u001b[0m\u001b[0;34m=\u001b[0m\u001b[0;34m[\u001b[0m\u001b[0;36m1\u001b[0m\u001b[0;34m,\u001b[0m\u001b[0;36m0\u001b[0m\u001b[0;34m]\u001b[0m\u001b[0;34m)\u001b[0m\u001b[0;34m\u001b[0m\u001b[0;34m\u001b[0m\u001b[0m\n\u001b[0m\u001b[1;32m      5\u001b[0m \u001b[0mConfusionMatrixDisplay\u001b[0m\u001b[0;34m(\u001b[0m\u001b[0mlog_y_matrix\u001b[0m\u001b[0;34m,\u001b[0m\u001b[0mdisplay_labels\u001b[0m \u001b[0;34m=\u001b[0m \u001b[0;34m[\u001b[0m\u001b[0;34m'up'\u001b[0m\u001b[0;34m,\u001b[0m\u001b[0;34m'down'\u001b[0m\u001b[0;34m]\u001b[0m\u001b[0;34m)\u001b[0m\u001b[0;34m.\u001b[0m\u001b[0mplot\u001b[0m\u001b[0;34m(\u001b[0m\u001b[0;34m)\u001b[0m\u001b[0;34m;\u001b[0m\u001b[0;34m\u001b[0m\u001b[0;34m\u001b[0m\u001b[0m\n",
      "\u001b[0;31mNameError\u001b[0m: name 'log_new' is not defined"
     ]
    }
   ],
   "source": [
    "from sklearn.metrics import confusion_matrix\n",
    "from sklearn.metrics import ConfusionMatrixDisplay\n",
    "\n",
    "log_y_matrix = confusion_matrix(y_test,log_new, labels=[1,0])\n",
    "ConfusionMatrixDisplay(log_y_matrix,display_labels = ['up','down']).plot();"
   ]
  },
  {
   "cell_type": "code",
   "execution_count": null,
   "metadata": {},
   "outputs": [],
   "source": [
    "tree_y_matrix = confusion_matrix(y_test,tree_new, labels=[1,0])\n",
    "ConfusionMatrixDisplay(tree_y_matrix, display_labels = ['up','down']).plot();"
   ]
  },
  {
   "cell_type": "code",
   "execution_count": null,
   "metadata": {},
   "outputs": [],
   "source": [
    "svm_y_matrix = confusion_matrix(y_test, svm_new,labels=[1,0])\n",
    "ConfusionMatrixDisplay(svm_y_matrix, display_labels = ['up','down']).plot(); "
   ]
  },
  {
   "cell_type": "markdown",
   "metadata": {},
   "source": [
    "### Accuracy"
   ]
  },
  {
   "cell_type": "code",
   "execution_count": null,
   "metadata": {},
   "outputs": [],
   "source": [
    "log_new = std_x_test\n",
    "log_new = log_model.predict(log_new)\n",
    "log_test_result = metrics.accuracy_score(log_new, y_test).round(3)\n",
    "print('log accuracy score: ', log_test_result)"
   ]
  },
  {
   "cell_type": "code",
   "execution_count": null,
   "metadata": {},
   "outputs": [],
   "source": [
    "tree_new = std_x_test\n",
    "tree_new = tree_model.predict(tree_new)\n",
    "tree_test_result = metrics.accuracy_score(tree_new, y_test).round(3)\n",
    "print('tree accuracy score: ',tree_test_result)"
   ]
  },
  {
   "cell_type": "code",
   "execution_count": null,
   "metadata": {},
   "outputs": [],
   "source": [
    "svm_new = std_x_test\n",
    "svm_new = svm_model.predict(svm_new)\n",
    "svm_test_result = metrics.accuracy_score(svm_new, y_test).round(3)\n",
    "print('svm accuracy score: ',svm_test_result)"
   ]
  },
  {
   "cell_type": "markdown",
   "metadata": {},
   "source": [
    "### Precision = 'Predicted' Total Positive"
   ]
  },
  {
   "cell_type": "markdown",
   "metadata": {},
   "source": [
    "The precision is the ratio tp / (tp + fp) where tp is the number of true positives and fp the number of false positives. The precision is intuitively the ability of the classifier not to label as positive a sample that is negative.\n",
    "\n",
    "Out of all the positive classes we have predicted correctly, how many are actually positive."
   ]
  },
  {
   "cell_type": "code",
   "execution_count": null,
   "metadata": {},
   "outputs": [],
   "source": [
    "from sklearn.metrics import precision_score\n",
    "log_precision = precision_score(log_new, y_test).round(3)\n",
    "print('log precision score: ', log_precision)"
   ]
  },
  {
   "cell_type": "code",
   "execution_count": null,
   "metadata": {},
   "outputs": [],
   "source": [
    "tree_precision = precision_score(tree_new, y_test).round(3)\n",
    "print('tree precision score: ', tree_precision)"
   ]
  },
  {
   "cell_type": "code",
   "execution_count": null,
   "metadata": {},
   "outputs": [],
   "source": [
    "svm_precision = precision_score(svm_new, y_test).round(3)\n",
    "print('svm precision score: ', svm_precision)"
   ]
  },
  {
   "cell_type": "markdown",
   "metadata": {},
   "source": [
    "### Recall = 'Actual' Total Positive"
   ]
  },
  {
   "cell_type": "markdown",
   "metadata": {},
   "source": [
    "The recall is the ratio tp / (tp + fn) where tp is the number of true positives and fn the number of false negatives. The recall is intuitively the ability of the classifier to find all the positive samples.\n",
    "\n",
    "Out of all the positive classes, we have predicted x correctly. It should be as high as possible."
   ]
  },
  {
   "cell_type": "code",
   "execution_count": null,
   "metadata": {},
   "outputs": [],
   "source": [
    "from sklearn.metrics import recall_score\n",
    "log_recall = recall_score(log_new, y_test).round(3)\n",
    "print('log recall score: ', log_recall)"
   ]
  },
  {
   "cell_type": "code",
   "execution_count": null,
   "metadata": {},
   "outputs": [],
   "source": [
    "tree_recall = recall_score(tree_new, y_test).round(3)\n",
    "print('tree recall score: ', tree_recall)"
   ]
  },
  {
   "cell_type": "code",
   "execution_count": null,
   "metadata": {},
   "outputs": [],
   "source": [
    "svm_recall = recall_score(svm_new, y_test).round(3)\n",
    "print('svm recall score: ', svm_recall)"
   ]
  },
  {
   "cell_type": "markdown",
   "metadata": {},
   "source": [
    "### F1 "
   ]
  },
  {
   "cell_type": "markdown",
   "metadata": {},
   "source": [
    "It is difficult to compare two models with low precision and high recall or vice versa. So, to make them comparable, we use F-Score. F-Score helps to measure Recall and Precision at the same time. \n",
    "\n",
    "The F1 score can be interpreted as a weighted mean of the precision and recall, where an F1 score reaches its best value at 1 and the worst score at 0. The relative contribution of precision and recall to the F1 score are equal. The formula for the F1 score is:\n",
    "\n",
    "F1 = 2 * (precision * recall) / (precision + recall)"
   ]
  },
  {
   "cell_type": "code",
   "execution_count": null,
   "metadata": {},
   "outputs": [],
   "source": [
    "from sklearn.metrics import f1_score\n",
    "log_f1 = f1_score(log_new, y_test).round(3)\n",
    "print('log f1 score: ', log_f1)"
   ]
  },
  {
   "cell_type": "code",
   "execution_count": null,
   "metadata": {},
   "outputs": [],
   "source": [
    "tree_f1 = f1_score(tree_new, y_test).round(3)\n",
    "print('tree f1 score: ', tree_f1)"
   ]
  },
  {
   "cell_type": "code",
   "execution_count": null,
   "metadata": {},
   "outputs": [],
   "source": [
    "svm_f1 = f1_score(svm_new, y_test).round(3)\n",
    "print('svm f1 score: ', svm_f1)"
   ]
  },
  {
   "cell_type": "markdown",
   "metadata": {},
   "source": [
    "## Looking Forward"
   ]
  },
  {
   "cell_type": "code",
   "execution_count": null,
   "metadata": {},
   "outputs": [],
   "source": [
    "fx_train = df[['atr', 'bbplus', 'bbminus','smaNdummy', 'adx', 'macdspread', 'rsi','stochspread']][:z]\n",
    "fy_train = df[['priceiny']][:z]\n",
    "\n",
    "fx_test = df[['atr', 'bbplus', 'bbminus','smaNdummy', 'adx', 'macdspread', 'rsi','stochspread']][z:]\n",
    "fy_test = df[['priceiny']][z:]\n",
    "\n",
    "fstd_x_train = scaler.fit(fx_train).transform(fx_train)\n",
    "fstd_x_test = scaler.fit(fx_test).transform(fx_test)\n",
    "\n",
    "log_model.fit(fstd_x_train,fy_train)\n",
    "flog_train = log_model.score(fstd_x_train, fy_train).round(3)\n",
    "flog_new = fstd_x_test\n",
    "flog_new = log_model.predict(flog_new)\n",
    "\n",
    "tree_model.fit(fstd_x_train,fy_train)\n",
    "ftree_train = tree_model.score(fstd_x_train, fy_train).round(3)\n",
    "ftree_new = fstd_x_test\n",
    "ftree_new = tree_model.predict(ftree_new)\n",
    "\n",
    "svm_model.fit(fstd_x_train,fy_train)\n",
    "fsvm_train = svm_model.score(fstd_x_train, fy_train).round(3)\n",
    "fsvm_new = fstd_x_test\n",
    "fsvm_new = svm_model.predict(fsvm_new)"
   ]
  },
  {
   "cell_type": "code",
   "execution_count": null,
   "metadata": {},
   "outputs": [],
   "source": [
    "fx_test['log_new'] = flog_new\n",
    "fx_test['tree_new'] = ftree_new\n",
    "fx_test['svm_new'] = fsvm_new"
   ]
  },
  {
   "cell_type": "code",
   "execution_count": null,
   "metadata": {},
   "outputs": [],
   "source": [
    "fx_test['price'] = df['priceclose']"
   ]
  },
  {
   "cell_type": "code",
   "execution_count": null,
   "metadata": {
    "scrolled": true
   },
   "outputs": [],
   "source": [
    "fx_test[-50:].round(2)"
   ]
  },
  {
   "cell_type": "code",
   "execution_count": null,
   "metadata": {},
   "outputs": [],
   "source": [
    "fx_test.index = pd.to_datetime(fx_test.index)"
   ]
  },
  {
   "cell_type": "code",
   "execution_count": null,
   "metadata": {},
   "outputs": [],
   "source": [
    "t= -180\n",
    "\n",
    "import matplotlib.gridspec as gridspec\n",
    "\n",
    "fig = plt.figure(figsize=(15,10))\n",
    "gridspec.GridSpec(4,1)\n",
    "\n",
    "plt.subplot2grid((5,1), (0,0),rowspan=2)  \n",
    "plt.plot(fx_test.index[t:],fx_test['price'][t:],label='Price', color='red')\n",
    "plt.xlabel('Time', size=12)\n",
    "plt.ylabel('Price',size=12)\n",
    "plt.legend()\n",
    "plt.xlim(fx_test.index[t],fx_test.index[-1])\n",
    "plt.title('Price and ML Models',size=14)\n",
    "plt.grid()\n",
    "fig.autofmt_xdate()\n",
    "\n",
    "plt.subplot2grid((5,1), (2,0),rowspan=1)\n",
    "plt.plot(fx_test.index[t:], fx_test['log_new'][t:],label='Log', color='blue')\n",
    "plt.xlabel('Time', size=12)\n",
    "plt.ylabel('Log Score',size=12)\n",
    "plt.xlim(fx_test.index[t],fx_test.index[-1])\n",
    "plt.title('Logistic Regression',size=14)\n",
    "plt.legend()\n",
    "plt.grid()\n",
    "fig.autofmt_xdate()\n",
    "\n",
    "plt.subplot2grid((5,1), (3,0),rowspan=1)\n",
    "plt.plot(fx_test.index[t:], fx_test['tree_new'][t:],label='Tree', color='green')\n",
    "plt.xlabel('Time', size=12)\n",
    "plt.ylabel('Tree Score',size=12)\n",
    "plt.xlim(fx_test.index[t],fx_test.index[-1])\n",
    "plt.title('Decision Tree',size=14)\n",
    "plt.legend()\n",
    "plt.grid()\n",
    "fig.autofmt_xdate()\n",
    "\n",
    "plt.subplot2grid((5,1), (4,0),rowspan=1)\n",
    "plt.plot(fx_test.index[t:], fx_test['svm_new'][t:],label='SVM', color='orange')\n",
    "plt.xlabel('Time', size=12)\n",
    "plt.ylabel('Tree Score',size=12)\n",
    "plt.xlim(fx_test.index[t],fx_test.index[-1])\n",
    "plt.title('Support Vector Machine',size=14)\n",
    "plt.legend()\n",
    "plt.grid()\n",
    "fig.autofmt_xdate()\n",
    "\n",
    "plt.show()"
   ]
  },
  {
   "cell_type": "markdown",
   "metadata": {},
   "source": [
    "The market should be (up=1, down=0) in N-days from now, where N-day was set at Y label at the beginning of the model. "
   ]
  },
  {
   "cell_type": "markdown",
   "metadata": {},
   "source": [
    "Good luck with the market! \n",
    "\n",
    "Guillaume Girard, CMT \n",
    "\n",
    "Fierce Research"
   ]
  },
  {
   "cell_type": "code",
   "execution_count": null,
   "metadata": {},
   "outputs": [],
   "source": []
  }
 ],
 "metadata": {
  "kernelspec": {
   "display_name": "Python 3",
   "language": "python",
   "name": "python3"
  },
  "language_info": {
   "codemirror_mode": {
    "name": "ipython",
    "version": 3
   },
   "file_extension": ".py",
   "mimetype": "text/x-python",
   "name": "python",
   "nbconvert_exporter": "python",
   "pygments_lexer": "ipython3",
   "version": "3.7.6"
  }
 },
 "nbformat": 4,
 "nbformat_minor": 4
}
